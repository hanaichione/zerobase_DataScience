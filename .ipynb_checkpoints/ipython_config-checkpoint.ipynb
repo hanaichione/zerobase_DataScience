{
 "cells": [
  {
   "cell_type": "markdown",
   "id": "136b4f2d",
   "metadata": {},
   "source": [
    "### ipython 설정\n",
    "- startup 파일 설정\n",
    "    - 주피터 노트북 실행 시 미리 실행되는 코드 설정\n",
    "    - import numpy as np\n",
    "    - 설정 방법\n",
    "        - 프로필 파일 생성 : `$ ipython profile create`\n",
    "        - startup 파일 수정"
   ]
  },
  {
   "cell_type": "code",
   "execution_count": null,
   "id": "8882cbc6",
   "metadata": {},
   "outputs": [],
   "source": []
  }
 ],
 "metadata": {
  "kernelspec": {
   "display_name": "Python 3",
   "language": "python",
   "name": "python3"
  },
  "language_info": {
   "codemirror_mode": {
    "name": "ipython",
    "version": 3
   },
   "file_extension": ".py",
   "mimetype": "text/x-python",
   "name": "python",
   "nbconvert_exporter": "python",
   "pygments_lexer": "ipython3",
   "version": "3.8.8"
  }
 },
 "nbformat": 4,
 "nbformat_minor": 5
}
