{
 "cells": [
  {
   "cell_type": "markdown",
   "id": "075c24f2",
   "metadata": {},
   "source": [
    "### 파이썬의 기본 문법\n",
    "- 변수 선언, 식별자, 자료형, 형변환, 연산자 학습"
   ]
  },
  {
   "cell_type": "markdown",
   "id": "9101b5a9",
   "metadata": {},
   "source": [
    "### 1. 주석(comment)과 출력(print)"
   ]
  },
  {
   "cell_type": "code",
   "execution_count": 1,
   "id": "01a4ee3b",
   "metadata": {},
   "outputs": [
    {
     "name": "stdout",
     "output_type": "stream",
     "text": [
      "1\n",
      "3\n"
     ]
    }
   ],
   "source": [
    "# 주석 : 앞에 #을 붙이면 코드로 실행이 안 됩니다.\n",
    "# 코드에 대한 설명이나 중간에 코드를 실행시키고 싶지 않을 때 사용\n",
    "# 단축키 : ctrl(cmd) + /\n",
    "# 블럭설정 : shift + 방향키/ alt + shift + 방향키 단어 단위로 블럭 설정\n",
    "\n",
    "# 1, 2, 3을 출력하는 코드\n",
    "print(1)\n",
    "# print(2)\n",
    "print(3)"
   ]
  },
  {
   "cell_type": "code",
   "execution_count": null,
   "id": "916e6c76",
   "metadata": {},
   "outputs": [],
   "source": [
    "# 출력 : print 함수\n",
    "# 코드 중간에 변수안에 들어있는 값을 확인하고 싶을 때 사용"
   ]
  },
  {
   "cell_type": "code",
   "execution_count": 3,
   "id": "f9de745b",
   "metadata": {},
   "outputs": [
    {
     "name": "stdout",
     "output_type": "stream",
     "text": [
      "2\n",
      "4\n"
     ]
    }
   ],
   "source": [
    "a = 1\n",
    "b = 2\n",
    "print(b)\n",
    "c = 3\n",
    "b = 4\n",
    "print(b)"
   ]
  },
  {
   "cell_type": "code",
   "execution_count": 5,
   "id": "4f71c20f",
   "metadata": {},
   "outputs": [
    {
     "name": "stdout",
     "output_type": "stream",
     "text": [
      "1-2\t3\n"
     ]
    }
   ],
   "source": [
    "# print 함수의 옵션\n",
    "# docstring : 함수에 대한 설명 : 단축키 shift + tab\n",
    "# 자동완성 : tab\n",
    "print(1, 2, sep=\"-\", end=\"\\t\")\n",
    "print(3)\n",
    "print"
   ]
  },
  {
   "cell_type": "code",
   "execution_count": 6,
   "id": "d2abc2b5",
   "metadata": {},
   "outputs": [],
   "source": [
    "python_data_science = 1"
   ]
  },
  {
   "cell_type": "code",
   "execution_count": 7,
   "id": "fa1f0ddf",
   "metadata": {},
   "outputs": [
    {
     "data": {
      "text/plain": [
       "1"
      ]
     },
     "execution_count": 7,
     "metadata": {},
     "output_type": "execute_result"
    }
   ],
   "source": [
    "python_data_science"
   ]
  },
  {
   "cell_type": "markdown",
   "id": "a794095b",
   "metadata": {},
   "source": [
    "### 2. 변수 선언\n",
    "- RAM 저장공간에 값을 할당하는 행위"
   ]
  },
  {
   "cell_type": "code",
   "execution_count": 10,
   "id": "ed0fdb4b",
   "metadata": {},
   "outputs": [
    {
     "data": {
      "text/plain": [
       "3"
      ]
     },
     "execution_count": 10,
     "metadata": {},
     "output_type": "execute_result"
    }
   ],
   "source": [
    "a = 1\n",
    "b = 2\n",
    "c = a + b\n",
    "c"
   ]
  },
  {
   "cell_type": "code",
   "execution_count": 11,
   "id": "a2a76f4c",
   "metadata": {},
   "outputs": [],
   "source": [
    "d, e = 3, 4\n",
    "f = g = 5"
   ]
  },
  {
   "cell_type": "markdown",
   "id": "10f07243",
   "metadata": {},
   "source": [
    "### 3. 식별자\n",
    "- 변수, 함수, 클래스, 모듈 등의 이름을 식별자라고 합니다.\n",
    "- 식별자 규칙\n",
    "    - 소문자, 대문자, 숫자, 언더스코어(_)를 사용합니다.\n",
    "    - 가장 앞에 숫자 사용 불가\n",
    "    - 예약어 사용 불가 : def, class, try, except ...\n",
    "    - 컨벤션\n",
    "        - snake case : fast_campus : 변수, 함수\n",
    "        - camel case : FastCampus, fastCapus : 클래스"
   ]
  },
  {
   "cell_type": "code",
   "execution_count": 12,
   "id": "ea9ef360",
   "metadata": {},
   "outputs": [],
   "source": [
    "# 10a = 5 오류"
   ]
  },
  {
   "cell_type": "code",
   "execution_count": 14,
   "id": "b22aef99",
   "metadata": {},
   "outputs": [],
   "source": [
    "# def = 1 오류"
   ]
  },
  {
   "cell_type": "markdown",
   "id": "f34db2f2",
   "metadata": {},
   "source": [
    "### 4. 데이터 타입\n",
    "- RAM 저장공간을 효율적으로 사용하기 위해서 저장공간의 타입을 설정\n",
    "- 동적타이핑\n",
    "    - 변수 선언시 저장되는 값에 따라서 자동으로 데이터 타입이 설정\n",
    "- 기본 데이터 타입 : int, float, bool, str\n",
    "- 컬렉션 데이터 타입 : list, tuple, dict"
   ]
  },
  {
   "cell_type": "code",
   "execution_count": 15,
   "id": "b81e1f09",
   "metadata": {},
   "outputs": [
    {
     "data": {
      "text/plain": [
       "(int, str)"
      ]
     },
     "execution_count": 15,
     "metadata": {},
     "output_type": "execute_result"
    }
   ],
   "source": [
    "a = 1\n",
    "# int a = 1\n",
    "# int a = \"python\" 오류\n",
    "b = \"python\"\n",
    "type(a), type(b)"
   ]
  },
  {
   "cell_type": "code",
   "execution_count": 16,
   "id": "09d30127",
   "metadata": {},
   "outputs": [
    {
     "data": {
      "text/plain": [
       "(int, float, bool, str)"
      ]
     },
     "execution_count": 16,
     "metadata": {},
     "output_type": "execute_result"
    }
   ],
   "source": [
    "# 기본 데이터 타입 : int, float, bool, str\n",
    "a = 1\n",
    "b = 1.2\n",
    "c = True # False\n",
    "d = \"data\"\n",
    "type(a), type(b), type(c), type(d)"
   ]
  },
  {
   "cell_type": "code",
   "execution_count": 19,
   "id": "978f2b2e",
   "metadata": {},
   "outputs": [
    {
     "data": {
      "text/plain": [
       "2.2"
      ]
     },
     "execution_count": 19,
     "metadata": {},
     "output_type": "execute_result"
    }
   ],
   "source": [
    "a + b"
   ]
  },
  {
   "cell_type": "code",
   "execution_count": 20,
   "id": "0d71ea7c",
   "metadata": {},
   "outputs": [
    {
     "ename": "TypeError",
     "evalue": "unsupported operand type(s) for +: 'int' and 'str'",
     "output_type": "error",
     "traceback": [
      "\u001b[1;31m---------------------------------------------------------------------------\u001b[0m",
      "\u001b[1;31mTypeError\u001b[0m                                 Traceback (most recent call last)",
      "\u001b[1;32m<ipython-input-20-4fbab87c839c>\u001b[0m in \u001b[0;36m<module>\u001b[1;34m\u001b[0m\n\u001b[1;32m----> 1\u001b[1;33m \u001b[0ma\u001b[0m \u001b[1;33m+\u001b[0m \u001b[0md\u001b[0m\u001b[1;33m\u001b[0m\u001b[1;33m\u001b[0m\u001b[0m\n\u001b[0m",
      "\u001b[1;31mTypeError\u001b[0m: unsupported operand type(s) for +: 'int' and 'str'"
     ]
    }
   ],
   "source": [
    "a + d"
   ]
  },
  {
   "cell_type": "code",
   "execution_count": 23,
   "id": "5928f1e4",
   "metadata": {},
   "outputs": [
    {
     "data": {
      "text/plain": [
       "'DATA'"
      ]
     },
     "execution_count": 23,
     "metadata": {},
     "output_type": "execute_result"
    }
   ],
   "source": [
    "# 데이터 타입에 함수 : 문자열(문자열 데이터 타입에 함수 이용하기)\n",
    "# upper : 대문자로 변환\n",
    "d.upper()"
   ]
  },
  {
   "cell_type": "code",
   "execution_count": 24,
   "id": "5ad32268",
   "metadata": {},
   "outputs": [
    {
     "data": {
      "text/plain": [
       "('data', 'DATA')"
      ]
     },
     "execution_count": 24,
     "metadata": {},
     "output_type": "execute_result"
    }
   ],
   "source": [
    "e = d.upper()\n",
    "d, e"
   ]
  },
  {
   "cell_type": "code",
   "execution_count": 25,
   "id": "73001e0e",
   "metadata": {},
   "outputs": [],
   "source": [
    "f = \"Fast cmpus\""
   ]
  },
  {
   "cell_type": "code",
   "execution_count": 26,
   "id": "1c595528",
   "metadata": {},
   "outputs": [
    {
     "data": {
      "text/plain": [
       "'fast cmpus'"
      ]
     },
     "execution_count": 26,
     "metadata": {},
     "output_type": "execute_result"
    }
   ],
   "source": [
    "# lower : 소문자로 변환\n",
    "f.lower()"
   ]
  },
  {
   "cell_type": "code",
   "execution_count": 27,
   "id": "3d185e32",
   "metadata": {},
   "outputs": [
    {
     "data": {
      "text/plain": [
       "'Fast cmpus'"
      ]
     },
     "execution_count": 27,
     "metadata": {},
     "output_type": "execute_result"
    }
   ],
   "source": [
    "# strip : 앞뒤 공백제거, 크롤링할 때 많이 사용\n",
    "f.strip()"
   ]
  },
  {
   "cell_type": "code",
   "execution_count": 28,
   "id": "86ea025f",
   "metadata": {},
   "outputs": [
    {
     "data": {
      "text/plain": [
       "'Slow cmpus'"
      ]
     },
     "execution_count": 28,
     "metadata": {},
     "output_type": "execute_result"
    }
   ],
   "source": [
    "# replace : 특정 문자열 치환\n",
    "f.replace(\"Fast\", \"Slow\")"
   ]
  },
  {
   "cell_type": "code",
   "execution_count": 29,
   "id": "8bbce5dd",
   "metadata": {},
   "outputs": [
    {
     "data": {
      "text/plain": [
       "['__add__',\n",
       " '__class__',\n",
       " '__contains__',\n",
       " '__delattr__',\n",
       " '__dir__',\n",
       " '__doc__',\n",
       " '__eq__',\n",
       " '__format__',\n",
       " '__ge__',\n",
       " '__getattribute__',\n",
       " '__getitem__',\n",
       " '__getnewargs__',\n",
       " '__gt__',\n",
       " '__hash__',\n",
       " '__init__',\n",
       " '__init_subclass__',\n",
       " '__iter__',\n",
       " '__le__',\n",
       " '__len__',\n",
       " '__lt__',\n",
       " '__mod__',\n",
       " '__mul__',\n",
       " '__ne__',\n",
       " '__new__',\n",
       " '__reduce__',\n",
       " '__reduce_ex__',\n",
       " '__repr__',\n",
       " '__rmod__',\n",
       " '__rmul__',\n",
       " '__setattr__',\n",
       " '__sizeof__',\n",
       " '__str__',\n",
       " '__subclasshook__',\n",
       " 'capitalize',\n",
       " 'casefold',\n",
       " 'center',\n",
       " 'count',\n",
       " 'encode',\n",
       " 'endswith',\n",
       " 'expandtabs',\n",
       " 'find',\n",
       " 'format',\n",
       " 'format_map',\n",
       " 'index',\n",
       " 'isalnum',\n",
       " 'isalpha',\n",
       " 'isascii',\n",
       " 'isdecimal',\n",
       " 'isdigit',\n",
       " 'isidentifier',\n",
       " 'islower',\n",
       " 'isnumeric',\n",
       " 'isprintable',\n",
       " 'isspace',\n",
       " 'istitle',\n",
       " 'isupper',\n",
       " 'join',\n",
       " 'ljust',\n",
       " 'lower',\n",
       " 'lstrip',\n",
       " 'maketrans',\n",
       " 'partition',\n",
       " 'replace',\n",
       " 'rfind',\n",
       " 'rindex',\n",
       " 'rjust',\n",
       " 'rpartition',\n",
       " 'rsplit',\n",
       " 'rstrip',\n",
       " 'split',\n",
       " 'splitlines',\n",
       " 'startswith',\n",
       " 'strip',\n",
       " 'swapcase',\n",
       " 'title',\n",
       " 'translate',\n",
       " 'upper',\n",
       " 'zfill']"
      ]
     },
     "execution_count": 29,
     "metadata": {},
     "output_type": "execute_result"
    }
   ],
   "source": [
    "dir(f)"
   ]
  },
  {
   "cell_type": "code",
   "execution_count": 30,
   "id": "7fd09509",
   "metadata": {},
   "outputs": [
    {
     "data": {
      "text/plain": [
       "'Fastcmpus'"
      ]
     },
     "execution_count": 30,
     "metadata": {},
     "output_type": "execute_result"
    }
   ],
   "source": [
    "f.replace(\" \", \"\")"
   ]
  },
  {
   "cell_type": "code",
   "execution_count": 31,
   "id": "493dc942",
   "metadata": {},
   "outputs": [],
   "source": [
    "# 오프셋 인덱스 : 마스크, 마스킹 : []\n",
    "# 문자열은 순서가 있는 문자들의 집합"
   ]
  },
  {
   "cell_type": "code",
   "execution_count": 32,
   "id": "694ade28",
   "metadata": {},
   "outputs": [],
   "source": [
    "g = \"abcdefg\""
   ]
  },
  {
   "cell_type": "code",
   "execution_count": 41,
   "id": "64e1d506",
   "metadata": {},
   "outputs": [
    {
     "data": {
      "text/plain": [
       "('c', 'f', 'cde', 'ab', 'defg', 'fg', 'aceg', 'gfedcba')"
      ]
     },
     "execution_count": 41,
     "metadata": {},
     "output_type": "execute_result"
    }
   ],
   "source": [
    "g[2], g[-2], g[2:5], g[:2], g[3:], g[-2:], g[::2], g[::-1]\n",
    "# 0부터 시작하고 [이상:미만], "
   ]
  },
  {
   "cell_type": "code",
   "execution_count": 42,
   "id": "6c31349d",
   "metadata": {},
   "outputs": [],
   "source": [
    "number = \"123456789\" # 97531 출력되도록 하라"
   ]
  },
  {
   "cell_type": "code",
   "execution_count": 43,
   "id": "f7846df0",
   "metadata": {},
   "outputs": [
    {
     "data": {
      "text/plain": [
       "'97531'"
      ]
     },
     "execution_count": 43,
     "metadata": {},
     "output_type": "execute_result"
    }
   ],
   "source": [
    "number[::-2] # 내방법"
   ]
  },
  {
   "cell_type": "code",
   "execution_count": 44,
   "id": "14f0e886",
   "metadata": {},
   "outputs": [
    {
     "data": {
      "text/plain": [
       "'97531'"
      ]
     },
     "execution_count": 44,
     "metadata": {},
     "output_type": "execute_result"
    }
   ],
   "source": [
    "result = number[::2]\n",
    "result[::-1]"
   ]
  },
  {
   "cell_type": "code",
   "execution_count": 45,
   "id": "52c0142a",
   "metadata": {},
   "outputs": [
    {
     "data": {
      "text/plain": [
       "3"
      ]
     },
     "execution_count": 45,
     "metadata": {},
     "output_type": "execute_result"
    }
   ],
   "source": [
    "a = 1\n",
    "b = 2\n",
    "a + b\n",
    "# ipython 마지막 줄 변수를 출력하는 기능이 있음"
   ]
  },
  {
   "cell_type": "code",
   "execution_count": 47,
   "id": "ce82bcf5",
   "metadata": {},
   "outputs": [],
   "source": [
    "a = 1\n",
    "b = 2\n",
    "a + b\n",
    "c = 5\n",
    "# 이렇게 하면 실행했을 때 아무것도 출력 안 됨"
   ]
  },
  {
   "cell_type": "code",
   "execution_count": 46,
   "id": "2847f960",
   "metadata": {},
   "outputs": [
    {
     "name": "stdout",
     "output_type": "stream",
     "text": [
      "3\n"
     ]
    }
   ],
   "source": [
    "a = 1\n",
    "b = 2\n",
    "print(a + b)"
   ]
  },
  {
   "cell_type": "markdown",
   "id": "0874784c",
   "metadata": {},
   "source": [
    "### 컬렉션 데이터 타입 : list, tuple, dict\n",
    "- list [] : 순서가 있는 수정이 가능한 데이터 타입\n",
    "- tuple () : 순서가 있는 수정이 불가능한 데이터 타입\n",
    "- dict {} : 순서가 없고 키:값 으로 구성되어 있는 데이터 타입"
   ]
  },
  {
   "cell_type": "code",
   "execution_count": 48,
   "id": "da0fa8f5",
   "metadata": {},
   "outputs": [
    {
     "data": {
      "text/plain": [
       "(list, [1, 2, 3, 'four', [5, 6], True, 1.2])"
      ]
     },
     "execution_count": 48,
     "metadata": {},
     "output_type": "execute_result"
    }
   ],
   "source": [
    "# list \n",
    "ls = [1, 2, 3, \"four\", [5, 6], True, 1.2]\n",
    "type(ls), ls"
   ]
  },
  {
   "cell_type": "code",
   "execution_count": 51,
   "id": "4e51960f",
   "metadata": {},
   "outputs": [
    {
     "data": {
      "text/plain": [
       "('four', [2, 3], [1.2, True, [5, 6], 'four', 3, 2, 1])"
      ]
     },
     "execution_count": 51,
     "metadata": {},
     "output_type": "execute_result"
    }
   ],
   "source": [
    "# offset index 사용이 가능\n",
    "ls[3], ls[1:3], ls[::-1]"
   ]
  },
  {
   "cell_type": "code",
   "execution_count": 52,
   "id": "bfb07ee6",
   "metadata": {},
   "outputs": [],
   "source": [
    "ls = [1, 5, 2, 4]"
   ]
  },
  {
   "cell_type": "code",
   "execution_count": 53,
   "id": "27900fbb",
   "metadata": {},
   "outputs": [
    {
     "data": {
      "text/plain": [
       "[1, 5, 2, 4, 3]"
      ]
     },
     "execution_count": 53,
     "metadata": {},
     "output_type": "execute_result"
    }
   ],
   "source": [
    "# append : 가장 뒤에 값을 추가\n",
    "ls.append(3)\n",
    "ls"
   ]
  },
  {
   "cell_type": "code",
   "execution_count": 56,
   "id": "aea4ef0f",
   "metadata": {},
   "outputs": [
    {
     "data": {
      "text/plain": [
       "[5, 4, 3, 2, 1]"
      ]
     },
     "execution_count": 56,
     "metadata": {},
     "output_type": "execute_result"
    }
   ],
   "source": [
    "# sort : 오름차순으로 정렬\n",
    "ls.sort()\n",
    "ls\n",
    "ls[::-1] #내림차순 정렬(따로 없음, 오름차순 후 역순)"
   ]
  },
  {
   "cell_type": "code",
   "execution_count": 64,
   "id": "e9f677d5",
   "metadata": {},
   "outputs": [
    {
     "data": {
      "text/plain": [
       "(3, [1, 2])"
      ]
     },
     "execution_count": 64,
     "metadata": {},
     "output_type": "execute_result"
    }
   ],
   "source": [
    "# pop : 가장 마지막 데이터를 출력하고 출력한 데이터를 삭제\n",
    "# ctrl + enter : 현재 셀을 계속 실행\n",
    "num = ls.pop() # 가장 마지막 데이터가 num에 들어가고 리스트에서는 삭제됨\n",
    "num, ls"
   ]
  },
  {
   "cell_type": "markdown",
   "id": "1c37186c",
   "metadata": {},
   "source": [
    "### 리스트의 복사 (중요!)"
   ]
  },
  {
   "cell_type": "code",
   "execution_count": 66,
   "id": "0f44a8d1",
   "metadata": {},
   "outputs": [
    {
     "data": {
      "text/plain": [
       "([1, 2, 3], [1, 2, 3])"
      ]
     },
     "execution_count": 66,
     "metadata": {},
     "output_type": "execute_result"
    }
   ],
   "source": [
    "ls1 = [1, 2, 3]\n",
    "ls2 = ls1 # 얕은 복사 : 주소값 복사\n",
    "ls1, ls2"
   ]
  },
  {
   "cell_type": "code",
   "execution_count": 67,
   "id": "58c12c91",
   "metadata": {},
   "outputs": [],
   "source": [
    "ls1[2] = 5"
   ]
  },
  {
   "cell_type": "code",
   "execution_count": 68,
   "id": "d2b8842f",
   "metadata": {},
   "outputs": [
    {
     "data": {
      "text/plain": [
       "([1, 2, 5], [1, 2, 5])"
      ]
     },
     "execution_count": 68,
     "metadata": {},
     "output_type": "execute_result"
    }
   ],
   "source": [
    "ls1, ls2\n",
    "# 값을 복사한 게 아니라 주소를 복사한 거라 원본이 바뀌어버림(주소를 공유해서 값까지 공유)"
   ]
  },
  {
   "cell_type": "code",
   "execution_count": 69,
   "id": "48d9525b",
   "metadata": {},
   "outputs": [
    {
     "data": {
      "text/plain": [
       "([1, 2, 5], [1, 2, 5])"
      ]
     },
     "execution_count": 69,
     "metadata": {},
     "output_type": "execute_result"
    }
   ],
   "source": [
    "ls3 = ls1.copy() # 원본은 살리고 복사본을 수정할 때 함수 사용\n",
    "ls1, ls3"
   ]
  },
  {
   "cell_type": "code",
   "execution_count": 70,
   "id": "ecb04080",
   "metadata": {},
   "outputs": [],
   "source": [
    "ls1[2] = 10"
   ]
  },
  {
   "cell_type": "code",
   "execution_count": 71,
   "id": "49085b9d",
   "metadata": {},
   "outputs": [
    {
     "data": {
      "text/plain": [
       "([1, 2, 10], [1, 2, 5])"
      ]
     },
     "execution_count": 71,
     "metadata": {},
     "output_type": "execute_result"
    }
   ],
   "source": [
    "ls1, ls3"
   ]
  },
  {
   "cell_type": "code",
   "execution_count": 72,
   "id": "d67f646b",
   "metadata": {},
   "outputs": [
    {
     "data": {
      "text/plain": [
       "([1, 2, 10], [1, 2, 10])"
      ]
     },
     "execution_count": 72,
     "metadata": {},
     "output_type": "execute_result"
    }
   ],
   "source": [
    "ls1, ls2"
   ]
  },
  {
   "cell_type": "markdown",
   "id": "d35f97b8",
   "metadata": {},
   "source": [
    "### Tuple : 리스트와 같지만 수정이 불가능한 데이터 타입\n",
    "- tuple은 리스트보다 (같은 데이터를 가졌을 때) 공간을 적게 사용\n",
    "- 리스트와 같지만 수정이 불가능한 데이터 타입"
   ]
  },
  {
   "cell_type": "code",
   "execution_count": 74,
   "id": "c631d7cb",
   "metadata": {},
   "outputs": [
    {
     "data": {
      "text/plain": [
       "(tuple, tuple, (1, 2, 3), (4, 5, 6))"
      ]
     },
     "execution_count": 74,
     "metadata": {},
     "output_type": "execute_result"
    }
   ],
   "source": [
    "tp1 = 1, 2, 3\n",
    "tp2 = (4, 5, 6) # 괄호 써서 쓰기\n",
    "type(tp1), type(tp2), tp1, tp2"
   ]
  },
  {
   "cell_type": "code",
   "execution_count": 75,
   "id": "8331d4eb",
   "metadata": {},
   "outputs": [
    {
     "data": {
      "text/plain": [
       "(1, 2)"
      ]
     },
     "execution_count": 75,
     "metadata": {},
     "output_type": "execute_result"
    }
   ],
   "source": [
    "a, b = 1, 2 # 얘네도 튜플, 여러 값을 한 번에 받을 수 있음\n",
    "a, b"
   ]
  },
  {
   "cell_type": "code",
   "execution_count": 76,
   "id": "5fb7494d",
   "metadata": {},
   "outputs": [
    {
     "data": {
      "text/plain": [
       "(2, (6, 5, 4))"
      ]
     },
     "execution_count": 76,
     "metadata": {},
     "output_type": "execute_result"
    }
   ],
   "source": [
    "#offset index 사용 가능\n",
    "tp1[1], tp2[::-1]"
   ]
  },
  {
   "cell_type": "code",
   "execution_count": 78,
   "id": "d6921086",
   "metadata": {},
   "outputs": [
    {
     "name": "stdout",
     "output_type": "stream",
     "text": [
      "80 64\n"
     ]
    }
   ],
   "source": [
    "# 리스트와 튜플의 저장공간 차이 비교\n",
    "import sys # 다른 사람이 짜 놓은 코드 가져옴\n",
    "\n",
    "ls = [1, 2, 3]\n",
    "tp = (1, 2, 3)\n",
    "\n",
    "print(sys.getsizeof(ls), sys.getsizeof(tp))"
   ]
  },
  {
   "cell_type": "markdown",
   "id": "647e6a7e",
   "metadata": {},
   "source": [
    "#### dict {}\n",
    "- 순서가 없고 {키:값} 으로 구성되어 있는 데이터 타입"
   ]
  },
  {
   "cell_type": "code",
   "execution_count": 81,
   "id": "3e9ae5b5",
   "metadata": {},
   "outputs": [
    {
     "data": {
      "text/plain": [
       "(dict, {1: 'one', 'two': 2, 'three': [1, 2, 3]})"
      ]
     },
     "execution_count": 81,
     "metadata": {},
     "output_type": "execute_result"
    }
   ],
   "source": [
    "# 선언 : 키는 정수, 문자열 데이터 타입만 사용이 가능\n",
    "# 인덱스 대신 키를 사용\n",
    "dic = {\n",
    "    1 : \"one\",\n",
    "    \"two\" : 2,\n",
    "    \"three\" : [1, 2, 3]\n",
    "}\n",
    "type(dic), dic"
   ]
  },
  {
   "cell_type": "code",
   "execution_count": 83,
   "id": "2f2a4337",
   "metadata": {},
   "outputs": [
    {
     "data": {
      "text/plain": [
       "('one', [1, 2, 3])"
      ]
     },
     "execution_count": 83,
     "metadata": {},
     "output_type": "execute_result"
    }
   ],
   "source": [
    "dic[1], dic[\"three\"]"
   ]
  },
  {
   "cell_type": "code",
   "execution_count": 86,
   "id": "3c816875",
   "metadata": {},
   "outputs": [],
   "source": [
    "dic[\"two\"] = 123"
   ]
  },
  {
   "cell_type": "code",
   "execution_count": 87,
   "id": "355be789",
   "metadata": {},
   "outputs": [
    {
     "data": {
      "text/plain": [
       "{1: 'one', 'two': 123, 'three': [1, 2, 3]}"
      ]
     },
     "execution_count": 87,
     "metadata": {},
     "output_type": "execute_result"
    }
   ],
   "source": [
    "dic"
   ]
  },
  {
   "cell_type": "code",
   "execution_count": 88,
   "id": "ebb40d70",
   "metadata": {},
   "outputs": [],
   "source": [
    "# 아래의 데이터를 list와 dict로 선언하시오.\n",
    "# 도시 : seoul, busan, daegu\n",
    "# 인구 : 9,700,000, 3,400,000, 2,400,000"
   ]
  },
  {
   "cell_type": "code",
   "execution_count": 91,
   "id": "c614fb6e",
   "metadata": {},
   "outputs": [],
   "source": [
    "# list\n",
    "city = [\"seoul\", \"busan\", \"daegu\"]\n",
    "population = [9700000, 3400000, 2400000]"
   ]
  },
  {
   "cell_type": "code",
   "execution_count": 92,
   "id": "990c052f",
   "metadata": {},
   "outputs": [],
   "source": [
    "#dict\n",
    "city_pop = {\"seoul\" : 97, \"busan\" : 34, \"daegu\" : 24}"
   ]
  },
  {
   "cell_type": "code",
   "execution_count": 95,
   "id": "092766ac",
   "metadata": {},
   "outputs": [
    {
     "data": {
      "text/plain": [
       "15500000"
      ]
     },
     "execution_count": 95,
     "metadata": {},
     "output_type": "execute_result"
    }
   ],
   "source": [
    "sum(population)"
   ]
  },
  {
   "cell_type": "code",
   "execution_count": 96,
   "id": "69a31eb9",
   "metadata": {},
   "outputs": [
    {
     "ename": "TypeError",
     "evalue": "unsupported operand type(s) for +: 'int' and 'str'",
     "output_type": "error",
     "traceback": [
      "\u001b[1;31m---------------------------------------------------------------------------\u001b[0m",
      "\u001b[1;31mTypeError\u001b[0m                                 Traceback (most recent call last)",
      "\u001b[1;32m<ipython-input-96-d02de9a8b9cf>\u001b[0m in \u001b[0;36m<module>\u001b[1;34m\u001b[0m\n\u001b[1;32m----> 1\u001b[1;33m \u001b[0msum\u001b[0m\u001b[1;33m(\u001b[0m\u001b[0mcity_pop\u001b[0m\u001b[1;33m)\u001b[0m\u001b[1;33m\u001b[0m\u001b[1;33m\u001b[0m\u001b[0m\n\u001b[0m",
      "\u001b[1;31mTypeError\u001b[0m: unsupported operand type(s) for +: 'int' and 'str'"
     ]
    }
   ],
   "source": [
    "sum(city_pop)"
   ]
  },
  {
   "cell_type": "code",
   "execution_count": 97,
   "id": "72353ecc",
   "metadata": {},
   "outputs": [
    {
     "data": {
      "text/plain": [
       "155"
      ]
     },
     "execution_count": 97,
     "metadata": {},
     "output_type": "execute_result"
    }
   ],
   "source": [
    "sum(city_pop.values())\n",
    "# 숫자만 집어주는 건가봐 .values()"
   ]
  },
  {
   "cell_type": "markdown",
   "id": "5c812a30",
   "metadata": {},
   "source": [
    "### 5. 형변환\n",
    "- 데이터 타입을 변환하는 방법\n",
    "- int, float, bool, str, list, tuple, dict"
   ]
  },
  {
   "cell_type": "code",
   "execution_count": 99,
   "id": "36aab4fc",
   "metadata": {},
   "outputs": [
    {
     "data": {
      "text/plain": [
       "3"
      ]
     },
     "execution_count": 99,
     "metadata": {},
     "output_type": "execute_result"
    }
   ],
   "source": [
    "a = 1\n",
    "b = \"2\"\n",
    "a + int(b)"
   ]
  },
  {
   "cell_type": "code",
   "execution_count": 100,
   "id": "ad467fb8",
   "metadata": {},
   "outputs": [
    {
     "data": {
      "text/plain": [
       "'12'"
      ]
     },
     "execution_count": 100,
     "metadata": {},
     "output_type": "execute_result"
    }
   ],
   "source": [
    "str(a) + b"
   ]
  },
  {
   "cell_type": "code",
   "execution_count": 102,
   "id": "d38fc802",
   "metadata": {},
   "outputs": [
    {
     "data": {
      "text/plain": [
       "[97, 34, 24]"
      ]
     },
     "execution_count": 102,
     "metadata": {},
     "output_type": "execute_result"
    }
   ],
   "source": [
    "list(city_pop.values())"
   ]
  },
  {
   "cell_type": "code",
   "execution_count": 104,
   "id": "83044dd5",
   "metadata": {},
   "outputs": [
    {
     "data": {
      "text/plain": [
       "[('seoul', 9700000), ('busan', 3400000), ('daegu', 2400000)]"
      ]
     },
     "execution_count": 104,
     "metadata": {},
     "output_type": "execute_result"
    }
   ],
   "source": [
    "# zip : 같은 인덱스 데이터를 묶어서 튜플로 만들어 리스트 생성\n",
    "list(zip(city, population))"
   ]
  },
  {
   "cell_type": "code",
   "execution_count": 107,
   "id": "3917dab5",
   "metadata": {},
   "outputs": [
    {
     "data": {
      "text/plain": [
       "{'seoul': 9700000, 'busan': 3400000, 'daegu': 2400000}"
      ]
     },
     "execution_count": 107,
     "metadata": {},
     "output_type": "execute_result"
    }
   ],
   "source": [
    "result = dict(list(zip(city, population)))\n",
    "result"
   ]
  },
  {
   "cell_type": "code",
   "execution_count": 108,
   "id": "ac55a6ca",
   "metadata": {},
   "outputs": [
    {
     "data": {
      "text/plain": [
       "(['seoul', 'busan', 'daegu'], [9700000, 3400000, 2400000])"
      ]
     },
     "execution_count": 108,
     "metadata": {},
     "output_type": "execute_result"
    }
   ],
   "source": [
    "data1 = list(result.keys())\n",
    "data2 = list(result.values())\n",
    "data1, data2"
   ]
  },
  {
   "cell_type": "code",
   "execution_count": 109,
   "id": "804d68f4",
   "metadata": {},
   "outputs": [
    {
     "ename": "ValueError",
     "evalue": "invalid literal for int() with base 10: 'python'",
     "output_type": "error",
     "traceback": [
      "\u001b[1;31m---------------------------------------------------------------------------\u001b[0m",
      "\u001b[1;31mValueError\u001b[0m                                Traceback (most recent call last)",
      "\u001b[1;32m<ipython-input-109-3eb1982ee741>\u001b[0m in \u001b[0;36m<module>\u001b[1;34m\u001b[0m\n\u001b[0;32m      1\u001b[0m \u001b[0mstring\u001b[0m \u001b[1;33m=\u001b[0m \u001b[1;34m\"python\"\u001b[0m\u001b[1;33m\u001b[0m\u001b[1;33m\u001b[0m\u001b[0m\n\u001b[1;32m----> 2\u001b[1;33m \u001b[0mint\u001b[0m\u001b[1;33m(\u001b[0m\u001b[0mstring\u001b[0m\u001b[1;33m)\u001b[0m\u001b[1;33m\u001b[0m\u001b[1;33m\u001b[0m\u001b[0m\n\u001b[0m",
      "\u001b[1;31mValueError\u001b[0m: invalid literal for int() with base 10: 'python'"
     ]
    }
   ],
   "source": [
    "# 형변환이 다 되는 것은 아님\n",
    "string = \"python\"\n",
    "int(string)"
   ]
  },
  {
   "cell_type": "markdown",
   "id": "d204a768",
   "metadata": {},
   "source": [
    "### 6. 연산자\n",
    "- 산술연산자 : +, - , *, /, //, %, **\n",
    "- 할당연산자 : 변수에 누적시켜서 연산 : +=, //=, **= ...\n",
    "- 비교연산자 : >, <, ==, !=, <=, >= : 결과로 True, False\n",
    "- 논리연산자 : True, False 를 연산 : or, and, not\n",
    "- 멤버연산자 : 특정 데이터가 있는지 확인할 때 사용 : not in, in"
   ]
  },
  {
   "cell_type": "code",
   "execution_count": 1,
   "id": "d9319cfc",
   "metadata": {},
   "outputs": [
    {
     "data": {
      "text/plain": [
       "3"
      ]
     },
     "execution_count": 1,
     "metadata": {},
     "output_type": "execute_result"
    }
   ],
   "source": [
    "a = 1\n",
    "b = 2\n",
    "a + b"
   ]
  },
  {
   "cell_type": "code",
   "execution_count": 2,
   "id": "f4119a93",
   "metadata": {},
   "outputs": [
    {
     "data": {
      "text/plain": [
       "1.25"
      ]
     },
     "execution_count": 2,
     "metadata": {},
     "output_type": "execute_result"
    }
   ],
   "source": [
    "(1 + 4) / 2 ** 2\n",
    "# 연산자 우선순위 : 산술 > 비교 > 멤버 > 논리"
   ]
  },
  {
   "cell_type": "code",
   "execution_count": 4,
   "id": "65884cd6",
   "metadata": {},
   "outputs": [
    {
     "data": {
      "text/plain": [
       "30"
      ]
     },
     "execution_count": 4,
     "metadata": {},
     "output_type": "execute_result"
    }
   ],
   "source": [
    "a = 10\n",
    "# a = a + 10\n",
    "# a = a + 10\n",
    "a += 10\n",
    "a += 10\n",
    "a"
   ]
  },
  {
   "cell_type": "code",
   "execution_count": 6,
   "id": "64d200ff",
   "metadata": {},
   "outputs": [
    {
     "name": "stdout",
     "output_type": "stream",
     "text": [
      "30 2\n"
     ]
    },
    {
     "data": {
      "text/plain": [
       "(False, False, True)"
      ]
     },
     "execution_count": 6,
     "metadata": {},
     "output_type": "execute_result"
    }
   ],
   "source": [
    "# 비교연산\n",
    "print(a, b)\n",
    "a < b, a == b, a != b"
   ]
  },
  {
   "cell_type": "code",
   "execution_count": 9,
   "id": "65170629",
   "metadata": {},
   "outputs": [
    {
     "data": {
      "text/plain": [
       "(False, True, False)"
      ]
     },
     "execution_count": 9,
     "metadata": {},
     "output_type": "execute_result"
    }
   ],
   "source": [
    "# 논리연산\n",
    "True and False, True or False, not True or False"
   ]
  },
  {
   "cell_type": "code",
   "execution_count": 11,
   "id": "965c97eb",
   "metadata": {},
   "outputs": [],
   "source": [
    "# 멤버 연산\n",
    "ls = [\"jin\", \"andy\", \"jhon\"]"
   ]
  },
  {
   "cell_type": "code",
   "execution_count": 12,
   "id": "e378dd00",
   "metadata": {},
   "outputs": [
    {
     "data": {
      "text/plain": [
       "(True, False, False)"
      ]
     },
     "execution_count": 12,
     "metadata": {},
     "output_type": "execute_result"
    }
   ],
   "source": [
    "\"andy\" in ls, \"anchel\" in ls, \"jhon\" not in ls"
   ]
  },
  {
   "cell_type": "code",
   "execution_count": 20,
   "id": "ee201fb3",
   "metadata": {},
   "outputs": [
    {
     "data": {
      "text/plain": [
       "10"
      ]
     },
     "execution_count": 20,
     "metadata": {},
     "output_type": "execute_result"
    }
   ],
   "source": [
    "### 랜덤함수\n",
    "import random\n",
    "\n",
    "random.randint(1, 10)"
   ]
  },
  {
   "cell_type": "code",
   "execution_count": 22,
   "id": "75bc8005",
   "metadata": {},
   "outputs": [
    {
     "name": "stdout",
     "output_type": "stream",
     "text": [
      "insert string : 안녕하세요\n"
     ]
    },
    {
     "data": {
      "text/plain": [
       "'안녕하세요'"
      ]
     },
     "execution_count": 22,
     "metadata": {},
     "output_type": "execute_result"
    }
   ],
   "source": [
    "# 입력함수\n",
    "data = input(\"insert string : \")\n",
    "data"
   ]
  },
  {
   "cell_type": "code",
   "execution_count": 23,
   "id": "f79ae30a",
   "metadata": {},
   "outputs": [],
   "source": [
    "# 해결의 책 : 질문을 하면 질문에 대한 답변을 해주는 책"
   ]
  },
  {
   "cell_type": "code",
   "execution_count": 24,
   "id": "01d12323",
   "metadata": {},
   "outputs": [],
   "source": [
    "# 솔루션을 리스트로 작성\n",
    "# 질문 입력 받음\n",
    "# 솔루션의 개수에 맞게 랜덤한 index 정수 값을 생성\n",
    "# index 해당하는 솔루션 리스트의 데이터를 출력"
   ]
  },
  {
   "cell_type": "code",
   "execution_count": 26,
   "id": "b790c414",
   "metadata": {},
   "outputs": [
    {
     "name": "stdout",
     "output_type": "stream",
     "text": [
      "질문을 입력하세요 : 오늘 저녁에 맛있는 것을 먹을 수 있을까요?\n"
     ]
    },
    {
     "data": {
      "text/plain": [
       "'무엇을 하든 잘 안 될 것이다.'"
      ]
     },
     "execution_count": 26,
     "metadata": {},
     "output_type": "execute_result"
    }
   ],
   "source": [
    "# 솔루션을 리스트로 작성\n",
    "solutions = [\n",
    "    \"무엇을 하든 잘 안 될 것이다.\",\n",
    "    \"생각지도 않게 좋은 일이 생길 것이다.\",\n",
    "    \"무엇을 상상하든 그 이상이다.\"\n",
    "]\n",
    "\n",
    "# 질문 입력 받음\n",
    "input(\"질문을 입력하세요 : \")\n",
    "\n",
    "# 솔루션의 개수에 맞게 랜덤한 index 정수 값을 생성\n",
    "idx = random.randint(0, len(solutions)-1)\n",
    "\n",
    "# index 해당하는 솔루션 리스트의 데이터를 출력\n",
    "solutions[idx]"
   ]
  },
  {
   "cell_type": "code",
   "execution_count": null,
   "id": "3db6e210",
   "metadata": {},
   "outputs": [],
   "source": []
  }
 ],
 "metadata": {
  "kernelspec": {
   "display_name": "Python 3",
   "language": "python",
   "name": "python3"
  },
  "language_info": {
   "codemirror_mode": {
    "name": "ipython",
    "version": 3
   },
   "file_extension": ".py",
   "mimetype": "text/x-python",
   "name": "python",
   "nbconvert_exporter": "python",
   "pygments_lexer": "ipython3",
   "version": "3.8.8"
  }
 },
 "nbformat": 4,
 "nbformat_minor": 5
}
