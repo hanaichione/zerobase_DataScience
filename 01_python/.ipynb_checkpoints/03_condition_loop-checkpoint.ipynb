{
 "cells": [
  {
   "cell_type": "markdown",
   "id": "d3a24bc9",
   "metadata": {},
   "source": [
    "### summary\n",
    "- jupyter notebook\n",
    "    - mode : 명령모드, 편집모드\n",
    "    - style : markdown, code\n",
    "    - 단축키\n",
    "        - 실행 : shift + enter\n",
    "        - 자동완성 : tab\n",
    "        - docstring 보기 : shift + tab\n",
    "        - 주석설정 : cmd(ctrl) + /\n",
    "        - 셀 생성 : a(위에), b(아래)\n",
    "- python 기본 문법\n",
    "    - 변수 선언 : RAM 저장공간에 값을 할당하는 행위\n",
    "    - 식별자 규칙\n",
    "        - 대문자, 소문자, 숫자, _\n",
    "        - 가장 앞글자 숫자사용 불가\n",
    "        - 예약어 사용이 불가 : def, class, try ...\n",
    "        - snake_case(변수, 함수), CamelCase(클래스)\n",
    "        - pep8 문서(식별자 등 컨벤션 규칙)\n",
    "    - 데이터 타입\n",
    "        - 동적타이핑 : 자동으로 저장공간의 데이터 타입이 설정\n",
    "        - 기본 데이터 타입 : int, float, boo, str\n",
    "        - 컬렉션 데이터 타입 : list(iterable), tuple(iterable 순서가 있음), dict\n",
    "        - offset index : 특정 위치의 데이터를 출력할 때 사용\n",
    "            - [idx] : idx 위치 데이터를 출력\n",
    "            - [start : end] : start에서 end까지 출력(end는 불포함)\n",
    "            - [start : end : stride] : stride 만큼씩 점프하여 출력\n",
    "        - 각 데이터 타입별로 함수가 존재(upper 등)\n",
    "    - 형변환\n",
    "        - 이미 변수에 설정된 데이터 타입을 변경하는 행위\n",
    "        - zip\n",
    "            - 여러개의 리스트를 같은 인덱스끼리 묶어주는 함수\n",
    "            - 두개의 리스트를 묶어서 dict 형변환\n",
    "    - 연산자\n",
    "        - 산술 : +, -, /, //, %, **\n",
    "        - 할당 : A (산술)= (data)\n",
    "        - 비교 : <, >, ==, !=, <=, >=\n",
    "        - 논리 : and, or, not\n",
    "        - 멤버 : in, not in"
   ]
  },
  {
   "cell_type": "markdown",
   "id": "4e06f4a3",
   "metadata": {},
   "source": [
    "### 1. 조건문\n",
    "- 특정 조건에 따라서 코드를 실행하고자 할 때 사용\n",
    "- if, else, elif"
   ]
  },
  {
   "cell_type": "code",
   "execution_count": 4,
   "id": "5fccf55d",
   "metadata": {},
   "outputs": [],
   "source": [
    "# 조건부문에 bool 데이터 타입 이외의 데이터 타입이 오면 bool으로 형변환 되어 판단\n",
    "\n",
    "if False :\n",
    "    print(\"python\")\n",
    "    \n",
    "    print(\"done\")"
   ]
  },
  {
   "cell_type": "code",
   "execution_count": 5,
   "id": "b1398d53",
   "metadata": {},
   "outputs": [
    {
     "data": {
      "text/plain": [
       "(False, True, True, True)"
      ]
     },
     "execution_count": 5,
     "metadata": {},
     "output_type": "execute_result"
    }
   ],
   "source": [
    "# int : 0을 제외한 나머지 값을 True\n",
    "bool(0), bool(1), bool(-1), bool(100)"
   ]
  },
  {
   "cell_type": "code",
   "execution_count": 6,
   "id": "7caaca5f",
   "metadata": {},
   "outputs": [
    {
     "name": "stdout",
     "output_type": "stream",
     "text": [
      "phthon_2\n"
     ]
    }
   ],
   "source": [
    "num = 0\n",
    "\n",
    "if num:\n",
    "    print(\"python_1\")\n",
    "    \n",
    "num = 1\n",
    "\n",
    "if num:\n",
    "    print(\"phthon_2\")"
   ]
  },
  {
   "cell_type": "code",
   "execution_count": 9,
   "id": "f055232b",
   "metadata": {},
   "outputs": [
    {
     "name": "stdout",
     "output_type": "stream",
     "text": [
      "홀수\n"
     ]
    }
   ],
   "source": [
    "number = 7\n",
    "\n",
    "# if number % 2 == 1:\n",
    "#     print(\"홀수\")\n",
    "\n",
    "if number % 2:\n",
    "    print(\"홀수\")\n",
    "    \n",
    "# 0은 무조건 False라 출력이 안 되기 때문에 짝수면 출력이 안 됨 나머지 == 1 필요 없음"
   ]
  },
  {
   "cell_type": "markdown",
   "id": "41f0d369",
   "metadata": {},
   "source": [
    "### int : 0을 제외한 나머지 값을 True\n",
    "### float : 0.0을 제외한 나머지 실수는 True\n",
    "### str : \"\"를 제외한 나머지 문자열은 True\n",
    "### list, tuple, dict : [], (), {}를 제외한 나머지는 True"
   ]
  },
  {
   "cell_type": "code",
   "execution_count": 15,
   "id": "7f42a5bc",
   "metadata": {},
   "outputs": [],
   "source": [
    "fruit = [\"banana\", \"apple\", \"grape\"]\n",
    "alpha = (1, 2)\n",
    "num = {7:\"행운\", 4:\"불운\"}"
   ]
  },
  {
   "cell_type": "code",
   "execution_count": 16,
   "id": "e84de334",
   "metadata": {},
   "outputs": [
    {
     "data": {
      "text/plain": [
       "(True, True, True)"
      ]
     },
     "execution_count": 16,
     "metadata": {},
     "output_type": "execute_result"
    }
   ],
   "source": [
    "bool(fruit), bool(alpha), bool(num)"
   ]
  },
  {
   "cell_type": "code",
   "execution_count": 17,
   "id": "a9f5ea22",
   "metadata": {},
   "outputs": [],
   "source": [
    "a = []\n",
    "b = 0.0\n",
    "str_1 = \"\""
   ]
  },
  {
   "cell_type": "code",
   "execution_count": 18,
   "id": "c75e13be",
   "metadata": {},
   "outputs": [
    {
     "data": {
      "text/plain": [
       "(False, False, False)"
      ]
     },
     "execution_count": 18,
     "metadata": {},
     "output_type": "execute_result"
    }
   ],
   "source": [
    "bool(a), bool(b), bool(str_1)"
   ]
  },
  {
   "cell_type": "markdown",
   "id": "2045c045",
   "metadata": {},
   "source": [
    "### 지갑에 돈이 10000원 이상 있으면 택시를 타고 그렇지 않으면 걸어서 집에 갑니다."
   ]
  },
  {
   "cell_type": "code",
   "execution_count": 25,
   "id": "17d501f6",
   "metadata": {},
   "outputs": [
    {
     "name": "stdout",
     "output_type": "stream",
     "text": [
      "소지금 : 10000\n",
      "택시를 탄다.\n"
     ]
    }
   ],
   "source": [
    "money = input(\"소지금 : \")\n",
    "money_num = int(money)\n",
    "\n",
    "if money_num >= 10000 :\n",
    "    print(\"택시를 탄다.\")\n",
    "else :\n",
    "    print(\"걸어서 간다.\")"
   ]
  },
  {
   "cell_type": "code",
   "execution_count": 27,
   "id": "649bf6a6",
   "metadata": {},
   "outputs": [
    {
     "name": "stdout",
     "output_type": "stream",
     "text": [
      "택시를 타고 집에 갑니다.\n"
     ]
    }
   ],
   "source": [
    "money_2 = 12000\n",
    "\n",
    "if money_2 >= 10000 :\n",
    "    print(\"택시를 타고 집에 갑니다.\")\n",
    "else : \n",
    "    print(\"걸어서 집에 갑니다.\")"
   ]
  },
  {
   "cell_type": "markdown",
   "id": "93ad0ecc",
   "metadata": {},
   "source": [
    "# Q 궁금한 거\n",
    "- 입력을 받을 때는 무조건 문자열로 받나요? 네~\n",
    "- 정수나 실수 등으로 입력 받을 수는 없나요?"
   ]
  },
  {
   "cell_type": "markdown",
   "id": "d142c294",
   "metadata": {},
   "source": [
    "### 지갑에 돈이 만원 이상 있으면 택시를 탑니다.\n",
    "### 2000원 이상 있으면 버스를 탑니다.\n",
    "### 그렇지 않으면 걸어서 집에 갑니다."
   ]
  },
  {
   "cell_type": "code",
   "execution_count": 34,
   "id": "f427de35",
   "metadata": {},
   "outputs": [
    {
     "name": "stdout",
     "output_type": "stream",
     "text": [
      "광역버스를 타고 집에 갑니다.\n"
     ]
    }
   ],
   "source": [
    "money = 6000\n",
    "\n",
    "if money >= 10000 :\n",
    "    print(\"택시를 타고 집에 갑니다.\")\n",
    "elif money >= 5000 : \n",
    "    print(\"광역버스를 타고 집에 갑니다.\")\n",
    "elif money >= 2000 : # and money < 10000 : 10000원 이상이면 위에서 하고 바로 나옴, 생략 가능\n",
    "    print(\"버스를 타고 집에 갑니다.\")\n",
    "else :\n",
    "    print(\"걸어서 집에 갑니다.\")"
   ]
  },
  {
   "cell_type": "markdown",
   "id": "ea384dc7",
   "metadata": {},
   "source": [
    "### 연습문제\n",
    "- 계좌에 10000원이 들어있습니다.\n",
    "- 인출 금액을 입력 받습니다.\n",
    "- 인출 금액이 계좌에 있는 금액보다 크면 \"인출이 불가능합니다.\" 출력\n",
    "- 인출 금액이 계좌에 있는 금액보다 작으면 \"인출이 되었습니다.\" 출력\n",
    "- 마지막에 현재 계좌의 잔액을 출력"
   ]
  },
  {
   "cell_type": "code",
   "execution_count": 42,
   "id": "357cbeb8",
   "metadata": {},
   "outputs": [
    {
     "name": "stdout",
     "output_type": "stream",
     "text": [
      "인출 금액 : 2000\n",
      "인출이 되었습니다.\n",
      "잔액 : 8000\n"
     ]
    }
   ],
   "source": [
    "balance_money = 10000\n",
    "\n",
    "draw_money = int(input(\"인출 금액 : \"))\n",
    "\n",
    "if draw_money > balance_money :\n",
    "    print(\"인출이 불가능합니다.\")\n",
    "else : \n",
    "    print(\"인출이 되었습니다.\")\n",
    "    print(\"잔액 :\", balance_money - draw_money)"
   ]
  },
  {
   "cell_type": "code",
   "execution_count": 44,
   "id": "f80ac15d",
   "metadata": {},
   "outputs": [
    {
     "name": "stdout",
     "output_type": "stream",
     "text": [
      "insert draw money: 3000\n",
      "3000 원이 인출되었습니다.\n",
      "현재 잔액은 7000 원 입니다.\n"
     ]
    }
   ],
   "source": [
    "account = 10000\n",
    "\n",
    "draw_money = int(input(\"insert draw money: \"))\n",
    "\n",
    "if account >= draw_money:\n",
    "    account -= draw_money\n",
    "    print(draw_money, \"원이 인출되었습니다.\") # print(str(draw_money) + \"원이 인출되었습니다.\") 가능\n",
    "else:\n",
    "    print(\"인출이 불가능합니다.\", draw_money - account, \"원의 잔액이 부족합니다.\")\n",
    "    \n",
    "print(\"현재 잔액은\", account, \"원 입니다.\")"
   ]
  },
  {
   "cell_type": "code",
   "execution_count": 50,
   "id": "7005f61f",
   "metadata": {},
   "outputs": [
    {
     "name": "stdout",
     "output_type": "stream",
     "text": [
      "현재 잔액은 7000 원 입니다.\n",
      "현재 잔액은 7000 원 입니다. 인출 금액은 3000 원 입니다.\n",
      "현재 잔액은 7000 원 입니다. 인출 금액은 3000 원 입니다.\n"
     ]
    }
   ],
   "source": [
    "# string 데이터 타입의 format 함수\n",
    "print(\"현재 잔액은 \" + str(account) + \" 원 입니다.\") # , 콤마로 구분하면 띄어쓰기가 생기나봄\n",
    "print(\"현재 잔액은 {} 원 입니다. 인출 금액은 {} 원 입니다.\".format(account, draw_money))\n",
    "print(\"현재 잔액은 {data2} 원 입니다. 인출 금액은 {data1} 원 입니다.\".format(data1=draw_money, data2=account))"
   ]
  },
  {
   "cell_type": "markdown",
   "id": "6bda695c",
   "metadata": {},
   "source": [
    "### 삼항연산자\n",
    "- 간단한 if, else 구문을 한줄의 코드로 표현할 수 있는 방법\n",
    "- (True) if(condition) else(Flase)"
   ]
  },
  {
   "cell_type": "code",
   "execution_count": 51,
   "id": "abb96953",
   "metadata": {},
   "outputs": [
    {
     "name": "stdout",
     "output_type": "stream",
     "text": [
      "zero\n"
     ]
    }
   ],
   "source": [
    "# data 변수에 0이면 \"zero\" 출력, 아니면 \"not zero\" 출력\n",
    "\n",
    "data = 0\n",
    "\n",
    "if data :\n",
    "    print(\"not zero\")\n",
    "else : \n",
    "    print(\"zero\")"
   ]
  },
  {
   "cell_type": "code",
   "execution_count": 54,
   "id": "2851dc0b",
   "metadata": {},
   "outputs": [
    {
     "data": {
      "text/plain": [
       "'zero'"
      ]
     },
     "execution_count": 54,
     "metadata": {},
     "output_type": "execute_result"
    }
   ],
   "source": [
    "data = 0\n",
    "\n",
    "result = \"not zero\" if data else \"zero\"\n",
    "result"
   ]
  },
  {
   "cell_type": "markdown",
   "id": "d242b573",
   "metadata": {},
   "source": [
    "### 2. 반복문\n",
    "- 반복되는 코드를 실행할 때 사용\n",
    "- while, for, break, continue\n",
    "- list comprehention"
   ]
  },
  {
   "cell_type": "code",
   "execution_count": 55,
   "id": "821ef5c5",
   "metadata": {},
   "outputs": [
    {
     "name": "stdout",
     "output_type": "stream",
     "text": [
      "3\n",
      "2\n",
      "1\n"
     ]
    }
   ],
   "source": [
    "# while\n",
    "\n",
    "data = 3\n",
    "while data : # 조건이 False가 될 때까지 구문의 코드를 실행\n",
    "    # 반복되는 코드\n",
    "    print(data)\n",
    "    data -= 1"
   ]
  },
  {
   "cell_type": "markdown",
   "id": "6e4eba75",
   "metadata": {},
   "source": [
    "### while 연습문제\n",
    "- 학생이 국어 80점, 영어 90점, 수학 100점을 맞았을 때 while 문을 이용하여 총점과 평균을 출력하시오.\n",
    "- 학생의 점수는 list, dict 표현\n",
    "- len, dict.values(), list.pop()"
   ]
  },
  {
   "cell_type": "code",
   "execution_count": 58,
   "id": "446b7b1a",
   "metadata": {},
   "outputs": [
    {
     "name": "stdout",
     "output_type": "stream",
     "text": [
      "총점은 80 점, 평균은 26.666666666666668 점 입니다.\n"
     ]
    }
   ],
   "source": [
    "grade = [80, 90, 100]\n",
    "data = 0\n",
    "\n",
    "while grade :\n",
    "    data = +grade.pop()\n",
    "    \n",
    "print(\"총점은 {} 점, 평균은 {} 점 입니다.\".format(data, data/3))"
   ]
  },
  {
   "cell_type": "code",
   "execution_count": 59,
   "id": "809b8f1d",
   "metadata": {},
   "outputs": [
    {
     "name": "stdout",
     "output_type": "stream",
     "text": [
      "270 90.0\n"
     ]
    }
   ],
   "source": [
    "subjects_ls = [\"korean\", \"english\", \"math\"]\n",
    "points_ls = [80, 90, 100]\n",
    "points_dict = {\"korean\":80, \"english\":90, \"math\":100}\n",
    "\n",
    "total, avg = 0, 0\n",
    "\n",
    "datas = points_ls.copy() # 깊은 복사 : 원본 데이터 보존\n",
    "\n",
    "while datas :\n",
    "    total += datas.pop()\n",
    "    \n",
    "avg = total / leng(points_ls)\n",
    "\n",
    "print(total, avg)"
   ]
  },
  {
   "cell_type": "code",
   "execution_count": 68,
   "id": "55494478",
   "metadata": {},
   "outputs": [
    {
     "name": "stdout",
     "output_type": "stream",
     "text": [
      "10 9\n"
     ]
    }
   ],
   "source": [
    "# 무한루프 : break\n",
    "# break : 반복문으 중단시킬 때 사용되는 예약어\n",
    "\n",
    "result = 1\n",
    "i = 0\n",
    "while result:\n",
    "    \n",
    "    i += 1\n",
    "    \n",
    "    result += 1    \n",
    "    \n",
    "    if result >= 10 :\n",
    "        break\n",
    "        \n",
    "print(result, i)\n",
    "\n",
    "# In [*] 은 셀이 실행중이라는 의미, 커널에 인터럽트 누르면 중지됨 "
   ]
  },
  {
   "cell_type": "markdown",
   "id": "f82ff221",
   "metadata": {},
   "source": [
    "# for\n",
    "- iterable한 값을 하나씩 꺼내서 value에 대입시킨 후 코드를 iterable 변수의 값 개수만큼 실행\n",
    "```\n",
    "for <varable> in <iterables>:\n",
    "    <code>\n",
    "```"
   ]
  },
  {
   "cell_type": "code",
   "execution_count": 73,
   "id": "d7d65bff",
   "metadata": {},
   "outputs": [
    {
     "name": "stdout",
     "output_type": "stream",
     "text": [
      "0 2 4 "
     ]
    }
   ],
   "source": [
    "# for : continue : 조건부분으로 올라가서 코드가 실행\n",
    "ls = [0, 1, 2, 3, 4]\n",
    "for data in ls :\n",
    "    if data % 2 : # data가 홀수면 continue 실행\n",
    "        continue\n",
    "    print(data, end=\" \") # data가 짝수면 print 실행"
   ]
  },
  {
   "cell_type": "code",
   "execution_count": 75,
   "id": "9d9042c3",
   "metadata": {},
   "outputs": [
    {
     "data": {
      "text/plain": [
       "4950"
      ]
     },
     "execution_count": 75,
     "metadata": {},
     "output_type": "execute_result"
    }
   ],
   "source": [
    "# for문을 이용하여 코드를 100번 실행\n",
    "# range 함수 : 시작과 끝을 설정해서 범위 생성 가능\n",
    "- range 생성 시 7가지 유형의 데이터 외에 range라는 형태의 데이터가 생성되는 것임\n",
    "\n",
    "list(range(100)) # 따라서 list 로 변환해주나 원래 range는 iterable\n",
    "result = 0\n",
    "for data in range(100):\n",
    "    result += data\n",
    "result"
   ]
  },
  {
   "cell_type": "code",
   "execution_count": 78,
   "id": "7f02416c",
   "metadata": {},
   "outputs": [
    {
     "data": {
      "text/plain": [
       "([0, 1, 2, 3, 4], [5, 6, 7, 8, 9], [0, 2, 4, 6, 8], [10, 8, 6, 4, 2])"
      ]
     },
     "execution_count": 78,
     "metadata": {},
     "output_type": "execute_result"
    }
   ],
   "source": [
    "# offset index 개념과 비슷하게 사용\n",
    "list(range(5)), list(range(5,10)), list(range(0, 10, 2)), list(range(10, 0, -2))\n"
   ]
  },
  {
   "cell_type": "code",
   "execution_count": 79,
   "id": "d4b86339",
   "metadata": {},
   "outputs": [
    {
     "data": {
      "text/plain": [
       "30"
      ]
     },
     "execution_count": 79,
     "metadata": {},
     "output_type": "execute_result"
    }
   ],
   "source": [
    "# 0 ~ 10 까지 짝수를 더한 총함\n",
    "result = 0\n",
    "for number in range(0, 11, 2):\n",
    "    result += number\n",
    "result"
   ]
  },
  {
   "cell_type": "code",
   "execution_count": 80,
   "id": "d0b9fee8",
   "metadata": {},
   "outputs": [],
   "source": [
    "points_dict = {\"korean\":80, \"english\":90, \"math\":100}"
   ]
  },
  {
   "cell_type": "code",
   "execution_count": 81,
   "id": "4224c6d3",
   "metadata": {},
   "outputs": [
    {
     "name": "stdout",
     "output_type": "stream",
     "text": [
      "korean\n",
      "english\n",
      "math\n"
     ]
    }
   ],
   "source": [
    "for data in points_dict :\n",
    "    print(data) # dict를 iterable한 데이터 타입에 넣었을 때는 키값만 출력됨"
   ]
  },
  {
   "cell_type": "code",
   "execution_count": 82,
   "id": "0f52cda1",
   "metadata": {},
   "outputs": [
    {
     "data": {
      "text/plain": [
       "[('korean', 80), ('english', 90), ('math', 100)]"
      ]
     },
     "execution_count": 82,
     "metadata": {},
     "output_type": "execute_result"
    }
   ],
   "source": [
    "list(points_dict.items()) # items 튜플 데이터 리스트 형태로 만들어 준다."
   ]
  },
  {
   "cell_type": "code",
   "execution_count": 84,
   "id": "c22463bf",
   "metadata": {},
   "outputs": [
    {
     "name": "stdout",
     "output_type": "stream",
     "text": [
      "korean 80\n",
      "english 90\n",
      "math 100\n"
     ]
    }
   ],
   "source": [
    "for subject, point in points_dict.items() : # 튜플 값을 동시에 받을 수도 있나봄\n",
    "    print(subject, point)"
   ]
  },
  {
   "cell_type": "code",
   "execution_count": 89,
   "id": "95ba79c0",
   "metadata": {},
   "outputs": [
    {
     "name": "stdout",
     "output_type": "stream",
     "text": [
      "korean 80\n",
      "english 90\n",
      "math 100\n"
     ]
    }
   ],
   "source": [
    "# for문에서 iterable 데이터가 tuple 로 나오면 여러개의 변수로 받을 수 있습니다.\n",
    "\n",
    "subjects_ls = [\"korean\", \"english\", \"math\"]\n",
    "points_ls = [80, 90, 100]\n",
    "for subject, point in zip(subjects_ls, points_ls) :\n",
    "    print(subject, point)"
   ]
  },
  {
   "cell_type": "code",
   "execution_count": 91,
   "id": "a3117fcc",
   "metadata": {},
   "outputs": [
    {
     "data": {
      "text/plain": [
       "[('korean', 80), ('english', 90), ('math', 100)]"
      ]
     },
     "execution_count": 91,
     "metadata": {},
     "output_type": "execute_result"
    }
   ],
   "source": [
    "list(zip(subjects_ls, points_ls))"
   ]
  },
  {
   "cell_type": "code",
   "execution_count": 85,
   "id": "656e887b",
   "metadata": {},
   "outputs": [
    {
     "data": {
      "text/plain": [
       "(1, 2)"
      ]
     },
     "execution_count": 85,
     "metadata": {},
     "output_type": "execute_result"
    }
   ],
   "source": [
    "# tuple\n",
    "a, b = 1, 2\n",
    "a, b"
   ]
  },
  {
   "cell_type": "markdown",
   "id": "182aa7ab",
   "metadata": {},
   "source": [
    "### 연습문제\n",
    "- 구구단 출력 (가로출력)\n",
    "- 이중 for문"
   ]
  },
  {
   "cell_type": "code",
   "execution_count": 6,
   "id": "0f0fd1a4",
   "metadata": {},
   "outputs": [
    {
     "name": "stdout",
     "output_type": "stream",
     "text": [
      "2*1=2\t3*1=3\t4*1=4\t5*1=5\t6*1=6\t7*1=7\t8*1=8\t9*1=9\t\n",
      "2*2=4\t3*2=6\t4*2=8\t5*2=10\t6*2=12\t7*2=14\t8*2=16\t9*2=18\t\n",
      "2*3=6\t3*3=9\t4*3=12\t5*3=15\t6*3=18\t7*3=21\t8*3=24\t9*3=27\t\n",
      "2*4=8\t3*4=12\t4*4=16\t5*4=20\t6*4=24\t7*4=28\t8*4=32\t9*4=36\t\n",
      "2*5=10\t3*5=15\t4*5=20\t5*5=25\t6*5=30\t7*5=35\t8*5=40\t9*5=45\t\n",
      "2*6=12\t3*6=18\t4*6=24\t5*6=30\t6*6=36\t7*6=42\t8*6=48\t9*6=54\t\n",
      "2*7=14\t3*7=21\t4*7=28\t5*7=35\t6*7=42\t7*7=49\t8*7=56\t9*7=63\t\n",
      "2*8=16\t3*8=24\t4*8=32\t5*8=40\t6*8=48\t7*8=56\t8*8=64\t9*8=72\t\n",
      "2*9=18\t3*9=27\t4*9=36\t5*9=45\t6*9=54\t7*9=63\t8*9=72\t9*9=81\t\n"
     ]
    }
   ],
   "source": [
    "num = [1, 2, 3, 4, 5, 6, 7, 8, 9]\n",
    "num2 = [2, 3, 4, 5, 6, 7, 8, 9]\n",
    "count = 1\n",
    "\n",
    "for product in num :\n",
    "    for product2 in num2 :\n",
    "        print(\"{}*{}={}\".format(product2, count, product2*count), end=\"\\t\")\n",
    "    count += 1\n",
    "    print(end=\"\\n\")"
   ]
  },
  {
   "cell_type": "code",
   "execution_count": 8,
   "id": "b2641438",
   "metadata": {},
   "outputs": [
    {
     "name": "stdout",
     "output_type": "stream",
     "text": [
      "2*1=2\t3*1=3\t4*1=4\t5*1=5\t6*1=6\t7*1=7\t8*1=8\t9*1=9\t\n",
      "2*2=4\t3*2=6\t4*2=8\t5*2=10\t6*2=12\t7*2=14\t8*2=16\t9*2=18\t\n",
      "2*3=6\t3*3=9\t4*3=12\t5*3=15\t6*3=18\t7*3=21\t8*3=24\t9*3=27\t\n",
      "2*4=8\t3*4=12\t4*4=16\t5*4=20\t6*4=24\t7*4=28\t8*4=32\t9*4=36\t\n",
      "2*5=10\t3*5=15\t4*5=20\t5*5=25\t6*5=30\t7*5=35\t8*5=40\t9*5=45\t\n",
      "2*6=12\t3*6=18\t4*6=24\t5*6=30\t6*6=36\t7*6=42\t8*6=48\t9*6=54\t\n",
      "2*7=14\t3*7=21\t4*7=28\t5*7=35\t6*7=42\t7*7=49\t8*7=56\t9*7=63\t\n",
      "2*8=16\t3*8=24\t4*8=32\t5*8=40\t6*8=48\t7*8=56\t8*8=64\t9*8=72\t\n",
      "2*9=18\t3*9=27\t4*9=36\t5*9=45\t6*9=54\t7*9=63\t8*9=72\t9*9=81\t\n"
     ]
    }
   ],
   "source": [
    "for num2 in range(1, 10) :\n",
    "    for num1 in range(2,10) : \n",
    "        print(\"{}*{}={}\".format(num1,num2,num1*num2), end=\"\\t\")\n",
    "    print()"
   ]
  },
  {
   "cell_type": "markdown",
   "id": "0c112405",
   "metadata": {},
   "source": [
    "### 3. List Comprehention\n",
    "- 리스트 데이터를 만들어주는 방법\n",
    "- for문보다 빠르게 동작합니다(for문의 2/3 수준 소요)."
   ]
  },
  {
   "cell_type": "code",
   "execution_count": 11,
   "id": "a088a6ae",
   "metadata": {},
   "outputs": [
    {
     "data": {
      "text/plain": [
       "[0, 1, 4, 9]"
      ]
     },
     "execution_count": 11,
     "metadata": {},
     "output_type": "execute_result"
    }
   ],
   "source": [
    "# 각각 값을 제곱한 결과 출력\n",
    "ls = [0, 1, 2, 3]\n",
    "result = []\n",
    "\n",
    "# for result in ls :\n",
    "#     print(result**)\n",
    "\n",
    "for data in ls :\n",
    "    result.append(data**2)\n",
    "result"
   ]
  },
  {
   "cell_type": "code",
   "execution_count": 12,
   "id": "1cee78f1",
   "metadata": {},
   "outputs": [
    {
     "data": {
      "text/plain": [
       "[0, 1, 4, 9]"
      ]
     },
     "execution_count": 12,
     "metadata": {},
     "output_type": "execute_result"
    }
   ],
   "source": [
    "result = [data**2 for data in ls]\n",
    "result"
   ]
  },
  {
   "cell_type": "code",
   "execution_count": 14,
   "id": "d8784895",
   "metadata": {},
   "outputs": [
    {
     "data": {
      "text/plain": [
       "['짝수', '홀수', '짝수', '홀수']"
      ]
     },
     "execution_count": 14,
     "metadata": {},
     "output_type": "execute_result"
    }
   ],
   "source": [
    "# 리스트 컴프리헨션을 써서 홀수와 짝수를 리스트로 출력해주는 코드\n",
    "# 삼항연산 사용\n",
    "\n",
    "ls = [0, 1, 2, 3]\n",
    "result = [\"짝수\", \"홀수\", \"짝수\", \"홀수\"]\n",
    "\n",
    "result = [\n",
    "    \"홀수\" if data % 2 else \"짝수\" # 삼항연산\n",
    "    for data in ls\n",
    "]\n",
    "\n",
    "result"
   ]
  },
  {
   "cell_type": "code",
   "execution_count": 16,
   "id": "353a6a25",
   "metadata": {},
   "outputs": [
    {
     "data": {
      "text/plain": [
       "[1, 3, 5, 7, 9]"
      ]
     },
     "execution_count": 16,
     "metadata": {},
     "output_type": "execute_result"
    }
   ],
   "source": [
    "# 리스트 컴프리헨션 조건문 : 필터링 기능\n",
    "ls = range(10)\n",
    "[data for data in ls if data % 2] # 조건이 참이 될 때만 데이터에 저장이 됨"
   ]
  },
  {
   "cell_type": "code",
   "execution_count": 22,
   "id": "6a2f237a",
   "metadata": {},
   "outputs": [
    {
     "data": {
      "text/plain": [
       "['clear', 'copy', 'count']"
      ]
     },
     "execution_count": 22,
     "metadata": {},
     "output_type": "execute_result"
    }
   ],
   "source": [
    "ls = [1, 2, 3]\n",
    "[func for func in dir(ls) if func[:2] != \"__\" and func[0] == \"c\"]"
   ]
  },
  {
   "cell_type": "markdown",
   "id": "5bde4613",
   "metadata": {},
   "source": [
    "### for문과 list comprehenshion 성능 비교"
   ]
  },
  {
   "cell_type": "code",
   "execution_count": 31,
   "id": "65dbc7d3",
   "metadata": {},
   "outputs": [
    {
     "name": "stdout",
     "output_type": "stream",
     "text": [
      "8.54 ms ± 2.08 ms per loop (mean ± std. dev. of 7 runs, 100 loops each)\n"
     ]
    }
   ],
   "source": [
    "%%timeit\n",
    "ls = []\n",
    "for num in range(1,10001) :\n",
    "    if num % 3 == 0 :\n",
    "        ls.append(num)\n",
    "len(ls)"
   ]
  },
  {
   "cell_type": "code",
   "execution_count": 28,
   "id": "13976166",
   "metadata": {},
   "outputs": [
    {
     "name": "stdout",
     "output_type": "stream",
     "text": [
      "5.29 ms ± 1.14 ms per loop (mean ± std. dev. of 7 runs, 100 loops each)\n"
     ]
    }
   ],
   "source": [
    "%%timeit\n",
    "ls = [num for num in range(1, 10001) if num % 3 == 0]\n",
    "len(ls)"
   ]
  },
  {
   "cell_type": "code",
   "execution_count": null,
   "id": "4a991d58",
   "metadata": {},
   "outputs": [],
   "source": []
  }
 ],
 "metadata": {
  "kernelspec": {
   "display_name": "Python 3",
   "language": "python",
   "name": "python3"
  },
  "language_info": {
   "codemirror_mode": {
    "name": "ipython",
    "version": 3
   },
   "file_extension": ".py",
   "mimetype": "text/x-python",
   "name": "python",
   "nbconvert_exporter": "python",
   "pygments_lexer": "ipython3",
   "version": "3.8.8"
  }
 },
 "nbformat": 4,
 "nbformat_minor": 5
}
