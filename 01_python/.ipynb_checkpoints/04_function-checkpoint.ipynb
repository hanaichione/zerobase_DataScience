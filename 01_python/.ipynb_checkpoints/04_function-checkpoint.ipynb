{
 "cells": [
  {
   "cell_type": "markdown",
   "id": "d5089484",
   "metadata": {},
   "source": [
    "### 함수\n",
    "- 반복되는 코드를 묶음으로 효율적인 코드를 작성하도록 해주는 기능\n",
    "- 기본 함수\n",
    "- 파라미터와 아규먼트\n",
    "- 리턴\n",
    "- `*args`, `**kwargs`\n",
    "- docstring\n",
    "- scope\n",
    "- inner function\n",
    "- lambda function\n",
    "- Map, Filter, Reduce\n",
    "- Decorlator"
   ]
  },
  {
   "cell_type": "markdown",
   "id": "f436a933",
   "metadata": {},
   "source": [
    "### 1. 기본 함수\n",
    "- 선언과 호출"
   ]
  },
  {
   "cell_type": "code",
   "execution_count": 1,
   "id": "3215ae67",
   "metadata": {},
   "outputs": [
    {
     "name": "stdout",
     "output_type": "stream",
     "text": [
      "B\n"
     ]
    }
   ],
   "source": [
    "point = 88\n",
    "\n",
    "if point >= 90:\n",
    "    print(\"A\")\n",
    "elif point >= 80:\n",
    "    print(\"B\")\n",
    "else:\n",
    "    print(\"C\")"
   ]
  },
  {
   "cell_type": "code",
   "execution_count": 12,
   "id": "b328e7e8",
   "metadata": {},
   "outputs": [
    {
     "name": "stdout",
     "output_type": "stream",
     "text": [
      "Once deleted, variables cannot be recovered. Proceed (y/[n])? y\n"
     ]
    }
   ],
   "source": [
    "%reset"
   ]
  },
  {
   "cell_type": "code",
   "execution_count": 13,
   "id": "481adaf8",
   "metadata": {},
   "outputs": [
    {
     "name": "stdout",
     "output_type": "stream",
     "text": [
      "Interactive namespace is empty.\n"
     ]
    }
   ],
   "source": [
    "%whos"
   ]
  },
  {
   "cell_type": "code",
   "execution_count": 14,
   "id": "da6be8b5",
   "metadata": {},
   "outputs": [],
   "source": [
    "# 함수 선언\n",
    "def grade(point):\n",
    "    if point >= 90:\n",
    "        print(\"A\")\n",
    "    elif point >= 80:\n",
    "        print(\"B\")\n",
    "    else:\n",
    "        print(\"C\")"
   ]
  },
  {
   "cell_type": "code",
   "execution_count": 3,
   "id": "0711e6da",
   "metadata": {},
   "outputs": [
    {
     "name": "stdout",
     "output_type": "stream",
     "text": [
      "B\n"
     ]
    }
   ],
   "source": [
    "# 함수 호출\n",
    "grade(88)"
   ]
  },
  {
   "cell_type": "code",
   "execution_count": 4,
   "id": "8df04bff",
   "metadata": {},
   "outputs": [
    {
     "name": "stdout",
     "output_type": "stream",
     "text": [
      "C\n"
     ]
    }
   ],
   "source": [
    "grade(77)"
   ]
  },
  {
   "cell_type": "code",
   "execution_count": 16,
   "id": "24b6d73d",
   "metadata": {},
   "outputs": [],
   "source": [
    "a = 1\n",
    "list = [1, 2, 3]"
   ]
  },
  {
   "cell_type": "code",
   "execution_count": 17,
   "id": "04c0db47",
   "metadata": {},
   "outputs": [
    {
     "name": "stdout",
     "output_type": "stream",
     "text": [
      "Variable   Type        Data/Info\n",
      "--------------------------------\n",
      "a          int         1\n",
      "grade      function    <function grade at 0x0000013614D83160>\n",
      "list       list        n=3\n"
     ]
    }
   ],
   "source": [
    "%whos"
   ]
  },
  {
   "cell_type": "markdown",
   "id": "e525330f",
   "metadata": {},
   "source": [
    "### 2. 파라미터와 아규먼트(중요)\n",
    "- 파라미터 : 함수를 선언할 때 호출하는 부분에서 보내주는 데이터를 받는 변수\n",
    "- 아규먼트 : 함수를 호출할 때 함수에 보내주는 데이터"
   ]
  },
  {
   "cell_type": "code",
   "execution_count": 26,
   "id": "0e2525c4",
   "metadata": {},
   "outputs": [],
   "source": [
    "def plus(num1, num2 = 10, num3 = 20) : # 파라미터 : 디폴트 파라미터\n",
    "    print(num1 + num2 - num3)"
   ]
  },
  {
   "cell_type": "code",
   "execution_count": 27,
   "id": "8ba724a7",
   "metadata": {},
   "outputs": [
    {
     "name": "stdout",
     "output_type": "stream",
     "text": [
      "-17\n"
     ]
    }
   ],
   "source": [
    "plus(1, 2) # 아규먼트"
   ]
  },
  {
   "cell_type": "code",
   "execution_count": 28,
   "id": "8a8623c8",
   "metadata": {},
   "outputs": [
    {
     "name": "stdout",
     "output_type": "stream",
     "text": [
      "-7\n"
     ]
    }
   ],
   "source": [
    "plus(3) # 아규먼트를 적게 줬을 때는 디폴트 파라미터로 설정한 애가 나옴, 근데 순서대로임"
   ]
  },
  {
   "cell_type": "code",
   "execution_count": 29,
   "id": "78b02929",
   "metadata": {},
   "outputs": [
    {
     "name": "stdout",
     "output_type": "stream",
     "text": [
      "-87\n"
     ]
    }
   ],
   "source": [
    "plus(3, num3=100) # 아규먼트 : 키워드 아규먼트"
   ]
  },
  {
   "cell_type": "code",
   "execution_count": 30,
   "id": "0a62d3b9",
   "metadata": {},
   "outputs": [
    {
     "name": "stdout",
     "output_type": "stream",
     "text": [
      "1 2-"
     ]
    }
   ],
   "source": [
    "print(1, 2, end=\"-\") #print 함수의 파라미터에 아규먼트를 줘서 사용하는 것"
   ]
  },
  {
   "cell_type": "markdown",
   "id": "faf2b760",
   "metadata": {},
   "source": [
    "### 3. 리턴\n",
    "- 함수를 실행한 결과를 저장하고 싶을 때 사용합니다.\n",
    "- return "
   ]
  },
  {
   "cell_type": "code",
   "execution_count": 35,
   "id": "dd3abe1c",
   "metadata": {},
   "outputs": [],
   "source": [
    "def plus(num1, num2):\n",
    "    print(num1 + num2)\n",
    "    return num1 + num2"
   ]
  },
  {
   "cell_type": "code",
   "execution_count": 36,
   "id": "107884c9",
   "metadata": {},
   "outputs": [
    {
     "name": "stdout",
     "output_type": "stream",
     "text": [
      "3\n",
      "3\n"
     ]
    }
   ],
   "source": [
    "result = plus(1, 2)\n",
    "print(result)"
   ]
  },
  {
   "cell_type": "code",
   "execution_count": 38,
   "id": "76ddd32e",
   "metadata": {},
   "outputs": [
    {
     "name": "stdout",
     "output_type": "stream",
     "text": [
      "PYTHON\n"
     ]
    }
   ],
   "source": [
    "data1 = \"python\"\n",
    "result = data1.upper()\n",
    "print(result)"
   ]
  },
  {
   "cell_type": "code",
   "execution_count": 39,
   "id": "42ca07c2",
   "metadata": {},
   "outputs": [
    {
     "name": "stdout",
     "output_type": "stream",
     "text": [
      "None\n"
     ]
    }
   ],
   "source": [
    "data2 = [3, 1, 2]\n",
    "result = data2.sort()\n",
    "print(result)"
   ]
  },
  {
   "cell_type": "code",
   "execution_count": 51,
   "id": "13b749fa",
   "metadata": {},
   "outputs": [],
   "source": [
    "# def grade(point) :\n",
    "#     result = \"\"\n",
    "#     if point >= 90 :\n",
    "#         result = \"A\"\n",
    "#     elif point >= 80 :\n",
    "#         result = \"B\"\n",
    "#     else :\n",
    "#         result = \"C\"\n",
    "#     return result\n",
    "\n",
    "def grade(point):\n",
    "    if point >= 90:\n",
    "        return \"A\"\n",
    "    elif point >= 80:\n",
    "        return \"B\"\n",
    "    else:\n",
    "        return \"C\""
   ]
  },
  {
   "cell_type": "code",
   "execution_count": 52,
   "id": "01223cad",
   "metadata": {},
   "outputs": [
    {
     "name": "stdout",
     "output_type": "stream",
     "text": [
      "A\n"
     ]
    }
   ],
   "source": [
    "point = 92\n",
    "result = grade(point)\n",
    "print(result)"
   ]
  },
  {
   "cell_type": "code",
   "execution_count": 53,
   "id": "30c68953",
   "metadata": {},
   "outputs": [
    {
     "name": "stdout",
     "output_type": "stream",
     "text": [
      "pass\n"
     ]
    }
   ],
   "source": [
    "if result == \"A\":\n",
    "    print(\"pass\")\n",
    "else:\n",
    "    print(\"fail\")"
   ]
  },
  {
   "cell_type": "code",
   "execution_count": 54,
   "id": "9b745197",
   "metadata": {},
   "outputs": [],
   "source": [
    "# 함수에서 return 코드가 실행되면 무조건 함수의 코드 실행이 종료됨\n",
    "def echo(msg):\n",
    "    if msg == \"quit\":\n",
    "        return\n",
    "    print(msg)"
   ]
  },
  {
   "cell_type": "code",
   "execution_count": 55,
   "id": "f434a1b2",
   "metadata": {},
   "outputs": [
    {
     "name": "stdout",
     "output_type": "stream",
     "text": [
      "python\n"
     ]
    }
   ],
   "source": [
    "echo(\"python\")"
   ]
  },
  {
   "cell_type": "code",
   "execution_count": 56,
   "id": "a953779a",
   "metadata": {},
   "outputs": [],
   "source": [
    "echo(\"quit\")"
   ]
  },
  {
   "cell_type": "markdown",
   "id": "b4cd9754",
   "metadata": {},
   "source": [
    "### 4. `*args`, `**kwargs`\n",
    "- 함수를 호출할 때 아규먼트와 키워드 아규먼트의 갯수를 특정지을 수 없을 경우 사용"
   ]
  },
  {
   "cell_type": "code",
   "execution_count": 98,
   "id": "4dbaaffc",
   "metadata": {},
   "outputs": [
    {
     "ename": "NameError",
     "evalue": "name 'list' is not defined",
     "output_type": "error",
     "traceback": [
      "\u001b[1;31m---------------------------------------------------------------------------\u001b[0m",
      "\u001b[1;31mNameError\u001b[0m                                 Traceback (most recent call last)",
      "\u001b[1;32m<ipython-input-98-604ec154886e>\u001b[0m in \u001b[0;36m<module>\u001b[1;34m\u001b[0m\n\u001b[1;32m----> 1\u001b[1;33m \u001b[1;32mdel\u001b[0m \u001b[0mlist\u001b[0m\u001b[1;33m\u001b[0m\u001b[1;33m\u001b[0m\u001b[0m\n\u001b[0m",
      "\u001b[1;31mNameError\u001b[0m: name 'list' is not defined"
     ]
    }
   ],
   "source": [
    "del list # 'list' object is not callable 나올 때 해주면 됨"
   ]
  },
  {
   "cell_type": "code",
   "execution_count": 99,
   "id": "647553ac",
   "metadata": {},
   "outputs": [],
   "source": [
    "def plus(*args, **kwargs):\n",
    "    print(type(args), args)\n",
    "    print(type(kwargs), kwargs)\n",
    "    return sum(args) + sum(list(kwargs.values()))"
   ]
  },
  {
   "cell_type": "code",
   "execution_count": 100,
   "id": "736f1949",
   "metadata": {},
   "outputs": [
    {
     "name": "stdout",
     "output_type": "stream",
     "text": [
      "<class 'tuple'> (1, 2, 3, 4, 5)\n",
      "<class 'dict'> {'num1': 6, 'num2': 7}\n"
     ]
    },
    {
     "data": {
      "text/plain": [
       "28"
      ]
     },
     "execution_count": 100,
     "metadata": {},
     "output_type": "execute_result"
    }
   ],
   "source": [
    "plus(1, 2, 3, 4, 5, num1=6, num2=7)\n"
   ]
  },
  {
   "cell_type": "code",
   "execution_count": 88,
   "id": "94b515ab",
   "metadata": {},
   "outputs": [
    {
     "data": {
      "text/plain": [
       "{'banana': 300, 'apple': 500}"
      ]
     },
     "execution_count": 88,
     "metadata": {},
     "output_type": "execute_result"
    }
   ],
   "source": [
    "fruit = {\"banana\":300, \"apple\":500}\n",
    "fruit"
   ]
  },
  {
   "cell_type": "code",
   "execution_count": 95,
   "id": "191fe224",
   "metadata": {},
   "outputs": [
    {
     "data": {
      "text/plain": [
       "dict_values([300, 500])"
      ]
     },
     "execution_count": 95,
     "metadata": {},
     "output_type": "execute_result"
    }
   ],
   "source": [
    "fruit.values()"
   ]
  },
  {
   "cell_type": "code",
   "execution_count": 96,
   "id": "a5309b47",
   "metadata": {},
   "outputs": [],
   "source": [
    "L = list(fruit.values())"
   ]
  },
  {
   "cell_type": "code",
   "execution_count": 97,
   "id": "7350cbeb",
   "metadata": {},
   "outputs": [
    {
     "name": "stdout",
     "output_type": "stream",
     "text": [
      "[300, 500]\n"
     ]
    }
   ],
   "source": [
    "print(L)"
   ]
  },
  {
   "cell_type": "code",
   "execution_count": 79,
   "id": "a0692a81",
   "metadata": {},
   "outputs": [
    {
     "data": {
      "text/plain": [
       "6"
      ]
     },
     "execution_count": 79,
     "metadata": {},
     "output_type": "execute_result"
    }
   ],
   "source": [
    "def func(num1, num2, num3):\n",
    "    return num1 + num2 + num3\n",
    "\n",
    "data = [1, 2, 3] \n",
    "func(*data) # func(1, 2, 3), 리스트를 *args를 이용해 하나하나 줄 수 있음\n",
    "            # * 안 쓰면 리스트가 num1에 들어가서 에러가 남"
   ]
  },
  {
   "cell_type": "code",
   "execution_count": 81,
   "id": "564c274c",
   "metadata": {},
   "outputs": [
    {
     "data": {
      "text/plain": [
       "301"
      ]
     },
     "execution_count": 81,
     "metadata": {},
     "output_type": "execute_result"
    }
   ],
   "source": [
    "data = {\n",
    "    \"num2\" : 100,\n",
    "    \"num3\" : 200,\n",
    "}\n",
    "func(1, **data)"
   ]
  },
  {
   "cell_type": "markdown",
   "id": "ff20dc4d",
   "metadata": {},
   "source": [
    "### Summary\n",
    "- 조건문\n",
    "    - if, else, elif\n",
    "    - 특정 조건에 따라서 코드를 실행하고 싶을 때 사용\n",
    "- 반복문 \n",
    "    - while, for\n",
    "    - continue, break"
   ]
  },
  {
   "cell_type": "markdown",
   "id": "d00a5e6c",
   "metadata": {},
   "source": [
    "### 연습문제\n",
    "- 문장을 입력받아서 문법에 맞도록 결과를 출력하는 코드를 작성\n",
    "- python IS the best Language\n",
    "- Python is the best language.\n",
    "- 마지막 문자는 . 이 있을 수도 없을 수도 있다.\n",
    "- 논리적인 문제해결 순서 -> 코드로 변경\n",
    "\n",
    "#### 1. 문자열 입력 받기\n",
    "sentence = input(\"input sentence :\")\n",
    "\n",
    "#### 2. 모두 소문자로 변경\n",
    "\n",
    "#### 3. 가장 앞글자를 대문자로 변경\n",
    "\n",
    "#### 4. 마지막 문자가 . 인지 확인해서 .이 아니면 .를 추가"
   ]
  },
  {
   "cell_type": "code",
   "execution_count": 109,
   "id": "31f1bbca",
   "metadata": {},
   "outputs": [
    {
     "name": "stdout",
     "output_type": "stream",
     "text": [
      "input sentence :i Love you\n"
     ]
    },
    {
     "data": {
      "text/plain": [
       "'I love you.'"
      ]
     },
     "execution_count": 109,
     "metadata": {},
     "output_type": "execute_result"
    }
   ],
   "source": [
    "sentence = input(\"input sentence :\")\n",
    "\n",
    "result = sentence.lower()\n",
    "\n",
    "result = result[0].upper() + result[1:]\n",
    "\n",
    "if result[-1] != \".\": # 제일 마지막 [-1] 쓰면 되고, 아닐 때만 골라서 . 붙이면 됨\n",
    "    result += \".\"\n",
    "    \n",
    "result"
   ]
  },
  {
   "cell_type": "code",
   "execution_count": 108,
   "id": "6f293439",
   "metadata": {},
   "outputs": [
    {
     "name": "stdout",
     "output_type": "stream",
     "text": [
      "input sentence :python is the Best language\n",
      "Python is the best language.\n"
     ]
    }
   ],
   "source": [
    "# 나\n",
    "\n",
    "sentence = input(\"input sentence :\")\n",
    "\n",
    "sentence2 = sentence[0].upper()\n",
    "\n",
    "sentence3 = sentence2 + sentence[1:].lower()\n",
    "\n",
    "L = len(sentence3)\n",
    "\n",
    "if sentence3[L-1] == \".\":\n",
    "    print(sentence3)\n",
    "else:\n",
    "    print(sentence3 + \".\")"
   ]
  },
  {
   "cell_type": "markdown",
   "id": "255beb49",
   "metadata": {},
   "source": [
    "### 연습문제\n",
    "- 6자리의 로또 번호를 생성하는 코드를 작성하시오.\n",
    "- 6자리의 번호는 중복 불가\n",
    "- 출력 형태는 문자열, 숫자, 리스트 상관 없음\n",
    "- 문제가 조금 복잡하면 간단한 기능부터 구현, 업데이트를 하는 방법으로 해결\n",
    "- 랜덤한 숫자 6개 출력 -> 숫자가 중복되지 않는 코드 추가"
   ]
  },
  {
   "cell_type": "code",
   "execution_count": 133,
   "id": "d72c3004",
   "metadata": {},
   "outputs": [
    {
     "data": {
      "text/plain": [
       "[7, 14, 22, 28, 38, 45]"
      ]
     },
     "execution_count": 133,
     "metadata": {},
     "output_type": "execute_result"
    }
   ],
   "source": [
    "import random\n",
    "\n",
    "lotto = []\n",
    "\n",
    "# 랜덤한 숫자 6개를 while문을 사용해 작성\n",
    "while True:\n",
    "    \n",
    "    number = random.randint(1, 45)\n",
    "    \n",
    "    # 숫자를 추가할 때 lotto 리스트에 중복되는 숫자가 없으면 추가\n",
    "    if number not in lotto:\n",
    "        lotto.append(number)\n",
    "    \n",
    "    if len(lotto) >= 6:\n",
    "        lotto.sort()\n",
    "        break\n",
    "        \n",
    "lotto"
   ]
  },
  {
   "cell_type": "code",
   "execution_count": 131,
   "id": "6112bc89",
   "metadata": {},
   "outputs": [
    {
     "name": "stdout",
     "output_type": "stream",
     "text": [
      "[33, 1, 36, 28, 20, 23]\n"
     ]
    }
   ],
   "source": [
    "# 나\n",
    "import random\n",
    "lotto = []\n",
    "number = 0 # 선언 안 하고 써도 되나봄\n",
    "\n",
    "while True:\n",
    "    number = random.randint(1, 45)\n",
    "    if number in lotto:\n",
    "        continue;\n",
    "    else:\n",
    "        lotto.append(number)\n",
    "        if len(lotto) == 6:\n",
    "            break\n",
    "\n",
    "print(lotto)"
   ]
  },
  {
   "cell_type": "markdown",
   "id": "d243448d",
   "metadata": {},
   "source": [
    "- 함수(복습)\n",
    "    - 중복되는 코드를 묶어서 효율적으로 코드를 작성하기 위해 사용\n",
    "    - 기본함수 : 선언(def), 호출(fun_name())\n",
    "    - argument, parameter, keyword argument, default parameter\n",
    "    - return\n",
    "    - `*args`, `**kwargs`"
   ]
  },
  {
   "cell_type": "code",
   "execution_count": null,
   "id": "59074b98",
   "metadata": {},
   "outputs": [],
   "source": []
  }
 ],
 "metadata": {
  "kernelspec": {
   "display_name": "Python 3",
   "language": "python",
   "name": "python3"
  },
  "language_info": {
   "codemirror_mode": {
    "name": "ipython",
    "version": 3
   },
   "file_extension": ".py",
   "mimetype": "text/x-python",
   "name": "python",
   "nbconvert_exporter": "python",
   "pygments_lexer": "ipython3",
   "version": "3.8.8"
  }
 },
 "nbformat": 4,
 "nbformat_minor": 5
}
