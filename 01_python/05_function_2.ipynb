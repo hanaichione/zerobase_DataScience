{
 "cells": [
  {
   "cell_type": "markdown",
   "id": "65df5f58",
   "metadata": {},
   "source": [
    "### 함수 2\n",
    "- docstring\n",
    "- scope\n",
    "- inner\n",
    "- lambda function\n",
    "- map, filter, reduce\n",
    "- decorlator"
   ]
  },
  {
   "cell_type": "markdown",
   "id": "84b17b2a",
   "metadata": {},
   "source": [
    "### 1. Docstring\n",
    "- 함수의 설명을 작성"
   ]
  },
  {
   "cell_type": "code",
   "execution_count": 1,
   "id": "f92868a4",
   "metadata": {},
   "outputs": [],
   "source": [
    "def echo(msg):\n",
    "    \"echo print msg\" # 함수 선언 바로 밑에 문자열 형태로 작성(한줄)\n",
    "    print(msg)"
   ]
  },
  {
   "cell_type": "code",
   "execution_count": 2,
   "id": "924b54c0",
   "metadata": {},
   "outputs": [],
   "source": [
    "def echo(msg):\n",
    "    \"\"\"\n",
    "    echo func return its input argument \n",
    "    # 어떤 파라미터를 어떤 데이터 값으로 받는다, 어떤 값을 반환한다. 어떤 기능이다.\n",
    "    The operation is:\n",
    "        1. print msg parameter\n",
    "        2. return msg parameter\n",
    "    param : msg : str\n",
    "    return : str\n",
    "    \"\"\"\n",
    "    print(msg)\n",
    "    return msg"
   ]
  },
  {
   "cell_type": "code",
   "execution_count": 3,
   "id": "d1c2b5f5",
   "metadata": {},
   "outputs": [],
   "source": [
    "echo?"
   ]
  },
  {
   "cell_type": "code",
   "execution_count": 4,
   "id": "78b5244e",
   "metadata": {},
   "outputs": [],
   "source": [
    "echo??"
   ]
  },
  {
   "cell_type": "code",
   "execution_count": 5,
   "id": "b9c11cf0",
   "metadata": {},
   "outputs": [
    {
     "name": "stdout",
     "output_type": "stream",
     "text": [
      "Help on function echo in module __main__:\n",
      "\n",
      "echo(msg)\n",
      "    echo func return its input argument \n",
      "    # 어떤 파라미터를 어떤 데이터 값으로 받는다, 어떤 값을 반환한다. 어떤 기능이다.\n",
      "    The operation is:\n",
      "        1. print msg parameter\n",
      "        2. return msg parameter\n",
      "    param : msg : str\n",
      "    return : str\n",
      "\n"
     ]
    }
   ],
   "source": [
    "help(echo)"
   ]
  },
  {
   "cell_type": "code",
   "execution_count": 6,
   "id": "cf5e9bf2",
   "metadata": {},
   "outputs": [
    {
     "name": "stdout",
     "output_type": "stream",
     "text": [
      "\n",
      "    echo func return its input argument \n",
      "    # 어떤 파라미터를 어떤 데이터 값으로 받는다, 어떤 값을 반환한다. 어떤 기능이다.\n",
      "    The operation is:\n",
      "        1. print msg parameter\n",
      "        2. return msg parameter\n",
      "    param : msg : str\n",
      "    return : str\n",
      "    \n"
     ]
    }
   ],
   "source": [
    "print(echo.__doc__)"
   ]
  },
  {
   "cell_type": "markdown",
   "id": "5235671d",
   "metadata": {},
   "source": [
    "### 2. Scope 범위\n",
    "- 함수 안에서 선언되는 변수와 함수 밖에서 선언되는 변수의 범위가 다르다.\n",
    "- global(전역), local(지역)\n",
    "- 전역변수는 무조건 메모리를 가지고 지역변수는 함수가 호출되어야만 메모리를 가지므로 지역변수를 쓰는 게 더 효율적"
   ]
  },
  {
   "cell_type": "code",
   "execution_count": 9,
   "id": "1133be8c",
   "metadata": {},
   "outputs": [
    {
     "name": "stdout",
     "output_type": "stream",
     "text": [
      "100\n"
     ]
    }
   ],
   "source": [
    "# global\n",
    "\n",
    "gv = 10 # 전역변수\n",
    "\n",
    "def echo():\n",
    "    gv = 100 # 지역변수, 함수 안에서만 유효\n",
    "    print(gv)\n",
    "    \n",
    "echo()"
   ]
  },
  {
   "cell_type": "code",
   "execution_count": 10,
   "id": "cad7daef",
   "metadata": {},
   "outputs": [
    {
     "data": {
      "text/plain": [
       "10"
      ]
     },
     "execution_count": 10,
     "metadata": {},
     "output_type": "execute_result"
    }
   ],
   "source": [
    "gv "
   ]
  },
  {
   "cell_type": "code",
   "execution_count": 11,
   "id": "5c64e61e",
   "metadata": {},
   "outputs": [
    {
     "name": "stdout",
     "output_type": "stream",
     "text": [
      "100\n"
     ]
    },
    {
     "data": {
      "text/plain": [
       "100"
      ]
     },
     "execution_count": 11,
     "metadata": {},
     "output_type": "execute_result"
    }
   ],
   "source": [
    "gv = 10\n",
    "\n",
    "def echo():\n",
    "    global gv #전역변수 주소값을 참조해서 값을 바꿈\n",
    "    gv = 100\n",
    "    print(gv)\n",
    "    \n",
    "echo()\n",
    "gv # gv가 100이 되도록 하자"
   ]
  },
  {
   "cell_type": "markdown",
   "id": "3fab77be",
   "metadata": {},
   "source": [
    "### 3. Inner Function\n",
    "- 함수가 지역 영역에 선언, 함수 안에 함수가 선언"
   ]
  },
  {
   "cell_type": "code",
   "execution_count": 44,
   "id": "b841c66e",
   "metadata": {},
   "outputs": [],
   "source": [
    "def outer(a, b):\n",
    "    \n",
    "    def inner(c, d):\n",
    "        return c + d\n",
    "    \n",
    "    return inner(a, b)"
   ]
  },
  {
   "cell_type": "code",
   "execution_count": 45,
   "id": "c20848b0",
   "metadata": {},
   "outputs": [
    {
     "data": {
      "text/plain": [
       "3"
      ]
     },
     "execution_count": 45,
     "metadata": {},
     "output_type": "execute_result"
    }
   ],
   "source": [
    "outer(1, 2)"
   ]
  },
  {
   "cell_type": "code",
   "execution_count": 46,
   "id": "a62c759f",
   "metadata": {},
   "outputs": [
    {
     "ename": "NameError",
     "evalue": "name 'inner' is not defined",
     "output_type": "error",
     "traceback": [
      "\u001b[1;31m---------------------------------------------------------------------------\u001b[0m",
      "\u001b[1;31mNameError\u001b[0m                                 Traceback (most recent call last)",
      "\u001b[1;32m<ipython-input-46-9ba1645d8705>\u001b[0m in \u001b[0;36m<module>\u001b[1;34m\u001b[0m\n\u001b[1;32m----> 1\u001b[1;33m \u001b[0minner\u001b[0m\u001b[1;33m(\u001b[0m\u001b[1;36m2\u001b[0m\u001b[1;33m,\u001b[0m \u001b[1;36m3\u001b[0m\u001b[1;33m)\u001b[0m \u001b[1;31m# 전역 영역에서 지역 영역의 함수(지역함수 = 익명함수)를 사용할 수 없음\u001b[0m\u001b[1;33m\u001b[0m\u001b[1;33m\u001b[0m\u001b[0m\n\u001b[0m",
      "\u001b[1;31mNameError\u001b[0m: name 'inner' is not defined"
     ]
    }
   ],
   "source": [
    "inner(2, 3) # 전역 영역에서 지역 영역의 함수(지역함수 = 익명함수)를 사용할 수 없음"
   ]
  },
  {
   "cell_type": "code",
   "execution_count": 47,
   "id": "75426a75",
   "metadata": {},
   "outputs": [],
   "source": [
    "# 지역 함수를 전역에서 사용하고 싶을 때\n",
    "def outer(a, b):\n",
    "    def inner(c, d):\n",
    "        return c + d\n",
    "    return inner"
   ]
  },
  {
   "cell_type": "code",
   "execution_count": 48,
   "id": "fa480ee7",
   "metadata": {},
   "outputs": [
    {
     "data": {
      "text/plain": [
       "7"
      ]
     },
     "execution_count": 48,
     "metadata": {},
     "output_type": "execute_result"
    }
   ],
   "source": [
    "outer(1, 2)(3, 4) # inner(3, 4) 즉, outer(1, 2) = inner(3, 4)"
   ]
  },
  {
   "cell_type": "code",
   "execution_count": 49,
   "id": "121c76af",
   "metadata": {},
   "outputs": [
    {
     "data": {
      "text/plain": [
       "7"
      ]
     },
     "execution_count": 49,
     "metadata": {},
     "output_type": "execute_result"
    }
   ],
   "source": [
    "def outer(a, b):\n",
    "    return inner\n",
    "\n",
    "def inner(c, d):\n",
    "    return c + d\n",
    "\n",
    "outer (1, 2)(3, 4)\n",
    "\n",
    "# 같은 결과가 도출되지만 위의 코드는 함수 하나를 가지고 있다가 실행하면 두개가 되므로 메모리를 적게 소비"
   ]
  },
  {
   "cell_type": "markdown",
   "id": "a8d167e3",
   "metadata": {},
   "source": [
    "#### callback function : 함수를 아규먼트 파라미터로 설정하여 사용"
   ]
  },
  {
   "cell_type": "code",
   "execution_count": 67,
   "id": "26386f03",
   "metadata": {},
   "outputs": [],
   "source": [
    "def calc(func, a, b):\n",
    "    # code\n",
    "    a **= 2\n",
    "    b **= 2\n",
    "    return func(a, b) # 함수 호출\n",
    "\n",
    "def plus(a, b):\n",
    "    return a + b\n",
    "\n",
    "def minus(a, b):\n",
    "    return a - b"
   ]
  },
  {
   "cell_type": "code",
   "execution_count": 59,
   "id": "e7e0dec2",
   "metadata": {},
   "outputs": [
    {
     "data": {
      "text/plain": [
       "9"
      ]
     },
     "execution_count": 59,
     "metadata": {},
     "output_type": "execute_result"
    }
   ],
   "source": [
    "calc(plus, 1, 2)"
   ]
  },
  {
   "cell_type": "code",
   "execution_count": 57,
   "id": "9069fcf8",
   "metadata": {},
   "outputs": [
    {
     "data": {
      "text/plain": [
       "-3"
      ]
     },
     "execution_count": 57,
     "metadata": {},
     "output_type": "execute_result"
    }
   ],
   "source": [
    "calc(minus, 1, 2)"
   ]
  },
  {
   "cell_type": "markdown",
   "id": "a87e55dc",
   "metadata": {},
   "source": [
    "### 4. 람다함수\n",
    "- 파라미터를 간단한 계산으로 리턴되는 함수"
   ]
  },
  {
   "cell_type": "code",
   "execution_count": 61,
   "id": "18ceddcb",
   "metadata": {},
   "outputs": [],
   "source": [
    "def plus(a, b):\n",
    "    return a + b"
   ]
  },
  {
   "cell_type": "code",
   "execution_count": 62,
   "id": "fd00f1b5",
   "metadata": {},
   "outputs": [
    {
     "data": {
      "text/plain": [
       "3"
      ]
     },
     "execution_count": 62,
     "metadata": {},
     "output_type": "execute_result"
    }
   ],
   "source": [
    "plus(1, 2)"
   ]
  },
  {
   "cell_type": "code",
   "execution_count": 63,
   "id": "d4df3e1c",
   "metadata": {},
   "outputs": [],
   "source": [
    "plus2 = lambda a, b: a + b"
   ]
  },
  {
   "cell_type": "code",
   "execution_count": 64,
   "id": "d132ef3c",
   "metadata": {},
   "outputs": [
    {
     "data": {
      "text/plain": [
       "5"
      ]
     },
     "execution_count": 64,
     "metadata": {},
     "output_type": "execute_result"
    }
   ],
   "source": [
    "plus2(2, 3)"
   ]
  },
  {
   "cell_type": "code",
   "execution_count": 68,
   "id": "be0cec2c",
   "metadata": {},
   "outputs": [
    {
     "data": {
      "text/plain": [
       "144"
      ]
     },
     "execution_count": 68,
     "metadata": {},
     "output_type": "execute_result"
    }
   ],
   "source": [
    "# 람다함수 왜 쓰냐?\n",
    "# calc(func, a, b)\n",
    "calc(lambda a, b: a * b, 3, 4) # func에 람다 어쩌구 들어가고 3, 4가 아규먼트로 들어감, 제곱해서 곱함\n",
    "\n",
    "# def plus(a, b):\n",
    "#     return a + b\n",
    "# 사용하려면 함수가 선언되어야 하므로 메모리를 잡아먹음\n",
    "# 람다는 호출될 때 만들어지니까 선언해야 할 필요 없음"
   ]
  },
  {
   "cell_type": "markdown",
   "id": "3aa9c3b0",
   "metadata": {},
   "source": [
    "### 5. map, filter, reduce\n",
    "\n",
    "### map : 순서가 있는 데이터 집합에서 모든 값에 함수를 적용시킨 결과를 출력"
   ]
  },
  {
   "cell_type": "code",
   "execution_count": 2,
   "id": "d3512311",
   "metadata": {},
   "outputs": [
    {
     "data": {
      "text/plain": [
       "('odd', 'even')"
      ]
     },
     "execution_count": 2,
     "metadata": {},
     "output_type": "execute_result"
    }
   ],
   "source": [
    "ls = [1, 2, 3, 4]\n",
    "\n",
    "def odd_even(num):\n",
    "    return \"odd\" if num % 2 else \"even\"\n",
    "\n",
    "odd_even(3), odd_even(4)"
   ]
  },
  {
   "cell_type": "code",
   "execution_count": 3,
   "id": "f9a39aba",
   "metadata": {},
   "outputs": [
    {
     "data": {
      "text/plain": [
       "['odd', 'even', 'odd', 'even']"
      ]
     },
     "execution_count": 3,
     "metadata": {},
     "output_type": "execute_result"
    }
   ],
   "source": [
    "list(map(odd_even, ls))"
   ]
  },
  {
   "cell_type": "markdown",
   "id": "3bcd911e",
   "metadata": {},
   "source": [
    "### 연습문제\n",
    "- input 함수로 구분자는 \" \"으로 여러개의 숫자를 입력 받습니다.\n",
    "- str.split(\" \") 리스트로 만들고\n",
    "- 만들어진 리스트의 값들을 int로 형변환"
   ]
  },
  {
   "cell_type": "code",
   "execution_count": 4,
   "id": "291876de",
   "metadata": {},
   "outputs": [
    {
     "name": "stdout",
     "output_type": "stream",
     "text": [
      "insert numbers : 10 20 30 40 10 20 15\n"
     ]
    }
   ],
   "source": [
    "datas = input(\"insert numbers : \")"
   ]
  },
  {
   "cell_type": "code",
   "execution_count": 7,
   "id": "558c8873",
   "metadata": {},
   "outputs": [],
   "source": [
    "result = datas.split(\" \")"
   ]
  },
  {
   "cell_type": "code",
   "execution_count": 8,
   "id": "a28b858a",
   "metadata": {},
   "outputs": [
    {
     "data": {
      "text/plain": [
       "[10, 20, 30, 40, 10, 20, 15]"
      ]
     },
     "execution_count": 8,
     "metadata": {},
     "output_type": "execute_result"
    }
   ],
   "source": [
    "result = list(map(int, result))\n",
    "result"
   ]
  },
  {
   "cell_type": "markdown",
   "id": "bdbdbcb7",
   "metadata": {},
   "source": [
    "### Filter\n",
    "- 리스트 데이터에서 특정 조건에 맞는 value만 남기는 함수"
   ]
  },
  {
   "cell_type": "code",
   "execution_count": 9,
   "id": "67fe4c3b",
   "metadata": {},
   "outputs": [],
   "source": [
    "ls = range(10)"
   ]
  },
  {
   "cell_type": "code",
   "execution_count": 11,
   "id": "e61060cb",
   "metadata": {},
   "outputs": [
    {
     "data": {
      "text/plain": [
       "[1, 3, 5, 7, 9]"
      ]
     },
     "execution_count": 11,
     "metadata": {},
     "output_type": "execute_result"
    }
   ],
   "source": [
    "# 홀수만 출력\n",
    "list(filter(lambda data: True if data % 2 else False, ls))"
   ]
  },
  {
   "cell_type": "markdown",
   "id": "46c65e5b",
   "metadata": {},
   "source": [
    "##### map 은 *iterable, 순서가 있는 변수가 여러개 가능\n",
    "##### filter 는 *iterable, 순서 있는 변수 하나만 가능"
   ]
  },
  {
   "cell_type": "markdown",
   "id": "2c78597f",
   "metadata": {},
   "source": [
    "### Reduce\n",
    "- 리스트 데이터를 처음부터 순서대로 특정 함수를 실행하여 결과를 누적시켜주는 함수"
   ]
  },
  {
   "cell_type": "code",
   "execution_count": 18,
   "id": "7cdd569d",
   "metadata": {},
   "outputs": [],
   "source": [
    "from functools import reduce"
   ]
  },
  {
   "cell_type": "code",
   "execution_count": 19,
   "id": "3f63c884",
   "metadata": {},
   "outputs": [
    {
     "data": {
      "text/plain": [
       "15"
      ]
     },
     "execution_count": 19,
     "metadata": {},
     "output_type": "execute_result"
    }
   ],
   "source": [
    "ls = [3, 1, 2, 4, 5]\n",
    "reduce(lambda x, y: x+y, ls) # 파라미터는 두개 결과값은 하나"
   ]
  },
  {
   "cell_type": "markdown",
   "id": "98d872ac",
   "metadata": {},
   "source": [
    "### 5. Decolator\n",
    "- 함수에서 코드를 바꾸지 않고 기능을 추가하거나 수정하고 싶을 때 사용하는 문법\n",
    "```\n",
    "def a():\n",
    "    code_1\n",
    "    code_2\n",
    "    code_3\n",
    "```\n",
    "```\n",
    "def b():\n",
    "    code_1\n",
    "    code_4\n",
    "    code_3\n",
    "```\n",
    "- 위의 함수처럼 겹치는 코드가 있을 때 겹치는 부분을 합쳐줄 수 있나봐..."
   ]
  },
  {
   "cell_type": "markdown",
   "id": "0fb29f28",
   "metadata": {},
   "source": [
    "- 데코레이터의 사용\n",
    "\n",
    "```\n",
    "def c(func):\n",
    "    def wrapper(*args, **kwargs):\n",
    "        code_1\n",
    "        result = func(*args, **kwargs)\n",
    "        code_3\n",
    "        return result\n",
    "    return wrapper\n",
    "\n",
    "@c # c(a)처럼 실행이 돼서 code_1, code_2, code_3이 실행됨 c 함수는 wrapper 함수가 됨\n",
    "def a():\n",
    "    code_2\n",
    "    \n",
    "@c\n",
    "def b():\n",
    "    code_4\n",
    "```"
   ]
  },
  {
   "cell_type": "code",
   "execution_count": 25,
   "id": "27d594dd",
   "metadata": {},
   "outputs": [],
   "source": [
    "# a\n",
    "def plus(a, b):\n",
    "    print(\"start\") # code_1\n",
    "    result = a + b # code_2\n",
    "    print(\"result : {}\".format(result)) # code_3\n",
    "    return result "
   ]
  },
  {
   "cell_type": "code",
   "execution_count": 26,
   "id": "7090d4af",
   "metadata": {},
   "outputs": [],
   "source": [
    "# b\n",
    "def minus(a, b):\n",
    "    print(\"start\") # code_1\n",
    "    result = a - b # code_4\n",
    "    print(\"result : {}\".format(result)) # code_3\n",
    "    return result"
   ]
  },
  {
   "cell_type": "code",
   "execution_count": 28,
   "id": "9f7768b2",
   "metadata": {},
   "outputs": [],
   "source": [
    "# c\n",
    "def disp(func):\n",
    "    def wrapper(*args, **kwargs):\n",
    "        print(\"start\") # code_1\n",
    "        result = func(*args, **kwargs) # code_2, code_4\n",
    "        print(\"result : {}\".format(result)) # code_3\n",
    "        return result\n",
    "    return wrapper"
   ]
  },
  {
   "cell_type": "code",
   "execution_count": 35,
   "id": "0af3a95d",
   "metadata": {},
   "outputs": [],
   "source": [
    "# a\n",
    "@disp\n",
    "def plus(a, b):\n",
    "\n",
    "    result = a + b # code_2\n",
    "\n",
    "    return result"
   ]
  },
  {
   "cell_type": "code",
   "execution_count": 36,
   "id": "10995274",
   "metadata": {},
   "outputs": [
    {
     "name": "stdout",
     "output_type": "stream",
     "text": [
      "start\n",
      "result : 3\n"
     ]
    },
    {
     "data": {
      "text/plain": [
       "3"
      ]
     },
     "execution_count": 36,
     "metadata": {},
     "output_type": "execute_result"
    }
   ],
   "source": [
    "plus(1, 2)"
   ]
  },
  {
   "cell_type": "markdown",
   "id": "d1b8f061",
   "metadata": {},
   "source": [
    "### 연습문제\n",
    "- 함수의 실행 시간을 출력하는 데코레이터 함수를 작성하세요.\n",
    "```\n",
    "@timer\n",
    "def test():\n",
    "    # code\n",
    "```"
   ]
  },
  {
   "cell_type": "code",
   "execution_count": 37,
   "id": "3beb46de",
   "metadata": {},
   "outputs": [],
   "source": [
    "import time"
   ]
  },
  {
   "cell_type": "code",
   "execution_count": 53,
   "id": "24381621",
   "metadata": {},
   "outputs": [],
   "source": [
    "def timer(func):\n",
    "    def wrapper(*args, **kwargs):\n",
    "        start_time = time.time()          # 현재시간, code1\n",
    "        result = func(*args, **kwargs)  # code 2, code 4\n",
    "        end_time = time.time()          # 현재시간, code 3\n",
    "        print(\"running time : {}\".format(end_time - start_time))\n",
    "    return wrapper"
   ]
  },
  {
   "cell_type": "code",
   "execution_count": 54,
   "id": "4e3773fd",
   "metadata": {},
   "outputs": [],
   "source": [
    "@timer\n",
    "def test1(num1, num2):\n",
    "    data = range(num1, num2+1)\n",
    "    return sum(data)"
   ]
  },
  {
   "cell_type": "code",
   "execution_count": 55,
   "id": "74f169df",
   "metadata": {},
   "outputs": [],
   "source": [
    "@timer\n",
    "def test2(num1, num2):\n",
    "    result = 0\n",
    "    for num in range(num1, num2+1):\n",
    "        result += num\n",
    "    return result"
   ]
  },
  {
   "cell_type": "code",
   "execution_count": 58,
   "id": "a7c16e8e",
   "metadata": {},
   "outputs": [
    {
     "name": "stdout",
     "output_type": "stream",
     "text": [
      "running time : 0.0\n"
     ]
    }
   ],
   "source": [
    "test1(1, 1000)"
   ]
  },
  {
   "cell_type": "code",
   "execution_count": 59,
   "id": "5ca7920f",
   "metadata": {},
   "outputs": [
    {
     "name": "stdout",
     "output_type": "stream",
     "text": [
      "running time : 0.0009984970092773438\n"
     ]
    }
   ],
   "source": [
    "test2(1, 10000)"
   ]
  },
  {
   "cell_type": "markdown",
   "id": "e1cb45fe",
   "metadata": {},
   "source": [
    "### 연습문제\n",
    "- 패스워드를 입력 받아야 함수가 실행되도록 하는 데코레이터 작성"
   ]
  },
  {
   "cell_type": "code",
   "execution_count": 71,
   "id": "f022b3d8",
   "metadata": {},
   "outputs": [],
   "source": [
    "def check_password(func):\n",
    "    def wrapper(*args, **kwargs):\n",
    "        pw = \"dss11\"\n",
    "        # check password\n",
    "        input_pw = input(\"password : \")\n",
    "        if input_pw == pw:\n",
    "            result = func(*args, **kwargs)\n",
    "        else:\n",
    "            result = \"not allow!\"\n",
    "        return result\n",
    "    return wrapper"
   ]
  },
  {
   "cell_type": "code",
   "execution_count": 76,
   "id": "eada3ca8",
   "metadata": {},
   "outputs": [],
   "source": [
    "import random\n",
    "\n",
    "@check_password\n",
    "def lotto_func():\n",
    "    lotto = []\n",
    "    while True:\n",
    "        number = random.randint(1, 45)\n",
    "\n",
    "        if number not in lotto:\n",
    "            lotto.append(number)\n",
    "\n",
    "        if len(lotto) == 6:\n",
    "            lotto.sort()\n",
    "            break;\n",
    "    return lotto"
   ]
  },
  {
   "cell_type": "code",
   "execution_count": 79,
   "id": "64868462",
   "metadata": {},
   "outputs": [],
   "source": [
    "@check_password\n",
    "def plus(a, b):\n",
    "    return a + b "
   ]
  },
  {
   "cell_type": "code",
   "execution_count": 80,
   "id": "0a798362",
   "metadata": {},
   "outputs": [
    {
     "name": "stdout",
     "output_type": "stream",
     "text": [
      "password : a\n"
     ]
    },
    {
     "data": {
      "text/plain": [
       "'not allow!'"
      ]
     },
     "execution_count": 80,
     "metadata": {},
     "output_type": "execute_result"
    }
   ],
   "source": [
    "plus(1, 2)"
   ]
  },
  {
   "cell_type": "code",
   "execution_count": 81,
   "id": "7000ecc1",
   "metadata": {},
   "outputs": [
    {
     "name": "stdout",
     "output_type": "stream",
     "text": [
      "password : dss11\n"
     ]
    },
    {
     "data": {
      "text/plain": [
       "[2, 23, 33, 38, 44, 45]"
      ]
     },
     "execution_count": 81,
     "metadata": {},
     "output_type": "execute_result"
    }
   ],
   "source": [
    "lotto_func()"
   ]
  }
 ],
 "metadata": {
  "kernelspec": {
   "display_name": "Python 3",
   "language": "python",
   "name": "python3"
  },
  "language_info": {
   "codemirror_mode": {
    "name": "ipython",
    "version": 3
   },
   "file_extension": ".py",
   "mimetype": "text/x-python",
   "name": "python",
   "nbconvert_exporter": "python",
   "pygments_lexer": "ipython3",
   "version": "3.8.8"
  }
 },
 "nbformat": 4,
 "nbformat_minor": 5
}
