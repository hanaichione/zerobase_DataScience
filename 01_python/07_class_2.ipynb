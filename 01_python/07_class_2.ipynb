{
 "cells": [
  {
   "cell_type": "markdown",
   "id": "907fbaa6",
   "metadata": {},
   "source": [
    "### summary\n",
    "- function\n",
    "    - docstring\n",
    "    - scope : 전역, 지역 : global 예약어 사용해서 지역 -> 전역\n",
    "    - inner function : 함수 안에 함수를 선언 \n",
    "    - lambda function : 간략한 함수를 한줄의 코드로 작성, 함수 선언할 필요 없이 함수가 일회성으로 호출될 때 사용\n",
    "    - decorlator : 특정 기능을 데코레이터 함수로 만들어 함수에 특정 기능을 적용하는 방법\n",
    "- class\n",
    "    - 변수와 함수들이 모여있는 집합\n",
    "    - 기본 클래스 사용법\n",
    "        - 클래스 선언 -> 객체화 -> 객체에 함수를 호출\n",
    "    - 생성자 함수\n",
    "        - 클래스가 객체로 만들어질 때 객체에 선언되는 변수를 설정하는 방법\n",
    "        - 객체가 생성될 때 클래스 안의 생성자 함수가 자동으로 실행됨\n",
    "        - 객체 생성 시 생성자 함수에서 선언한 변수가 충족되지 않으면 에러가 남 -> 아규먼트를 안 주면 아예 객체가 생성되지 않게 하여 불필요한 객체의 생성을 막음"
   ]
  },
  {
   "cell_type": "markdown",
   "id": "6b24614c",
   "metadata": {},
   "source": [
    "### 연습문제\n",
    "- user data를 입력 받아서 아이디와 패스워드를 체크하는 데코레이터 함수를 코드로 작성하시오."
   ]
  },
  {
   "cell_type": "code",
   "execution_count": 1,
   "id": "d396e311",
   "metadata": {},
   "outputs": [],
   "source": [
    "user_datas = [\n",
    "    {\"id\":\"test\", \"pw\":\"1234\", \"count\":0},\n",
    "    {\"id\":\"python\", \"pw\":\"5678\", \"count\":0}\n",
    "]"
   ]
  },
  {
   "cell_type": "code",
   "execution_count": 5,
   "id": "5cbd9414",
   "metadata": {},
   "outputs": [],
   "source": [
    "def password_check(func):\n",
    "    def wrapper(*args, **kwargs):\n",
    "        global input_id\n",
    "        input_id = input(\"id : \")\n",
    "        if input_id == \"test\" or input_id == \"python\":\n",
    "            result = func(*args, **kwargs)\n",
    "            return result\n",
    "        else:\n",
    "            return \"Not allow\"\n",
    "    return wrapper"
   ]
  },
  {
   "cell_type": "code",
   "execution_count": 6,
   "id": "0b1315de",
   "metadata": {},
   "outputs": [],
   "source": [
    "@password_check\n",
    "def get_password():\n",
    "    pw = input(\"password : \")\n",
    "    if input_id == \"test\" and pw == \"1234\":\n",
    "        return \"Welcome\"\n",
    "    else:\n",
    "        return \"Wrong password\"\n",
    "    if input_id == \"python\" and pw == \"5678\":\n",
    "        return \"Welcome\"\n",
    "    else:\n",
    "        return \"Wrong password\""
   ]
  },
  {
   "cell_type": "code",
   "execution_count": 7,
   "id": "43dc0392",
   "metadata": {},
   "outputs": [
    {
     "name": "stdout",
     "output_type": "stream",
     "text": [
      "id : test\n",
      "password : 1234\n"
     ]
    },
    {
     "data": {
      "text/plain": [
       "'Welcome'"
      ]
     },
     "execution_count": 7,
     "metadata": {},
     "output_type": "execute_result"
    }
   ],
   "source": [
    "get_password()"
   ]
  },
  {
   "cell_type": "code",
   "execution_count": 8,
   "id": "d90bc959",
   "metadata": {},
   "outputs": [
    {
     "name": "stdout",
     "output_type": "stream",
     "text": [
      "id : python\n",
      "password : 1234\n"
     ]
    },
    {
     "data": {
      "text/plain": [
       "'Wrong password'"
      ]
     },
     "execution_count": 8,
     "metadata": {},
     "output_type": "execute_result"
    }
   ],
   "source": [
    "get_password()"
   ]
  },
  {
   "cell_type": "code",
   "execution_count": 39,
   "id": "454e7bae",
   "metadata": {},
   "outputs": [],
   "source": [
    "user_datas = [\n",
    "    {\"user\":\"test\", \"pw\":\"1234\", \"count\":0},\n",
    "    {\"user\":\"python\", \"pw\":\"5678\", \"count\":0}\n",
    "]"
   ]
  },
  {
   "cell_type": "code",
   "execution_count": 48,
   "id": "5eae9e24",
   "metadata": {},
   "outputs": [
    {
     "data": {
      "text/plain": [
       "[(0, {'user': 'test', 'pw': '1234', 'count': 1}),\n",
       " (1, {'user': 'python', 'pw': '5678', 'count': 0})]"
      ]
     },
     "execution_count": 48,
     "metadata": {},
     "output_type": "execute_result"
    }
   ],
   "source": [
    "# zip으로 안 묶어줘도 됨 enumerate 함수 사용\n",
    "list(enumerate(user_datas))"
   ]
  },
  {
   "cell_type": "code",
   "execution_count": 23,
   "id": "5a618c94",
   "metadata": {},
   "outputs": [
    {
     "name": "stdout",
     "output_type": "stream",
     "text": [
      "[0, 1, 2]\n",
      "[(0, 'a'), (1, 'b'), (2, 'c')]\n",
      "0 a\n",
      "1 b\n",
      "2 c\n"
     ]
    }
   ],
   "source": [
    "ls1 = [\"a\", \"b\", \"c\"]\n",
    "print(list(range(len(ls1)))) # len(ls1) = 0, 1, 2\n",
    "print(list(zip(range(len(ls1)), ls1)))\n",
    "for idx, data in list(zip(range(len(ls1)), ls1)): # 튜플 데이터는 변수 여러개를 콤마로 받을 수 있음\n",
    "    print(idx, data)"
   ]
  },
  {
   "cell_type": "code",
   "execution_count": 41,
   "id": "b1a5f1a2",
   "metadata": {},
   "outputs": [],
   "source": [
    "def need_login(func):\n",
    "    def wrapper(*args, **kwargs):\n",
    "        # 아이디 패스워드 입력\n",
    "        user, pw = tuple(input(\"insert user pw : \").split(\" \"))\n",
    "        \n",
    "        # 존재하는 아이디인지 확인\n",
    "        # 존재하면 패스워드 확인\n",
    "        #for user_data in user_datas:\n",
    "        #for idx, user_data in zip(range(len(user_datas)), user_datas): \n",
    "        for idx, user_data in enumerate(user_datas):\n",
    "            # (0, {}), (1, {}) 형태로 zip -> idx = 0 or 1, user_data = {} or {}\n",
    "            \n",
    "            if (user_data[\"user\"] == user) and (user_data[\"pw\"] == pw):\n",
    "                user_datas[idx][\"count\"] += 1 # 인덱스에 해당하는 딕셔너리 값을 받아와서 걔의 카운트를 더해줌\n",
    "                # 함수실행\n",
    "                return func(*args, **kwargs)\n",
    "            \n",
    "        return \"wrong login data!\"\n",
    "        \n",
    "    return wrapper"
   ]
  },
  {
   "cell_type": "code",
   "execution_count": 42,
   "id": "65f59c86",
   "metadata": {},
   "outputs": [],
   "source": [
    "@need_login\n",
    "def plus(num1, num2):\n",
    "    return num1 + num2"
   ]
  },
  {
   "cell_type": "code",
   "execution_count": 43,
   "id": "80352e0e",
   "metadata": {},
   "outputs": [
    {
     "name": "stdout",
     "output_type": "stream",
     "text": [
      "insert user pw : test 1234\n"
     ]
    },
    {
     "data": {
      "text/plain": [
       "3"
      ]
     },
     "execution_count": 43,
     "metadata": {},
     "output_type": "execute_result"
    }
   ],
   "source": [
    "plus(1, 2)"
   ]
  },
  {
   "cell_type": "code",
   "execution_count": 45,
   "id": "f0a2b05e",
   "metadata": {},
   "outputs": [
    {
     "data": {
      "text/plain": [
       "[{'user': 'test', 'pw': '1234', 'count': 1},\n",
       " {'user': 'python', 'pw': '5678', 'count': 0}]"
      ]
     },
     "execution_count": 45,
     "metadata": {},
     "output_type": "execute_result"
    }
   ],
   "source": [
    "user_datas"
   ]
  },
  {
   "cell_type": "code",
   "execution_count": null,
   "id": "5b7729a8",
   "metadata": {},
   "outputs": [],
   "source": [
    "### 연습문제\n",
    "- 스타크래프트의 마린을 클래스로 설계\n",
    "- 체력(health : 40), 공격력(attack_pow : 5), 공격(attack())\n",
    "- 마린 클래스로 마린 객체 2개를 생성해서 마린 1이 마린 2를 공격하는 코드를 작성\n",
    "- attack(self, unit)"
   ]
  },
  {
   "cell_type": "code",
   "execution_count": 67,
   "id": "bccd5ff3",
   "metadata": {},
   "outputs": [],
   "source": [
    "# 나!의 방법!\n",
    "\n",
    "class Marine:\n",
    "    \n",
    "    def __init__(self, health, attack_pow): # 변수 선언은 생성자 쪽에서 해주기~\n",
    "        self.health = health\n",
    "        self.attack_pow = attack_pow\n",
    "    \n",
    "    def attack(self, unit):\n",
    "        unit.health -= self.attack_pow\n",
    "        return unit.health"
   ]
  },
  {
   "cell_type": "code",
   "execution_count": 47,
   "id": "98bdbe48",
   "metadata": {},
   "outputs": [],
   "source": [
    "# 쌤!의 방법!\n",
    "\n",
    "class Marine:\n",
    "    \n",
    "    def __init__(self, health=40, attack_pow=5):\n",
    "        self.health = health\n",
    "        self.attack_pow =attack_pow\n",
    "        \n",
    "    def attack(self, unit):\n",
    "        unit.health -= self.attack_pow\n",
    "        if unit.health <= 0:\n",
    "            unit.health = 0\n",
    "            print(\"사망\")"
   ]
  },
  {
   "cell_type": "code",
   "execution_count": 48,
   "id": "ac2cad28",
   "metadata": {},
   "outputs": [],
   "source": [
    "marine_1 = Marine()"
   ]
  },
  {
   "cell_type": "code",
   "execution_count": 49,
   "id": "e05831cf",
   "metadata": {},
   "outputs": [],
   "source": [
    "marine_2 = Marine()"
   ]
  },
  {
   "cell_type": "code",
   "execution_count": 50,
   "id": "06e4c827",
   "metadata": {},
   "outputs": [],
   "source": [
    "marine_1.attack(marine_2)"
   ]
  },
  {
   "cell_type": "code",
   "execution_count": 51,
   "id": "23f0db91",
   "metadata": {},
   "outputs": [
    {
     "data": {
      "text/plain": [
       "(40, 35)"
      ]
     },
     "execution_count": 51,
     "metadata": {},
     "output_type": "execute_result"
    }
   ],
   "source": [
    "marine_1.health, marine_2.health"
   ]
  },
  {
   "cell_type": "code",
   "execution_count": 52,
   "id": "6e2310df",
   "metadata": {},
   "outputs": [],
   "source": [
    "# 메딕 : heal_pow, heal(unit)\n",
    "class Medic:\n",
    "    \n",
    "    def __init__(self, health=40, heal_pow=6):\n",
    "        self.health = health\n",
    "        self.heal_pow = heal_pow\n",
    "        \n",
    "    def heal(self, unit):\n",
    "        if unit.health > 0:\n",
    "            unit.health += self.heal_pow\n",
    "            if unit.health >= 40:\n",
    "                unit.health = 40\n",
    "        else:\n",
    "            print(\"이미 사망\")"
   ]
  },
  {
   "cell_type": "code",
   "execution_count": 53,
   "id": "a43ed592",
   "metadata": {},
   "outputs": [],
   "source": [
    "medic = Medic()"
   ]
  },
  {
   "cell_type": "code",
   "execution_count": 55,
   "id": "68d9a7dd",
   "metadata": {},
   "outputs": [
    {
     "data": {
      "text/plain": [
       "40"
      ]
     },
     "execution_count": 55,
     "metadata": {},
     "output_type": "execute_result"
    }
   ],
   "source": [
    "medic.heal(marine_2)\n",
    "marine_2.health"
   ]
  },
  {
   "cell_type": "code",
   "execution_count": 57,
   "id": "a14903a9",
   "metadata": {},
   "outputs": [],
   "source": [
    "marine_3 = Marine(attack_pow=25)"
   ]
  },
  {
   "cell_type": "code",
   "execution_count": 58,
   "id": "6e5a57a7",
   "metadata": {},
   "outputs": [],
   "source": [
    "marine_3.attack(marine_1)"
   ]
  },
  {
   "cell_type": "code",
   "execution_count": 59,
   "id": "ae7c4ca1",
   "metadata": {},
   "outputs": [
    {
     "data": {
      "text/plain": [
       "15"
      ]
     },
     "execution_count": 59,
     "metadata": {},
     "output_type": "execute_result"
    }
   ],
   "source": [
    "marine_1.health"
   ]
  },
  {
   "cell_type": "code",
   "execution_count": 60,
   "id": "7b3d85fc",
   "metadata": {},
   "outputs": [],
   "source": [
    "marine_2.attack(marine_1)"
   ]
  },
  {
   "cell_type": "code",
   "execution_count": 61,
   "id": "54059102",
   "metadata": {},
   "outputs": [
    {
     "data": {
      "text/plain": [
       "10"
      ]
     },
     "execution_count": 61,
     "metadata": {},
     "output_type": "execute_result"
    }
   ],
   "source": [
    "marine_1.health"
   ]
  },
  {
   "cell_type": "markdown",
   "id": "e534ffe7",
   "metadata": {},
   "source": [
    "### max_health 를 이용하여 최대 체력을 넘어서면 힐이 안 되는 코드를 짜보자... 어렵다..."
   ]
  },
  {
   "cell_type": "code",
   "execution_count": 120,
   "id": "806feddd",
   "metadata": {},
   "outputs": [],
   "source": [
    "class Marine:\n",
    "    \n",
    "    def __init__(self, health=40, attack_pow=5):\n",
    "        self.health = health\n",
    "        self.attack_pow =attack_pow\n",
    "        \n",
    "    def attack(self, unit):\n",
    "        unit.health -= self.attack_pow\n",
    "        if unit.health <= 0:\n",
    "            unit.health = 0\n",
    "            print(\"사망\")"
   ]
  },
  {
   "cell_type": "code",
   "execution_count": 121,
   "id": "89cf0794",
   "metadata": {},
   "outputs": [],
   "source": [
    "class Medic:\n",
    "    \n",
    "    def __init__(self, health=40, heal_pow=6):\n",
    "        self.health = health\n",
    "        self.heal_pow = heal_pow\n",
    "        \n",
    "    def heal(self, unit, max_health):\n",
    "        if unit.health > 0:\n",
    "            unit.health += self.heal_pow\n",
    "            if unit.health >= max_health:\n",
    "                unit.health = max_health\n",
    "        else:\n",
    "            print(\"이미 사망\")"
   ]
  },
  {
   "cell_type": "code",
   "execution_count": 122,
   "id": "1b824c31",
   "metadata": {},
   "outputs": [],
   "source": [
    "marine_1 = Marine()"
   ]
  },
  {
   "cell_type": "code",
   "execution_count": 123,
   "id": "7fbab583",
   "metadata": {},
   "outputs": [],
   "source": [
    "max_health_1 = marine_1.health"
   ]
  },
  {
   "cell_type": "code",
   "execution_count": 124,
   "id": "2777acfa",
   "metadata": {},
   "outputs": [
    {
     "data": {
      "text/plain": [
       "40"
      ]
     },
     "execution_count": 124,
     "metadata": {},
     "output_type": "execute_result"
    }
   ],
   "source": [
    "max_health_1"
   ]
  },
  {
   "cell_type": "code",
   "execution_count": 125,
   "id": "0cc3cd6d",
   "metadata": {},
   "outputs": [],
   "source": [
    "marine_2 = Marine()"
   ]
  },
  {
   "cell_type": "code",
   "execution_count": 126,
   "id": "9f2d62cb",
   "metadata": {},
   "outputs": [],
   "source": [
    "max_health_2 = marine_2.health"
   ]
  },
  {
   "cell_type": "code",
   "execution_count": 127,
   "id": "ab6a8459",
   "metadata": {},
   "outputs": [
    {
     "data": {
      "text/plain": [
       "40"
      ]
     },
     "execution_count": 127,
     "metadata": {},
     "output_type": "execute_result"
    }
   ],
   "source": [
    "max_health_2"
   ]
  },
  {
   "cell_type": "code",
   "execution_count": 128,
   "id": "4ff0293e",
   "metadata": {},
   "outputs": [],
   "source": [
    "marine_1.attack(marine_2)"
   ]
  },
  {
   "cell_type": "code",
   "execution_count": 129,
   "id": "a5df7f8b",
   "metadata": {},
   "outputs": [
    {
     "data": {
      "text/plain": [
       "40"
      ]
     },
     "execution_count": 129,
     "metadata": {},
     "output_type": "execute_result"
    }
   ],
   "source": [
    "max_health_2"
   ]
  },
  {
   "cell_type": "code",
   "execution_count": 130,
   "id": "853db3ff",
   "metadata": {},
   "outputs": [
    {
     "data": {
      "text/plain": [
       "35"
      ]
     },
     "execution_count": 130,
     "metadata": {},
     "output_type": "execute_result"
    }
   ],
   "source": [
    "marine_2.health"
   ]
  },
  {
   "cell_type": "code",
   "execution_count": 131,
   "id": "01e3ec0a",
   "metadata": {},
   "outputs": [],
   "source": [
    "medic_1 = Medic()"
   ]
  },
  {
   "cell_type": "code",
   "execution_count": 132,
   "id": "11910e81",
   "metadata": {},
   "outputs": [],
   "source": [
    "medic_1.heal(marine_2, max_health_2)"
   ]
  },
  {
   "cell_type": "code",
   "execution_count": 133,
   "id": "468bf4ee",
   "metadata": {},
   "outputs": [
    {
     "data": {
      "text/plain": [
       "40"
      ]
     },
     "execution_count": 133,
     "metadata": {},
     "output_type": "execute_result"
    }
   ],
   "source": [
    "marine_2.health"
   ]
  },
  {
   "cell_type": "code",
   "execution_count": 134,
   "id": "5c47dba1",
   "metadata": {},
   "outputs": [],
   "source": [
    "def marine_attack(unit1, unit2, unit3):\n",
    "    unit1.attack(unit2)\n",
    "    unit3.heal(unit2, 50)\n",
    "    return unit2.health"
   ]
  },
  {
   "cell_type": "code",
   "execution_count": 135,
   "id": "c56168a2",
   "metadata": {},
   "outputs": [
    {
     "data": {
      "text/plain": [
       "41"
      ]
     },
     "execution_count": 135,
     "metadata": {},
     "output_type": "execute_result"
    }
   ],
   "source": [
    "marine_attack(marine_1, marine_2, medic_1)"
   ]
  },
  {
   "cell_type": "code",
   "execution_count": 142,
   "id": "75e9d09e",
   "metadata": {},
   "outputs": [],
   "source": [
    "class Marine:\n",
    "    \n",
    "    def __init__(self, max_health=40, attack_pow=5):\n",
    "        self.health = max_health\n",
    "        self.max_health = max_health\n",
    "        self.attack_pow =attack_pow\n",
    "        \n",
    "    def attack(self, unit):\n",
    "        unit.health -= self.attack_pow # 감소되는 값은 unit.health = max_health에서 self.attack_pow만큼 뺀 값\n",
    "        if unit.health <= 0:\n",
    "            unit.health = 0\n",
    "            print(\"사망\")"
   ]
  },
  {
   "cell_type": "code",
   "execution_count": 143,
   "id": "78876afb",
   "metadata": {},
   "outputs": [],
   "source": [
    "class Medic:\n",
    "    \n",
    "    def __init__(self, max_health=40, heal_pow=6):\n",
    "        self.health = max_health\n",
    "        self.max_health = max_health\n",
    "        self.heal_pow = heal_pow\n",
    "        \n",
    "    def heal(self, unit):\n",
    "        if unit.health > 0:\n",
    "            unit.health += self.heal_pow\n",
    "            if unit.health >= unit.max_health:\n",
    "                unit.health = unit.max_health\n",
    "        else:\n",
    "            print(\"이미 사망\")"
   ]
  },
  {
   "cell_type": "code",
   "execution_count": 144,
   "id": "67e371e6",
   "metadata": {},
   "outputs": [],
   "source": [
    "marine_1 = Marine()\n",
    "marine_2 = Marine()\n",
    "medic = Medic()"
   ]
  },
  {
   "cell_type": "code",
   "execution_count": 145,
   "id": "2b8781d7",
   "metadata": {},
   "outputs": [
    {
     "data": {
      "text/plain": [
       "35"
      ]
     },
     "execution_count": 145,
     "metadata": {},
     "output_type": "execute_result"
    }
   ],
   "source": [
    "marine_1.attack(marine_2)\n",
    "marine_2.health"
   ]
  },
  {
   "cell_type": "code",
   "execution_count": 146,
   "id": "49b4d740",
   "metadata": {},
   "outputs": [
    {
     "data": {
      "text/plain": [
       "40"
      ]
     },
     "execution_count": 146,
     "metadata": {},
     "output_type": "execute_result"
    }
   ],
   "source": [
    "medic.heal(marine_2)\n",
    "marine_2.health"
   ]
  },
  {
   "cell_type": "markdown",
   "id": "d768ce04",
   "metadata": {},
   "source": [
    "### 1. 상속\n",
    "- 클래스의 기능을 가져다가 수정하거나 추가할 때 사용하는 방법"
   ]
  },
  {
   "cell_type": "code",
   "execution_count": 148,
   "id": "e7eea136",
   "metadata": {},
   "outputs": [],
   "source": [
    "class Calculator:\n",
    "    def __init__(self, num1, num2):\n",
    "        self.num1 = num1\n",
    "        self.num2 = num2\n",
    "        \n",
    "    def plus(self):\n",
    "        return self.num1 + self.num2"
   ]
  },
  {
   "cell_type": "code",
   "execution_count": 151,
   "id": "700bd18b",
   "metadata": {},
   "outputs": [
    {
     "data": {
      "text/plain": [
       "3"
      ]
     },
     "execution_count": 151,
     "metadata": {},
     "output_type": "execute_result"
    }
   ],
   "source": [
    "calc = Calculator(1, 2)\n",
    "calc.plus()"
   ]
  },
  {
   "cell_type": "markdown",
   "id": "f1ba3166",
   "metadata": {},
   "source": [
    "#### minus 기능을 추가한 계산기"
   ]
  },
  {
   "cell_type": "code",
   "execution_count": 155,
   "id": "182e1b7d",
   "metadata": {},
   "outputs": [],
   "source": [
    "class Calculator2:\n",
    "    \n",
    "    def __init__(self, num1, num2):\n",
    "        self.num1 = num1\n",
    "        self.num2 = num2\n",
    "    \n",
    "    def plus(self):\n",
    "        return self.num1 + self.num2\n",
    "    \n",
    "    def minus(self):\n",
    "        return self.num1 - self.num2\n",
    "    \n",
    "# 코드가 겹치기 때문에 비효율적 \n",
    "# calc2에 minus만 추가할 수는 없을까?"
   ]
  },
  {
   "cell_type": "code",
   "execution_count": 153,
   "id": "56c9d07e",
   "metadata": {},
   "outputs": [],
   "source": [
    "calc2 = Calculator2(1, 2)"
   ]
  },
  {
   "cell_type": "code",
   "execution_count": 154,
   "id": "d07d268a",
   "metadata": {},
   "outputs": [
    {
     "data": {
      "text/plain": [
       "(3, -1)"
      ]
     },
     "execution_count": 154,
     "metadata": {},
     "output_type": "execute_result"
    }
   ],
   "source": [
    "calc2.plus(), calc2.minus()"
   ]
  },
  {
   "cell_type": "code",
   "execution_count": 158,
   "id": "e55047d1",
   "metadata": {},
   "outputs": [],
   "source": [
    "# 상속을 사용하여 minus 함수 추가\n",
    "class Calculator3(Calculator):\n",
    "    def minus(self):\n",
    "        return self.num1 - self.num2"
   ]
  },
  {
   "cell_type": "code",
   "execution_count": 159,
   "id": "f3baec02",
   "metadata": {},
   "outputs": [],
   "source": [
    "calc3 = Calculator3(1, 2)"
   ]
  },
  {
   "cell_type": "code",
   "execution_count": 160,
   "id": "c9d66667",
   "metadata": {},
   "outputs": [
    {
     "data": {
      "text/plain": [
       "(3, -1)"
      ]
     },
     "execution_count": 160,
     "metadata": {},
     "output_type": "execute_result"
    }
   ],
   "source": [
    "calc3.plus(), calc3.minus()"
   ]
  },
  {
   "cell_type": "code",
   "execution_count": 161,
   "id": "df3b2992",
   "metadata": {},
   "outputs": [],
   "source": [
    "# 메서드 오버라이딩 : 클래스 안에 함수가 너무 많아! 한두개 바꾸거나 추가하고 싶어!\n",
    "class Calculator4(Calculator3):\n",
    "    def plus(self):\n",
    "        return self.num1**2 + self.num2**2"
   ]
  },
  {
   "cell_type": "code",
   "execution_count": 162,
   "id": "31141959",
   "metadata": {},
   "outputs": [],
   "source": [
    "calc4 = Calculator4(1, 2)"
   ]
  },
  {
   "cell_type": "code",
   "execution_count": 163,
   "id": "8a2b7820",
   "metadata": {},
   "outputs": [
    {
     "data": {
      "text/plain": [
       "5"
      ]
     },
     "execution_count": 163,
     "metadata": {},
     "output_type": "execute_result"
    }
   ],
   "source": [
    "calc4.plus()"
   ]
  },
  {
   "cell_type": "code",
   "execution_count": 173,
   "id": "5e7c0363",
   "metadata": {},
   "outputs": [],
   "source": [
    "class Calculator(Calculator): \n",
    "    # 첫번째로 만들었던 클래스 자체를 변경(상속 없이). 단, 실무에서는 이런 형태 매우 드뭄(새로 만들어서 오버라이딩 함)\n",
    "    def plus(self):\n",
    "        return self.num1 + self.num2 + 10"
   ]
  },
  {
   "cell_type": "code",
   "execution_count": 175,
   "id": "9020c632",
   "metadata": {},
   "outputs": [
    {
     "data": {
      "text/plain": [
       "13"
      ]
     },
     "execution_count": 175,
     "metadata": {},
     "output_type": "execute_result"
    }
   ],
   "source": [
    "calc = Calculator(1, 2)\n",
    "calc.plus()"
   ]
  },
  {
   "cell_type": "markdown",
   "id": "74090ae5",
   "metadata": {},
   "source": [
    "### 연습문제\n",
    "- 아이폰 1 : calling : print(\"calling\")\n",
    "- 아이폰 2 : send msg\n",
    "- 아이폰 3 : internet"
   ]
  },
  {
   "cell_type": "code",
   "execution_count": 183,
   "id": "7786167f",
   "metadata": {},
   "outputs": [],
   "source": [
    "# 나\n",
    "\n",
    "class Iphone_1:    \n",
    "    def call(self): # self 안 써도 된다...\n",
    "        print(\"calling\")"
   ]
  },
  {
   "cell_type": "code",
   "execution_count": 184,
   "id": "51d373b3",
   "metadata": {},
   "outputs": [],
   "source": [
    "class Iphone_2(Iphone_1):    \n",
    "    def msg(self):\n",
    "        print(\"send msg\")"
   ]
  },
  {
   "cell_type": "code",
   "execution_count": 185,
   "id": "7c99b67d",
   "metadata": {},
   "outputs": [],
   "source": [
    "class Iphone_3(Iphone_2):    \n",
    "    def internet(self):\n",
    "        print(\"internet\")"
   ]
  },
  {
   "cell_type": "code",
   "execution_count": 186,
   "id": "ee88e864",
   "metadata": {},
   "outputs": [],
   "source": [
    "iphone = Iphone_3()"
   ]
  },
  {
   "cell_type": "code",
   "execution_count": 187,
   "id": "edd6f8da",
   "metadata": {},
   "outputs": [
    {
     "name": "stdout",
     "output_type": "stream",
     "text": [
      "calling\n",
      "send msg\n",
      "internet\n"
     ]
    }
   ],
   "source": [
    "iphone.call()\n",
    "iphone.msg()\n",
    "iphone.internet()"
   ]
  },
  {
   "cell_type": "markdown",
   "id": "2cebbbc6",
   "metadata": {},
   "source": [
    "### 다중 상속 : 클래스 여러개를 동시에 상속 가능, 두 세단계까지만 상속받아 사용(for문 중복 최소화하는 것처럼)"
   ]
  },
  {
   "cell_type": "code",
   "execution_count": 188,
   "id": "cf0ee876",
   "metadata": {},
   "outputs": [],
   "source": [
    "class Galuxy:\n",
    "    def show_img(self):\n",
    "        print(\"show_img\")"
   ]
  },
  {
   "cell_type": "code",
   "execution_count": 191,
   "id": "b2eadf44",
   "metadata": {},
   "outputs": [],
   "source": [
    "class DssPhone(Iphone_3, Galuxy):\n",
    "    def camera(self):\n",
    "        print(\"camera\")"
   ]
  },
  {
   "cell_type": "code",
   "execution_count": 192,
   "id": "eca19e36",
   "metadata": {},
   "outputs": [],
   "source": [
    "dss_phone = DssPhone()"
   ]
  },
  {
   "cell_type": "code",
   "execution_count": 193,
   "id": "68ecd1f1",
   "metadata": {},
   "outputs": [
    {
     "data": {
      "text/plain": [
       "['call', 'camera', 'internet', 'msg', 'show_img']"
      ]
     },
     "execution_count": 193,
     "metadata": {},
     "output_type": "execute_result"
    }
   ],
   "source": [
    "[func for func in dir(dss_phone) if func[:2] != \"__\"]"
   ]
  },
  {
   "cell_type": "markdown",
   "id": "ff050710",
   "metadata": {},
   "source": [
    "### 2. super\n",
    "\n",
    "- 부모 클래스에서 사용된 함수의 코드를 자식 클래스의 함수에서 재사용할 때 사용\n",
    "\n",
    "```\n",
    "```\n",
    "```\n",
    "class A:\n",
    "    def plus(self):\n",
    "        code1\n",
    "\n",
    "class B(A):\n",
    "    def minus(self):\n",
    "        code1 # code1을 super().plus()로 바꿔 쓰기\n",
    "        code2\n",
    "```\n",
    "```\n",
    "```"
   ]
  },
  {
   "cell_type": "code",
   "execution_count": 22,
   "id": "6a621a50",
   "metadata": {},
   "outputs": [],
   "source": [
    "class Marine:\n",
    "    def __init__(self):\n",
    "        self.health = 40\n",
    "        self.attack_pow = 5\n",
    "        \n",
    "    def attack(self, unit):\n",
    "        unit.health -= self.attack_pow\n",
    "        if unit.health <= 0:\n",
    "            unit.health = 0"
   ]
  },
  {
   "cell_type": "code",
   "execution_count": 23,
   "id": "f48ae2ed",
   "metadata": {},
   "outputs": [],
   "source": [
    "class Marine2(Marine):\n",
    "    def __init__(self):\n",
    "        super().__init__()\n",
    "        self.max_health = 40"
   ]
  },
  {
   "cell_type": "code",
   "execution_count": 24,
   "id": "eb0a78a9",
   "metadata": {},
   "outputs": [],
   "source": [
    "marine = Marine2()"
   ]
  },
  {
   "cell_type": "code",
   "execution_count": 25,
   "id": "84b7fb5b",
   "metadata": {},
   "outputs": [
    {
     "data": {
      "text/plain": [
       "(40, 5, 40)"
      ]
     },
     "execution_count": 25,
     "metadata": {},
     "output_type": "execute_result"
    }
   ],
   "source": [
    "marine.health, marine.attack_pow, marine.max_health"
   ]
  },
  {
   "cell_type": "markdown",
   "id": "d93b1c6b",
   "metadata": {},
   "source": [
    "### 3. class의 getter, setter\n",
    "- 객체의 내부 변수에 접근할 때 특정 로직을 거쳐서 접근시키는 방법"
   ]
  },
  {
   "cell_type": "code",
   "execution_count": 32,
   "id": "66d47d94",
   "metadata": {},
   "outputs": [],
   "source": [
    "class User:\n",
    "    def __init__(self, first_name, last_name):\n",
    "        self.first_name = first_name\n",
    "        self.last_name = last_name\n",
    "        \n",
    "    def disp(self):\n",
    "        print(self.first_name, self.last_name)"
   ]
  },
  {
   "cell_type": "code",
   "execution_count": 33,
   "id": "189b3896",
   "metadata": {},
   "outputs": [],
   "source": [
    "user1 = User(\"andy\", \"kim\")"
   ]
  },
  {
   "cell_type": "code",
   "execution_count": 34,
   "id": "fcecaadb",
   "metadata": {},
   "outputs": [
    {
     "name": "stdout",
     "output_type": "stream",
     "text": [
      "andy kim\n"
     ]
    }
   ],
   "source": [
    "user1.disp()"
   ]
  },
  {
   "cell_type": "code",
   "execution_count": 35,
   "id": "3097ffc8",
   "metadata": {},
   "outputs": [],
   "source": [
    "user1.first_name = \"john\""
   ]
  },
  {
   "cell_type": "code",
   "execution_count": 36,
   "id": "7682c0ac",
   "metadata": {},
   "outputs": [
    {
     "name": "stdout",
     "output_type": "stream",
     "text": [
      "john kim\n"
     ]
    }
   ],
   "source": [
    "user1.disp()"
   ]
  },
  {
   "cell_type": "code",
   "execution_count": 39,
   "id": "39745a95",
   "metadata": {},
   "outputs": [
    {
     "name": "stdout",
     "output_type": "stream",
     "text": [
      "1 kim\n"
     ]
    }
   ],
   "source": [
    "user1.first_name = \"1\" # getter, setter는 제약조건을 걸어 정해진 변수 형태를 입력하게 함\n",
    "user1.disp()"
   ]
  },
  {
   "cell_type": "code",
   "execution_count": 63,
   "id": "3b5a81bd",
   "metadata": {},
   "outputs": [],
   "source": [
    "class User:\n",
    "    def __init__(self, first_name, last_name):\n",
    "        self.first_name = first_name\n",
    "        self.last_name = last_name\n",
    "        \n",
    "    def setter(self, first_name):\n",
    "        print(\"setter\")\n",
    "        # if leng(first_name >=3):\n",
    "        self.first_name = first_name\n",
    "        # else:\n",
    "        # print(\"error\")\n",
    "        \n",
    "    def getter(self):\n",
    "        print(\"getter\")\n",
    "        return self.first_name\n",
    "        \n",
    "    def disp(self):\n",
    "        print(self.first_name, self.last_name)\n",
    "        \n",
    "    name = property(getter, setter)"
   ]
  },
  {
   "cell_type": "code",
   "execution_count": 64,
   "id": "420213df",
   "metadata": {},
   "outputs": [],
   "source": [
    "user1 = User(\"andy\", \"kim\")"
   ]
  },
  {
   "cell_type": "code",
   "execution_count": 65,
   "id": "c3d8e64e",
   "metadata": {},
   "outputs": [
    {
     "data": {
      "text/plain": [
       "'andy'"
      ]
     },
     "execution_count": 65,
     "metadata": {},
     "output_type": "execute_result"
    }
   ],
   "source": [
    "user1.first_name"
   ]
  },
  {
   "cell_type": "code",
   "execution_count": 66,
   "id": "1aeffdad",
   "metadata": {},
   "outputs": [
    {
     "name": "stdout",
     "output_type": "stream",
     "text": [
      "getter\n"
     ]
    },
    {
     "data": {
      "text/plain": [
       "'andy'"
      ]
     },
     "execution_count": 66,
     "metadata": {},
     "output_type": "execute_result"
    }
   ],
   "source": [
    "# getter 함수 실행\n",
    "user1.name"
   ]
  },
  {
   "cell_type": "code",
   "execution_count": 54,
   "id": "c3b86502",
   "metadata": {},
   "outputs": [
    {
     "name": "stdout",
     "output_type": "stream",
     "text": [
      "setter\n"
     ]
    }
   ],
   "source": [
    "# setter 함수 실행\n",
    "user1.name = 1"
   ]
  },
  {
   "cell_type": "markdown",
   "id": "b54cd04f",
   "metadata": {},
   "source": [
    "### 4. non public\n",
    "- mangling 이라는 방법으로 다이렉트로 객체의 변수에 접근하지 못하게 하는 방법\n",
    "- 클래스를 만들었는데 남이 이 함수를 수정하거나 객체에서 사용 못하게 할 때"
   ]
  },
  {
   "cell_type": "code",
   "execution_count": 112,
   "id": "95e75a60",
   "metadata": {},
   "outputs": [],
   "source": [
    "class Calculator:\n",
    "    def __init__(self, num1, num2):\n",
    "        self.num1 = num1\n",
    "        self.__num2 = num2\n",
    "        \n",
    "    def getter(self):\n",
    "        return self.__num2\n",
    "    \n",
    "    # num2에 0 불가\n",
    "    def setter(self, num2):\n",
    "        num2 = 1 if num2 == 0 else num2\n",
    "        self.__num2 = num2\n",
    "        \n",
    "    def div(self):\n",
    "        return self.num1 / self.__num2\n",
    "    \n",
    "    def __disp(self):\n",
    "        print(self.num1, self.__num2)\n",
    "        \n",
    "    number2 = property(getter, setter)"
   ]
  },
  {
   "cell_type": "code",
   "execution_count": 113,
   "id": "2954413b",
   "metadata": {},
   "outputs": [],
   "source": [
    "calc = Calculator(1, 2)"
   ]
  },
  {
   "cell_type": "code",
   "execution_count": 114,
   "id": "f9ff4ef1",
   "metadata": {},
   "outputs": [
    {
     "ename": "AttributeError",
     "evalue": "'Calculator' object has no attribute '__disp'",
     "output_type": "error",
     "traceback": [
      "\u001b[1;31m---------------------------------------------------------------------------\u001b[0m",
      "\u001b[1;31mAttributeError\u001b[0m                            Traceback (most recent call last)",
      "\u001b[1;32m<ipython-input-114-1997f957eed5>\u001b[0m in \u001b[0;36m<module>\u001b[1;34m\u001b[0m\n\u001b[1;32m----> 1\u001b[1;33m \u001b[0mcalc\u001b[0m\u001b[1;33m.\u001b[0m\u001b[0m__disp\u001b[0m\u001b[1;33m(\u001b[0m\u001b[1;33m)\u001b[0m\u001b[1;33m\u001b[0m\u001b[1;33m\u001b[0m\u001b[0m\n\u001b[0m",
      "\u001b[1;31mAttributeError\u001b[0m: 'Calculator' object has no attribute '__disp'"
     ]
    }
   ],
   "source": [
    "calc.__disp() # 함수에 __ 붙여도 매한가지!"
   ]
  },
  {
   "cell_type": "code",
   "execution_count": 108,
   "id": "06fab90a",
   "metadata": {},
   "outputs": [
    {
     "data": {
      "text/plain": [
       "0.5"
      ]
     },
     "execution_count": 108,
     "metadata": {},
     "output_type": "execute_result"
    }
   ],
   "source": [
    "calc.div()"
   ]
  },
  {
   "cell_type": "code",
   "execution_count": 109,
   "id": "206fa122",
   "metadata": {},
   "outputs": [
    {
     "data": {
      "text/plain": [
       "2"
      ]
     },
     "execution_count": 109,
     "metadata": {},
     "output_type": "execute_result"
    }
   ],
   "source": [
    "calc.number2"
   ]
  },
  {
   "cell_type": "code",
   "execution_count": 110,
   "id": "c045497a",
   "metadata": {},
   "outputs": [
    {
     "ename": "AttributeError",
     "evalue": "'Calculator' object has no attribute 'num2'",
     "output_type": "error",
     "traceback": [
      "\u001b[1;31m---------------------------------------------------------------------------\u001b[0m",
      "\u001b[1;31mAttributeError\u001b[0m                            Traceback (most recent call last)",
      "\u001b[1;32m<ipython-input-110-74d876646bcf>\u001b[0m in \u001b[0;36m<module>\u001b[1;34m\u001b[0m\n\u001b[0;32m      1\u001b[0m \u001b[0mcalc\u001b[0m\u001b[1;33m.\u001b[0m\u001b[0mnumber2\u001b[0m \u001b[1;33m=\u001b[0m \u001b[1;36m0\u001b[0m\u001b[1;33m\u001b[0m\u001b[1;33m\u001b[0m\u001b[0m\n\u001b[1;32m----> 2\u001b[1;33m \u001b[0mcalc\u001b[0m\u001b[1;33m.\u001b[0m\u001b[0mnum2\u001b[0m\u001b[1;33m\u001b[0m\u001b[1;33m\u001b[0m\u001b[0m\n\u001b[0m\u001b[0;32m      3\u001b[0m \u001b[1;31m# calc._Calculator__num2 # __num2 가 자동으로 _Calculator__num2로 바뀌어서 실행되기 때문에 __num2는 더이상 사용 불가\u001b[0m\u001b[1;33m\u001b[0m\u001b[1;33m\u001b[0m\u001b[1;33m\u001b[0m\u001b[0m\n",
      "\u001b[1;31mAttributeError\u001b[0m: 'Calculator' object has no attribute 'num2'"
     ]
    }
   ],
   "source": [
    "calc.number2 = 0\n",
    "calc.num2 # 선언이 안 되어 있어서 오류가 남\n",
    "# calc._Calculator__num2 # __num2 가 자동으로 _Calculator__num2로 바뀌어서 실행되기 때문에 __num2는 더이상 사용 불가"
   ]
  },
  {
   "cell_type": "code",
   "execution_count": 104,
   "id": "29ef620f",
   "metadata": {},
   "outputs": [
    {
     "data": {
      "text/plain": [
       "0"
      ]
     },
     "execution_count": 104,
     "metadata": {},
     "output_type": "execute_result"
    }
   ],
   "source": [
    "calc.num2 = 0 # __num2는 num2와 다름. __num2에 0이 들어간 게 아니라 num2라는 변수를 새로 만들어 0을 넣어준 거임(init에 새로운 변수가 생김)\n",
    "calc.num2 # 새로 만들어진 변수 num2에 0이 들어감"
   ]
  },
  {
   "cell_type": "code",
   "execution_count": 111,
   "id": "7345a475",
   "metadata": {},
   "outputs": [
    {
     "data": {
      "text/plain": [
       "1.0"
      ]
     },
     "execution_count": 111,
     "metadata": {},
     "output_type": "execute_result"
    }
   ],
   "source": [
    "calc.div() # 위에서 number2 이용해서 num2에 1을 넣어줬기 때문에 1.0이 나옴"
   ]
  },
  {
   "cell_type": "markdown",
   "id": "e103bba1",
   "metadata": {},
   "source": [
    "### 5. is a & has a\n",
    "- 클래스를 설계하는 개념\n",
    "- A is a B\n",
    "    - A는 B이다. 상속을 이용해서 클래스를 만드는 방법\n",
    "- A has a B\n",
    "    - A는 B를 가진다. A가 B객체를 가지고 클래스를 만드는 방법\n",
    "- 이즈는 하나 넣을 때 많이 사용, 헤즈는 객체이기 때문에 뭐 많이 넣을 수 있음/ 가독성 좋게 만들기 편하게 사용하기"
   ]
  },
  {
   "cell_type": "code",
   "execution_count": 121,
   "id": "26456b6b",
   "metadata": {},
   "outputs": [],
   "source": [
    "# 사람 : 이름, 이메일, 정보출력()"
   ]
  },
  {
   "cell_type": "code",
   "execution_count": 122,
   "id": "4cbd8dc6",
   "metadata": {},
   "outputs": [],
   "source": [
    "# is a\n",
    "class Person:\n",
    "    def __init__(self, name, email):\n",
    "        self.name = name\n",
    "        self.email = email"
   ]
  },
  {
   "cell_type": "code",
   "execution_count": 123,
   "id": "b15ebfcd",
   "metadata": {},
   "outputs": [],
   "source": [
    "class Person2(Person):\n",
    "    def info(self):\n",
    "        print(self.name, self.email)"
   ]
  },
  {
   "cell_type": "code",
   "execution_count": 124,
   "id": "cf0176d7",
   "metadata": {},
   "outputs": [],
   "source": [
    "p = Person2(\"andy\", \"andy@gmail.com\")"
   ]
  },
  {
   "cell_type": "code",
   "execution_count": 125,
   "id": "eb73f593",
   "metadata": {},
   "outputs": [
    {
     "name": "stdout",
     "output_type": "stream",
     "text": [
      "andy andy@gmail.com\n"
     ]
    }
   ],
   "source": [
    "p.info()"
   ]
  },
  {
   "cell_type": "code",
   "execution_count": 126,
   "id": "ff292e0a",
   "metadata": {},
   "outputs": [],
   "source": [
    "class Name:\n",
    "    def __init__(self, name):\n",
    "        self.name_str = name\n",
    "        \n",
    "class Email:\n",
    "    def __init__(self, email):\n",
    "        self.email_str = email"
   ]
  },
  {
   "cell_type": "code",
   "execution_count": 127,
   "id": "6e44c940",
   "metadata": {},
   "outputs": [],
   "source": [
    "class Person:\n",
    "    def __init__(self, name_obj, email_obj):\n",
    "        self.name = name_obj\n",
    "        self.email = email_obj\n",
    "    def info(self):\n",
    "        print(name.name_str, email.email_str)"
   ]
  },
  {
   "cell_type": "code",
   "execution_count": 128,
   "id": "2c52f265",
   "metadata": {},
   "outputs": [],
   "source": [
    "name = Name(\"andy\")\n",
    "email = Email(\"andy@gmail.com\")\n",
    "p = Person(name, email)"
   ]
  },
  {
   "cell_type": "code",
   "execution_count": 129,
   "id": "196979d5",
   "metadata": {},
   "outputs": [
    {
     "name": "stdout",
     "output_type": "stream",
     "text": [
      "andy andy@gmail.com\n"
     ]
    }
   ],
   "source": [
    "p.info()"
   ]
  },
  {
   "cell_type": "markdown",
   "id": "5cf5270d",
   "metadata": {},
   "source": [
    "### Magic(Special) Method\n",
    "- Function : def로 전역영역에서 선언된 함수\n",
    "- Method : class 내에서 선언된 함수\n",
    "    \n",
    "- compare\n",
    "    - `__eq__` : ==\n",
    "    - `__ne__` : !=\n",
    "    - `__lt__` : <\n",
    "- calculate\n",
    "    - `__add__` : +\n",
    "    - `__sub__` : -\n",
    "- __repr__\n",
    "    - 객체의 내용을 출력(개발자용)\n",
    "- __str__\n",
    "    - 객체의 내용을 출력"
   ]
  },
  {
   "cell_type": "code",
   "execution_count": 133,
   "id": "4fd39ace",
   "metadata": {},
   "outputs": [
    {
     "data": {
      "text/plain": [
       "True"
      ]
     },
     "execution_count": 133,
     "metadata": {},
     "output_type": "execute_result"
    }
   ],
   "source": [
    "\"test\" == \"test\""
   ]
  },
  {
   "cell_type": "code",
   "execution_count": 134,
   "id": "2d37d799",
   "metadata": {},
   "outputs": [
    {
     "data": {
      "text/plain": [
       "True"
      ]
     },
     "execution_count": 134,
     "metadata": {},
     "output_type": "execute_result"
    }
   ],
   "source": [
    "\"test\".__eq__(\"test\")"
   ]
  },
  {
   "cell_type": "code",
   "execution_count": 136,
   "id": "23e0f405",
   "metadata": {},
   "outputs": [
    {
     "name": "stdout",
     "output_type": "stream",
     "text": [
      "12\n",
      "3\n"
     ]
    }
   ],
   "source": [
    "print(\"1\" + \"2\") # + 메소드가 스트링, 인티저 각각 다르게 작동하므로 값이 다르게 나옴\n",
    "print(1 + 2)"
   ]
  },
  {
   "cell_type": "code",
   "execution_count": 150,
   "id": "e170de0c",
   "metadata": {},
   "outputs": [],
   "source": [
    "class Txt:\n",
    "    def __init__(self, txt):\n",
    "        self.txt = txt\n",
    "        \n",
    "    def __eq__(self, txt_obj): # __eq__ 기능을 변경해줌, 대소문자 구분 없이 비교 연산자가 됨\n",
    "        return self.txt.lower() == txt_obj.txt.lower() \n",
    "    \n",
    "    def __repr__(self): # 뭔가 출력 형태를 바꾸는 건가보다...\n",
    "        return \"Txt(txt={})\".format(self.txt)\n",
    "    \n",
    "    def __str__(self):\n",
    "        return self.txt"
   ]
  },
  {
   "cell_type": "code",
   "execution_count": 151,
   "id": "5b76c600",
   "metadata": {},
   "outputs": [],
   "source": [
    "t1 = Txt(\"python\")\n",
    "t2 = Txt(\"PYTHON\")\n",
    "t3 = t1"
   ]
  },
  {
   "cell_type": "code",
   "execution_count": 152,
   "id": "78c4b8fc",
   "metadata": {},
   "outputs": [
    {
     "data": {
      "text/plain": [
       "(True, True, True)"
      ]
     },
     "execution_count": 152,
     "metadata": {},
     "output_type": "execute_result"
    }
   ],
   "source": [
    "t1 == t2, t1 == t3, t2 == t3"
   ]
  },
  {
   "cell_type": "code",
   "execution_count": 153,
   "id": "98cee05c",
   "metadata": {},
   "outputs": [
    {
     "data": {
      "text/plain": [
       "Txt(txt=python)"
      ]
     },
     "execution_count": 153,
     "metadata": {},
     "output_type": "execute_result"
    }
   ],
   "source": [
    "t1"
   ]
  },
  {
   "cell_type": "code",
   "execution_count": 154,
   "id": "7facb99b",
   "metadata": {},
   "outputs": [
    {
     "name": "stdout",
     "output_type": "stream",
     "text": [
      "python\n"
     ]
    }
   ],
   "source": [
    "print(t1)"
   ]
  },
  {
   "cell_type": "code",
   "execution_count": 155,
   "id": "923dc61d",
   "metadata": {},
   "outputs": [
    {
     "data": {
      "text/plain": [
       "range(0, 5)"
      ]
     },
     "execution_count": 155,
     "metadata": {},
     "output_type": "execute_result"
    }
   ],
   "source": [
    "range(0, 5)"
   ]
  }
 ],
 "metadata": {
  "kernelspec": {
   "display_name": "Python 3",
   "language": "python",
   "name": "python3"
  },
  "language_info": {
   "codemirror_mode": {
    "name": "ipython",
    "version": 3
   },
   "file_extension": ".py",
   "mimetype": "text/x-python",
   "name": "python",
   "nbconvert_exporter": "python",
   "pygments_lexer": "ipython3",
   "version": "3.8.8"
  }
 },
 "nbformat": 4,
 "nbformat_minor": 5
}
