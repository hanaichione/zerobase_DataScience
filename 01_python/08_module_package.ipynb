{
 "cells": [
  {
   "cell_type": "markdown",
   "id": "3badc483",
   "metadata": {},
   "source": [
    "### summary\n",
    "- 상속 : 다른 클래스를 받아서 기능을 추가해 새로운 클래스를 만드는 방법\n",
    "- super : 부모 클래스에서 특정 함수의 코드를 가져오는 방법(생성자 함수 많이 가져옴)\n",
    "- getter, setter : 클래스로 만들어진 개체의 변수값을 수정할 때 특정 함수를 통해 수정하고 출력하는 방법\n",
    "- non public(private) : mangling(__) \"_(클래스명)\"이 붙은 변수로 객체를 생성할 때 변경이 되어서 생성\n",
    "- is a/ has a : 클래스를 설계하는 방법\n",
    "- magic(special) method\n",
    "    - 비교 \n",
    "        - `__eq__`(=), `__ne__`(!=), `__lt__`(<), `__gt__`(>), `__le__`(<=), `__ge__`(>=)\n",
    "    - 연산\n",
    "        - `__add__`(+), `__sub__`(-), `__mul__`(*), `__truediv__`(/), `__floordiv__`(//), `__mod__`(%), `__pow__`(**)\n",
    "    - 그 외 : `__repr__`, `__str__`"
   ]
  },
  {
   "cell_type": "code",
   "execution_count": 12,
   "id": "3795abc4",
   "metadata": {},
   "outputs": [],
   "source": [
    "# Integer 객체\n",
    "class Integer:\n",
    "    \n",
    "    def __init__(self, number):\n",
    "        self.number = number\n",
    "        \n",
    "    def __add__(self, obj):\n",
    "        return self.number + obj.number\n",
    "    \n",
    "    def __repr__(self):\n",
    "        return str(self.number)\n",
    "    \n",
    "    def __str__(self):\n",
    "        return str(self.number)"
   ]
  },
  {
   "cell_type": "code",
   "execution_count": 13,
   "id": "8e48113f",
   "metadata": {},
   "outputs": [],
   "source": [
    "num1 = Integer(1)\n",
    "num2 = Integer(2)"
   ]
  },
  {
   "cell_type": "code",
   "execution_count": 14,
   "id": "b33f7f12",
   "metadata": {},
   "outputs": [
    {
     "data": {
      "text/plain": [
       "3"
      ]
     },
     "execution_count": 14,
     "metadata": {},
     "output_type": "execute_result"
    }
   ],
   "source": [
    "num1 + num2"
   ]
  },
  {
   "cell_type": "code",
   "execution_count": 15,
   "id": "0d6c8d87",
   "metadata": {},
   "outputs": [
    {
     "data": {
      "text/plain": [
       "1"
      ]
     },
     "execution_count": 15,
     "metadata": {},
     "output_type": "execute_result"
    }
   ],
   "source": [
    "num1"
   ]
  },
  {
   "cell_type": "code",
   "execution_count": 16,
   "id": "197e3cc4",
   "metadata": {},
   "outputs": [
    {
     "name": "stdout",
     "output_type": "stream",
     "text": [
      "1\n"
     ]
    }
   ],
   "source": [
    "print(num1)"
   ]
  },
  {
   "cell_type": "markdown",
   "id": "3e0b9739",
   "metadata": {},
   "source": [
    "### 연습문제\n",
    "- 계좌 클래스 만들기\n",
    "- 변수 : 자산(asset), 이자율(interest)\n",
    "- 함수 : 인출(draw), 입금(insert), 이자추가(add_interest)\n",
    "- 인출 시 자산 이상의 돈을 인출할 수 없습니다."
   ]
  },
  {
   "cell_type": "code",
   "execution_count": 46,
   "id": "e9cc7e85",
   "metadata": {},
   "outputs": [],
   "source": [
    "class Account:\n",
    "    \n",
    "    def __init__(self, asset, interest):\n",
    "        self.asset = asset\n",
    "        self.interest = interest\n",
    "\n",
    "    def draw(self, draw_money = 0):\n",
    "        draw_money = int(input(\"인출할 금액을 입력하세요. \"))\n",
    "        if draw_money > self.asset:\n",
    "            print(\"자산 이상의 금액은 인출이 불가합니다.\")\n",
    "        else:\n",
    "            print(\"자산은 {}원 입니다.\".format(self.asset - draw_money))\n",
    "            self.asset -= draw_money\n",
    "            \n",
    "    def insert(self, insert_money = 0):\n",
    "        insert_money = int(input(\"입금할 금액을 입력하세요. \"))\n",
    "        print(\"자산은 {}원 입니다.\".format(self.asset + insert_money))\n",
    "        self.asset += insert_money\n",
    "        \n",
    "    def add_interest(self):\n",
    "        self.asset *= (1 + self.interest)\n",
    "        print(\"이자가 추가된 자산은 {}원 입니다.\".format(self.asset))"
   ]
  },
  {
   "cell_type": "code",
   "execution_count": 47,
   "id": "7d2053f7",
   "metadata": {},
   "outputs": [],
   "source": [
    "myaccount = Account(10000, 0.1)"
   ]
  },
  {
   "cell_type": "code",
   "execution_count": 48,
   "id": "702ce0bf",
   "metadata": {},
   "outputs": [
    {
     "name": "stdout",
     "output_type": "stream",
     "text": [
      "인출할 금액을 입력하세요. 30000\n",
      "자산 이상의 금액은 인출이 불가합니다.\n"
     ]
    }
   ],
   "source": [
    "myaccount.draw()"
   ]
  },
  {
   "cell_type": "code",
   "execution_count": 49,
   "id": "aad0cc9c",
   "metadata": {},
   "outputs": [
    {
     "name": "stdout",
     "output_type": "stream",
     "text": [
      "인출할 금액을 입력하세요. 5000\n",
      "자산은 5000원 입니다.\n"
     ]
    }
   ],
   "source": [
    "myaccount.draw()"
   ]
  },
  {
   "cell_type": "code",
   "execution_count": 50,
   "id": "36690f17",
   "metadata": {},
   "outputs": [
    {
     "name": "stdout",
     "output_type": "stream",
     "text": [
      "입금할 금액을 입력하세요. 5000\n",
      "자산은 10000원 입니다.\n"
     ]
    }
   ],
   "source": [
    "myaccount.insert()"
   ]
  },
  {
   "cell_type": "code",
   "execution_count": 51,
   "id": "f5f04af2",
   "metadata": {},
   "outputs": [
    {
     "name": "stdout",
     "output_type": "stream",
     "text": [
      "이자가 추가된 자산은 11000.0원 입니다.\n"
     ]
    }
   ],
   "source": [
    "myaccount.add_interest()"
   ]
  },
  {
   "cell_type": "code",
   "execution_count": 67,
   "id": "98af33ee",
   "metadata": {},
   "outputs": [],
   "source": [
    "class Account:\n",
    "    \n",
    "    def __init__(self, asset=0, interest=1.05):\n",
    "        self.asset = asset\n",
    "        self.interest = interest\n",
    "        \n",
    "    def draw(self, money):\n",
    "        if self.asset >= money:\n",
    "            self.asset -= money\n",
    "            print(\"{}원이 인출되었습니다.\".format(money))\n",
    "        else:\n",
    "            print(\"인출금이 {}원 부족합니다.\".format(money-self.asset))\n",
    "            \n",
    "    def insert(self, money):\n",
    "        self.asset += money\n",
    "        print(\"{}원이 입금되었습니다.\".format(money))\n",
    "        \n",
    "    def add_interest(self):\n",
    "        self.asset *= self.interest\n",
    "        print(\"이자가 지급되었습니다.\")\n",
    "        \n",
    "    def __repr__(self):\n",
    "        return \"Account(asset:{}, interest{})\".format(self.asset, self.interest)"
   ]
  },
  {
   "cell_type": "code",
   "execution_count": 68,
   "id": "1ce51283",
   "metadata": {},
   "outputs": [],
   "source": [
    "account1 = Account(10000)"
   ]
  },
  {
   "cell_type": "code",
   "execution_count": 69,
   "id": "7deb0fda",
   "metadata": {},
   "outputs": [
    {
     "data": {
      "text/plain": [
       "(10000, 1.05)"
      ]
     },
     "execution_count": 69,
     "metadata": {},
     "output_type": "execute_result"
    }
   ],
   "source": [
    "account1.asset, account1.interest"
   ]
  },
  {
   "cell_type": "code",
   "execution_count": 70,
   "id": "3347c0ca",
   "metadata": {},
   "outputs": [
    {
     "data": {
      "text/plain": [
       "Account(asset:10000, interest1.05)"
      ]
     },
     "execution_count": 70,
     "metadata": {},
     "output_type": "execute_result"
    }
   ],
   "source": [
    "account1"
   ]
  },
  {
   "cell_type": "code",
   "execution_count": 71,
   "id": "10015eef",
   "metadata": {},
   "outputs": [
    {
     "name": "stdout",
     "output_type": "stream",
     "text": [
      "인출금이 2000원 부족합니다.\n"
     ]
    }
   ],
   "source": [
    "account1.draw(12000)"
   ]
  },
  {
   "cell_type": "code",
   "execution_count": 72,
   "id": "3b57d8b7",
   "metadata": {},
   "outputs": [
    {
     "name": "stdout",
     "output_type": "stream",
     "text": [
      "3000원이 인출되었습니다.\n"
     ]
    }
   ],
   "source": [
    "account1.draw(3000)"
   ]
  },
  {
   "cell_type": "code",
   "execution_count": 73,
   "id": "268bca89",
   "metadata": {},
   "outputs": [
    {
     "data": {
      "text/plain": [
       "Account(asset:7000, interest1.05)"
      ]
     },
     "execution_count": 73,
     "metadata": {},
     "output_type": "execute_result"
    }
   ],
   "source": [
    "account1"
   ]
  },
  {
   "cell_type": "code",
   "execution_count": 74,
   "id": "16c9a33f",
   "metadata": {},
   "outputs": [
    {
     "name": "stdout",
     "output_type": "stream",
     "text": [
      "5000원이 입금되었습니다.\n"
     ]
    }
   ],
   "source": [
    "account1.insert(5000)"
   ]
  },
  {
   "cell_type": "code",
   "execution_count": 75,
   "id": "0e5ec68e",
   "metadata": {},
   "outputs": [
    {
     "data": {
      "text/plain": [
       "Account(asset:12000, interest1.05)"
      ]
     },
     "execution_count": 75,
     "metadata": {},
     "output_type": "execute_result"
    }
   ],
   "source": [
    "account1"
   ]
  },
  {
   "cell_type": "code",
   "execution_count": 76,
   "id": "6b23d80d",
   "metadata": {},
   "outputs": [
    {
     "name": "stdout",
     "output_type": "stream",
     "text": [
      "이자가 지급되었습니다.\n"
     ]
    }
   ],
   "source": [
    "account1.add_interest()"
   ]
  },
  {
   "cell_type": "code",
   "execution_count": 77,
   "id": "08f33873",
   "metadata": {},
   "outputs": [
    {
     "data": {
      "text/plain": [
       "Account(asset:12600.0, interest1.05)"
      ]
     },
     "execution_count": 77,
     "metadata": {},
     "output_type": "execute_result"
    }
   ],
   "source": [
    "account1"
   ]
  },
  {
   "cell_type": "markdown",
   "id": "19176704",
   "metadata": {},
   "source": [
    "### Module Package\n",
    "- 모듈 : 변수, 함수, 클래스를 모아놓은 (.py) 확장자를 가진 파일\n",
    "- 패키지 : 모듈의 기능을 디렉토리별로 정리해 놓은 개념"
   ]
  },
  {
   "cell_type": "markdown",
   "id": "c3935410",
   "metadata": {},
   "source": [
    "### 1. 모듈\n",
    "- 모듈 생성\n",
    "- 모듈 호출"
   ]
  },
  {
   "cell_type": "code",
   "execution_count": 80,
   "id": "a209a4f7",
   "metadata": {},
   "outputs": [
    {
     "name": "stdout",
     "output_type": "stream",
     "text": [
      "Writing dss.py\n"
     ]
    }
   ],
   "source": [
    "%%writefile dss.py \n",
    "\n",
    "# %%이 셀에 있는 내용에 writefile을 적용할게, dss.py라는 파일을 만들어 아래 코드를 파일 형태로 저장할게\n",
    "\n",
    "num = 1234\n",
    "\n",
    "def disp1(msg):\n",
    "    print(\"disp1\", msg)\n",
    "    \n",
    "def disp2(msg):\n",
    "    print(\"disp2\", msg)\n",
    "    \n",
    "class Calc:\n",
    "    def plus(self, *args):\n",
    "        return sum(args)"
   ]
  },
  {
   "cell_type": "code",
   "execution_count": 81,
   "id": "3cc9efa1",
   "metadata": {},
   "outputs": [
    {
     "name": "stdout",
     "output_type": "stream",
     "text": [
      "01_jupyter_notebook.ipynb\n",
      "02_basic_syntax.ipynb\n",
      "03_condition_loop.ipynb\n",
      "04_function.ipynb\n",
      "05_function_2.ipynb\n",
      "06_class_1.ipynb\n",
      "07_class_2.ipynb\n",
      "08_module_package.ipynb\n",
      "Untitled.ipynb\n",
      "dss.py\n"
     ]
    }
   ],
   "source": [
    "!ls"
   ]
  },
  {
   "cell_type": "code",
   "execution_count": 82,
   "id": "11253ef1",
   "metadata": {},
   "outputs": [
    {
     "name": "stdout",
     "output_type": "stream",
     "text": [
      "Once deleted, variables cannot be recovered. Proceed (y/[n])? y\n"
     ]
    }
   ],
   "source": [
    "%reset"
   ]
  },
  {
   "cell_type": "code",
   "execution_count": 83,
   "id": "1be83471",
   "metadata": {},
   "outputs": [],
   "source": [
    "# 모듈 호출 : import\n",
    "import dss"
   ]
  },
  {
   "cell_type": "code",
   "execution_count": 84,
   "id": "0560e9c4",
   "metadata": {},
   "outputs": [
    {
     "name": "stdout",
     "output_type": "stream",
     "text": [
      "Variable   Type      Data/Info\n",
      "------------------------------\n",
      "dss        module    <module 'dss' from 'C:\\\\U<...>Code\\\\01_python\\\\dss.py'>\n"
     ]
    }
   ],
   "source": [
    "%whos"
   ]
  },
  {
   "cell_type": "code",
   "execution_count": 85,
   "id": "e4c99bc6",
   "metadata": {},
   "outputs": [
    {
     "data": {
      "text/plain": [
       "1234"
      ]
     },
     "execution_count": 85,
     "metadata": {},
     "output_type": "execute_result"
    }
   ],
   "source": [
    "dss.num"
   ]
  },
  {
   "cell_type": "code",
   "execution_count": 86,
   "id": "91d7a90a",
   "metadata": {},
   "outputs": [
    {
     "name": "stdout",
     "output_type": "stream",
     "text": [
      "disp1 python\n"
     ]
    }
   ],
   "source": [
    "dss.disp1(\"python\")"
   ]
  },
  {
   "cell_type": "code",
   "execution_count": 87,
   "id": "1351ebfc",
   "metadata": {},
   "outputs": [],
   "source": [
    "calc = dss.Calc()"
   ]
  },
  {
   "cell_type": "code",
   "execution_count": 88,
   "id": "1b856eb8",
   "metadata": {},
   "outputs": [
    {
     "data": {
      "text/plain": [
       "10"
      ]
     },
     "execution_count": 88,
     "metadata": {},
     "output_type": "execute_result"
    }
   ],
   "source": [
    "calc.plus(1, 2, 3, 4)"
   ]
  },
  {
   "cell_type": "code",
   "execution_count": 89,
   "id": "fa31234f",
   "metadata": {},
   "outputs": [
    {
     "data": {
      "text/plain": [
       "4"
      ]
     },
     "execution_count": 89,
     "metadata": {},
     "output_type": "execute_result"
    }
   ],
   "source": [
    "import random # random 이라는 모듈 파일을 호출해서 그 안에 randint라는 함수를 사용\n",
    "random.randint(1, 5)"
   ]
  },
  {
   "cell_type": "code",
   "execution_count": 90,
   "id": "3f4be448",
   "metadata": {},
   "outputs": [],
   "source": [
    "# 모듈 안에 특정 함수, 변수, 클래스 호출"
   ]
  },
  {
   "cell_type": "code",
   "execution_count": 91,
   "id": "5ccddf8d",
   "metadata": {},
   "outputs": [],
   "source": [
    "from dss import num, disp2\n",
    "# dss.disp2 라고 안 하고 disp2 이렇게 사용할 수 있음\n",
    "# 특정 디렉토리에서 특정 모듈을 불러오기도 가능"
   ]
  },
  {
   "cell_type": "code",
   "execution_count": 92,
   "id": "36386d94",
   "metadata": {},
   "outputs": [
    {
     "name": "stdout",
     "output_type": "stream",
     "text": [
      "Variable   Type        Data/Info\n",
      "--------------------------------\n",
      "calc       Calc        <dss.Calc object at 0x00000253D66E41F0>\n",
      "disp2      function    <function disp2 at 0x00000253D675B280>\n",
      "dss        module      <module 'dss' from 'C:\\\\U<...>Code\\\\01_python\\\\dss.py'>\n",
      "num        int         1234\n",
      "random     module      <module 'random' from 'C:<...>aconda3\\\\lib\\\\random.py'>\n"
     ]
    }
   ],
   "source": [
    "%whos"
   ]
  },
  {
   "cell_type": "code",
   "execution_count": 94,
   "id": "e914755b",
   "metadata": {},
   "outputs": [
    {
     "data": {
      "text/plain": [
       "1234"
      ]
     },
     "execution_count": 94,
     "metadata": {},
     "output_type": "execute_result"
    }
   ],
   "source": [
    "num"
   ]
  },
  {
   "cell_type": "code",
   "execution_count": 95,
   "id": "245d59d3",
   "metadata": {},
   "outputs": [
    {
     "name": "stdout",
     "output_type": "stream",
     "text": [
      "Once deleted, variables cannot be recovered. Proceed (y/[n])? y\n"
     ]
    }
   ],
   "source": [
    "%reset"
   ]
  },
  {
   "cell_type": "code",
   "execution_count": 96,
   "id": "b08a6710",
   "metadata": {},
   "outputs": [],
   "source": [
    "# 모듈의 모든 변수를 가져옴\n",
    "from dss import *"
   ]
  },
  {
   "cell_type": "code",
   "execution_count": 97,
   "id": "8e5b094e",
   "metadata": {},
   "outputs": [
    {
     "name": "stdout",
     "output_type": "stream",
     "text": [
      "Variable   Type        Data/Info\n",
      "--------------------------------\n",
      "Calc       type        <class 'dss.Calc'>\n",
      "disp1      function    <function disp1 at 0x00000253D675B160>\n",
      "disp2      function    <function disp2 at 0x00000253D675B280>\n",
      "num        int         1234\n"
     ]
    }
   ],
   "source": [
    "%whos"
   ]
  },
  {
   "cell_type": "markdown",
   "id": "9ce362f6",
   "metadata": {},
   "source": [
    "### 2. Package\n",
    "- 패키지 생성\n",
    "- 패키지 호출\n",
    "- setup.py 패키지 설치 파일 만들기"
   ]
  },
  {
   "cell_type": "code",
   "execution_count": 98,
   "id": "f4225179",
   "metadata": {},
   "outputs": [],
   "source": [
    "# 디렉토리 안에 모듈이 있는 것이 패키지!\n",
    "# 디렉토리 생성"
   ]
  },
  {
   "cell_type": "code",
   "execution_count": 5,
   "id": "c727a11b",
   "metadata": {},
   "outputs": [
    {
     "name": "stdout",
     "output_type": "stream",
     "text": [
      "Folder PATH listing\n",
      "Volume serial number is 00000005 B4C8:2A74\n",
      "C:\\USERS\\THDWL\\ONEDRIVE\\바탕 화면\\CODE\\01_PYTHON\\SCHOOL\n",
      "├───dss\n",
      "└───web\n"
     ]
    }
   ],
   "source": [
    "!tree school"
   ]
  },
  {
   "cell_type": "code",
   "execution_count": 6,
   "id": "32581dd0",
   "metadata": {},
   "outputs": [],
   "source": [
    "# 패키지 사용시 __init__.py 파일을 추가\n",
    "# python3.3 버전 이상에서는 필요 없으나 하위 버전과의 호환을 위해 사용"
   ]
  },
  {
   "cell_type": "code",
   "execution_count": 8,
   "id": "f5fbff1b",
   "metadata": {},
   "outputs": [],
   "source": [
    "!touch school/dss/__init__.py \n",
    "# 디렉토리에 이 이름의 빈 파일을 만듦\n",
    "!touch school/web/__init__.py"
   ]
  },
  {
   "cell_type": "code",
   "execution_count": 11,
   "id": "fc1908d8",
   "metadata": {},
   "outputs": [
    {
     "name": "stdout",
     "output_type": "stream",
     "text": [
      "Folder PATH listing\n",
      "Volume serial number is 00000090 B4C8:2A74\n",
      "C:\\USERS\\THDWL\\ONEDRIVE\\바탕 화면\\CODE\\01_PYTHON\\SCHOOL\n",
      "├───dss\n",
      "└───web\n"
     ]
    }
   ],
   "source": [
    "!tree school/"
   ]
  },
  {
   "cell_type": "code",
   "execution_count": 1,
   "id": "d824d55c",
   "metadata": {},
   "outputs": [
    {
     "name": "stdout",
     "output_type": "stream",
     "text": [
      "Writing school/dss/data1.py\n"
     ]
    }
   ],
   "source": [
    "%%writefile school/dss/data1.py\n",
    "\n",
    "def plus2(*args):\n",
    "    print(\"data2\")\n",
    "    return sum(args)"
   ]
  },
  {
   "cell_type": "code",
   "execution_count": 2,
   "id": "a348330e",
   "metadata": {},
   "outputs": [
    {
     "name": "stdout",
     "output_type": "stream",
     "text": [
      "Writing school/web/url.py\n"
     ]
    }
   ],
   "source": [
    "%%writefile school/web/url.py\n",
    "%\n",
    "def make(url):\n",
    "    return url if url[:7] == \"http://\" else \"http://\" + url"
   ]
  },
  {
   "cell_type": "code",
   "execution_count": 4,
   "id": "1d13136a",
   "metadata": {},
   "outputs": [
    {
     "name": "stdout",
     "output_type": "stream",
     "text": [
      "Folder PATH listing\n",
      "Volume serial number is 00000006 B4C8:2A74\n",
      "C:\\USERS\\THDWL\\ONEDRIVE\\바탕 화면\\CODE\\01_PYTHON\\SCHOOL\n",
      "├───dss\n",
      "└───web\n"
     ]
    }
   ],
   "source": []
  },
  {
   "cell_type": "code",
   "execution_count": 5,
   "id": "567c6323",
   "metadata": {},
   "outputs": [],
   "source": [
    "import school.dss.data1"
   ]
  },
  {
   "cell_type": "code",
   "execution_count": 6,
   "id": "d7d26bde",
   "metadata": {},
   "outputs": [
    {
     "name": "stdout",
     "output_type": "stream",
     "text": [
      "Variable   Type      Data/Info\n",
      "------------------------------\n",
      "school     module    <module 'school' (namespace)>\n"
     ]
    }
   ],
   "source": [
    "whos"
   ]
  },
  {
   "cell_type": "code",
   "execution_count": 8,
   "id": "d179a084",
   "metadata": {},
   "outputs": [
    {
     "name": "stdout",
     "output_type": "stream",
     "text": [
      "data2\n"
     ]
    },
    {
     "data": {
      "text/plain": [
       "6"
      ]
     },
     "execution_count": 8,
     "metadata": {},
     "output_type": "execute_result"
    }
   ],
   "source": [
    "school.dss.data1.plus2(1, 2, 3)"
   ]
  },
  {
   "cell_type": "code",
   "execution_count": 9,
   "id": "1163d215",
   "metadata": {},
   "outputs": [],
   "source": [
    "import school.dss.data1 as dss\n",
    "# as 패키지나 모듈의 이름을 변경하고 싶을 때 "
   ]
  },
  {
   "cell_type": "code",
   "execution_count": 10,
   "id": "083d7e28",
   "metadata": {},
   "outputs": [
    {
     "name": "stdout",
     "output_type": "stream",
     "text": [
      "data2\n"
     ]
    },
    {
     "data": {
      "text/plain": [
       "3"
      ]
     },
     "execution_count": 10,
     "metadata": {},
     "output_type": "execute_result"
    }
   ],
   "source": [
    "dss.plus2(1, 2)"
   ]
  },
  {
   "cell_type": "code",
   "execution_count": 11,
   "id": "3a9a0a4b",
   "metadata": {},
   "outputs": [],
   "source": [
    "# school.web : 디렉토리\n",
    "# import 뒤에는 클래스, 함수, 모듈이 와야 함(디렉토리는 안 됨)\n",
    "# url : 모듈\n",
    "from school.web import url"
   ]
  },
  {
   "cell_type": "code",
   "execution_count": 12,
   "id": "25cbb930",
   "metadata": {},
   "outputs": [
    {
     "data": {
      "text/plain": [
       "'http://google.com'"
      ]
     },
     "execution_count": 12,
     "metadata": {},
     "output_type": "execute_result"
    }
   ],
   "source": [
    "url.make(\"google.com\")"
   ]
  },
  {
   "cell_type": "code",
   "execution_count": 13,
   "id": "208cdd47",
   "metadata": {},
   "outputs": [
    {
     "data": {
      "text/plain": [
       "'http://naver.com'"
      ]
     },
     "execution_count": 13,
     "metadata": {},
     "output_type": "execute_result"
    }
   ],
   "source": [
    "url.make(\"http://naver.com\")"
   ]
  },
  {
   "cell_type": "code",
   "execution_count": 14,
   "id": "7540223b",
   "metadata": {},
   "outputs": [],
   "source": [
    "# 패키지의 위치 : 특정 디렉토리에 있는 패키지는 어디에서나 import 가능"
   ]
  },
  {
   "cell_type": "code",
   "execution_count": 15,
   "id": "1d2f92a2",
   "metadata": {},
   "outputs": [],
   "source": [
    "import dss"
   ]
  },
  {
   "cell_type": "code",
   "execution_count": 16,
   "id": "1f1368a3",
   "metadata": {},
   "outputs": [
    {
     "name": "stdout",
     "output_type": "stream",
     "text": [
      "01_jupyter_notebook.ipynb\n",
      "02_basic_syntax.ipynb\n",
      "03_condition_loop.ipynb\n",
      "04_function.ipynb\n",
      "05_function_2.ipynb\n",
      "06_class_1.ipynb\n",
      "07_class_2.ipynb\n",
      "08_module_package.ipynb\n",
      "Untitled.ipynb\n",
      "__pycache__\n",
      "dss.py\n",
      "school\n"
     ]
    }
   ],
   "source": [
    "!ls"
   ]
  },
  {
   "cell_type": "code",
   "execution_count": 17,
   "id": "5d886b2b",
   "metadata": {},
   "outputs": [
    {
     "name": "stdout",
     "output_type": "stream",
     "text": [
      "C:\\Users\\thdwl\\OneDrive\\바탕 화면\\Code\\01_python\n",
      "C:\\Users\\thdwl\\anaconda3\\python38.zip\n",
      "C:\\Users\\thdwl\\anaconda3\\DLLs\n",
      "C:\\Users\\thdwl\\anaconda3\\lib\n",
      "C:\\Users\\thdwl\\anaconda3\n",
      "\n",
      "C:\\Users\\thdwl\\anaconda3\\lib\\site-packages\n",
      "C:\\Users\\thdwl\\anaconda3\\lib\\site-packages\\locket-0.2.1-py3.8.egg\n",
      "C:\\Users\\thdwl\\anaconda3\\lib\\site-packages\\win32\n",
      "C:\\Users\\thdwl\\anaconda3\\lib\\site-packages\\win32\\lib\n",
      "C:\\Users\\thdwl\\anaconda3\\lib\\site-packages\\Pythonwin\n",
      "C:\\Users\\thdwl\\anaconda3\\lib\\site-packages\\IPython\\extensions\n",
      "C:\\Users\\thdwl\\.ipython\n"
     ]
    }
   ],
   "source": [
    "# 시스템 관련 기능 모듈\n",
    "import sys\n",
    "\n",
    "for path in sys.path:\n",
    "    print(path)"
   ]
  },
  {
   "cell_type": "code",
   "execution_count": 27,
   "id": "2b881025",
   "metadata": {},
   "outputs": [],
   "source": [
    "packages = !ls C:\\Users\\thdwl\\anaconda3\\lib\n",
    "# 쉘 커맨드에 있는 내용을 변수로 받을 수 있음"
   ]
  },
  {
   "cell_type": "code",
   "execution_count": 28,
   "id": "af034fa5",
   "metadata": {},
   "outputs": [
    {
     "data": {
      "text/plain": [
       "207"
      ]
     },
     "execution_count": 28,
     "metadata": {},
     "output_type": "execute_result"
    }
   ],
   "source": [
    "len(packages)"
   ]
  },
  {
   "cell_type": "code",
   "execution_count": 29,
   "id": "370f9af3",
   "metadata": {},
   "outputs": [
    {
     "data": {
      "text/plain": [
       "['xml', 'xmlrpc', 'zipapp.py', 'zipfile.py', 'zipimport.py']"
      ]
     },
     "execution_count": 29,
     "metadata": {},
     "output_type": "execute_result"
    }
   ],
   "source": [
    "packages[-5:]"
   ]
  },
  {
   "cell_type": "code",
   "execution_count": 30,
   "id": "6434f9e5",
   "metadata": {},
   "outputs": [],
   "source": [
    "# setup.py 를 작성해서 패키지를 설치하여 사용, 패키지 최상위 디렉토리에 작성\n",
    "# setuptools를 사용"
   ]
  },
  {
   "cell_type": "code",
   "execution_count": 31,
   "id": "2b182423",
   "metadata": {},
   "outputs": [
    {
     "name": "stdout",
     "output_type": "stream",
     "text": [
      "Folder PATH listing\n",
      "Volume serial number is 000000B5 B4C8:2A74\n",
      "C:\\USERS\\THDWL\\ONEDRIVE\\바탕 화면\\CODE\\01_PYTHON\\SCHOOL\n",
      "├───dss\n",
      "│   └───__pycache__\n",
      "└───web\n",
      "    └───__pycache__\n"
     ]
    }
   ],
   "source": [
    "!tree school\\"
   ]
  },
  {
   "cell_type": "code",
   "execution_count": 5,
   "id": "30a3ecb6",
   "metadata": {},
   "outputs": [
    {
     "name": "stdout",
     "output_type": "stream",
     "text": [
      "Overwriting school/dss/__intit__.py\n"
     ]
    }
   ],
   "source": [
    "%%writefile school/dss/__intit__.py\n",
    "\n",
    "__all__ = [\"data1\", \"data2\"]"
   ]
  },
  {
   "cell_type": "code",
   "execution_count": 37,
   "id": "9453bb05",
   "metadata": {},
   "outputs": [
    {
     "name": "stdout",
     "output_type": "stream",
     "text": [
      "Writing school/setup.py\n"
     ]
    }
   ],
   "source": [
    "%%writefile school/setup.py\n",
    "\n",
    "from setuptools import setup, find_packages\n",
    "\n",
    "setup(\n",
    "    name=\"dss\",\n",
    "    packages=find_packages(),\n",
    "    include_package_data=True,\n",
    "    version=\"0.0.1\",\n",
    "    author=\"me\",\n",
    "    author_email=\"thdwlals41@naver.com\",\n",
    "    zip_safe=False,\n",
    ")"
   ]
  },
  {
   "cell_type": "code",
   "execution_count": 38,
   "id": "6ef68c66",
   "metadata": {},
   "outputs": [
    {
     "name": "stderr",
     "output_type": "stream",
     "text": [
      "rm: cannot remove 'dss.py': No such file or directory\n"
     ]
    }
   ],
   "source": [
    "!rm dss.py"
   ]
  },
  {
   "cell_type": "code",
   "execution_count": 34,
   "id": "48b64e46",
   "metadata": {},
   "outputs": [],
   "source": [
    "# 패키지 설치 확인"
   ]
  },
  {
   "cell_type": "code",
   "execution_count": 3,
   "id": "0cf8d885",
   "metadata": {},
   "outputs": [
    {
     "name": "stdout",
     "output_type": "stream",
     "text": [
      "Binary file (standard input) matches\n"
     ]
    }
   ],
   "source": [
    "!pip list | grep dss\n",
    "# pip 파이썬 패키지 관리 툴, 현재 파이썬 패키지 리스트 확인 가능\n",
    "# grep 이 문자가 들어간 패키지를 검색해서 출력"
   ]
  },
  {
   "cell_type": "code",
   "execution_count": 1,
   "id": "7a5ee814",
   "metadata": {},
   "outputs": [],
   "source": [
    "# 패키지 설치\n",
    "# school $ python setup.py develop\n",
    "# 커널 리스타트\n",
    "# develop : 개발자모드, 코드를 수정하면 설치된 패키지도 같이 수정\n",
    "# build : 일반모드, 코드를 수정하면 다시 설치해야 수정된 코드가 적용"
   ]
  },
  {
   "cell_type": "code",
   "execution_count": 8,
   "id": "6b8c7aaf",
   "metadata": {},
   "outputs": [
    {
     "name": "stdout",
     "output_type": "stream",
     "text": [
      "dss                                0.0.1               c:\\users\\thdwl\\onedrive\\바탕 화면\\code\\01_python\\school\n"
     ]
    }
   ],
   "source": [
    "!pip list | grep dss -a"
   ]
  },
  {
   "cell_type": "code",
   "execution_count": 3,
   "id": "290fe76c",
   "metadata": {},
   "outputs": [
    {
     "name": "stdout",
     "output_type": "stream",
     "text": [
      "numpy                              1.20.1\n",
      "numpydoc                           1.1.0\n"
     ]
    }
   ],
   "source": [
    "!pip list | grep numpy"
   ]
  },
  {
   "cell_type": "code",
   "execution_count": 10,
   "id": "cdf706a6",
   "metadata": {},
   "outputs": [],
   "source": [
    "from dss import *"
   ]
  },
  {
   "cell_type": "code",
   "execution_count": 11,
   "id": "0bcf1f61",
   "metadata": {},
   "outputs": [
    {
     "name": "stdout",
     "output_type": "stream",
     "text": [
      "Interactive namespace is empty.\n"
     ]
    }
   ],
   "source": [
    "%whos"
   ]
  },
  {
   "cell_type": "code",
   "execution_count": 12,
   "id": "319ef31f",
   "metadata": {},
   "outputs": [
    {
     "name": "stdout",
     "output_type": "stream",
     "text": [
      "dss                                0.0.1\n"
     ]
    }
   ],
   "source": [
    "# uninstall\n",
    "# pip uninstall dss"
   ]
  },
  {
   "cell_type": "code",
   "execution_count": 1,
   "id": "e5c03d14",
   "metadata": {
    "scrolled": true
   },
   "outputs": [
    {
     "name": "stdout",
     "output_type": "stream",
     "text": [
      "dss                                0.0.1\n"
     ]
    }
   ],
   "source": [
    "!pip list | grep dss"
   ]
  }
 ],
 "metadata": {
  "kernelspec": {
   "display_name": "Python 3",
   "language": "python",
   "name": "python3"
  },
  "language_info": {
   "codemirror_mode": {
    "name": "ipython",
    "version": 3
   },
   "file_extension": ".py",
   "mimetype": "text/x-python",
   "name": "python",
   "nbconvert_exporter": "python",
   "pygments_lexer": "ipython3",
   "version": "3.8.8"
  }
 },
 "nbformat": 4,
 "nbformat_minor": 5
}
