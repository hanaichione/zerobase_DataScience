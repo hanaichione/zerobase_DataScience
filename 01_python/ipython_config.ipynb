{
 "cells": [
  {
   "cell_type": "markdown",
   "id": "136b4f2d",
   "metadata": {},
   "source": [
    "### ipython 설정\n",
    "- startup 파일 설정\n",
    "    - 주피터 노트북 실행 시 미리 실행되는 코드 설정\n",
    "    - import numpy as np\n",
    "    - 설정 방법\n",
    "        - 프로필 파일 생성 : `$ ipython profile create`\n",
    "        - startup 파일 수정"
   ]
  },
  {
   "cell_type": "code",
   "execution_count": 1,
   "id": "8882cbc6",
   "metadata": {},
   "outputs": [
    {
     "ename": "SyntaxError",
     "evalue": "invalid syntax (<ipython-input-1-bb32b837e654>, line 2)",
     "output_type": "error",
     "traceback": [
      "\u001b[1;36m  File \u001b[1;32m\"<ipython-input-1-bb32b837e654>\"\u001b[1;36m, line \u001b[1;32m2\u001b[0m\n\u001b[1;33m    - nbextentions config\u001b[0m\n\u001b[1;37m                   ^\u001b[0m\n\u001b[1;31mSyntaxError\u001b[0m\u001b[1;31m:\u001b[0m invalid syntax\n"
     ]
    }
   ],
   "source": [
    "### autopep8\n",
    "- nbextentions config\n",
    "    - "
   ]
  },
  {
   "cell_type": "code",
   "execution_count": 2,
   "id": "b6ae8aca",
   "metadata": {},
   "outputs": [
    {
     "name": "stdout",
     "output_type": "stream",
     "text": [
      "Requirement already satisfied: autopep8 in c:\\users\\thdwl\\anaconda3\\lib\\site-packages (1.5.6)\n",
      "Collecting pycodestyle>=2.7.0\n",
      "  Downloading pycodestyle-2.7.0-py2.py3-none-any.whl (41 kB)\n",
      "Requirement already satisfied: toml in c:\\users\\thdwl\\anaconda3\\lib\\site-packages (from autopep8) (0.10.2)\n",
      "Installing collected packages: pycodestyle\n",
      "  Attempting uninstall: pycodestyle\n",
      "    Found existing installation: pycodestyle 2.6.0\n",
      "    Uninstalling pycodestyle-2.6.0:\n",
      "      Successfully uninstalled pycodestyle-2.6.0\n",
      "Successfully installed pycodestyle-2.7.0\n",
      "Note: you may need to restart the kernel to use updated packages.\n"
     ]
    },
    {
     "name": "stderr",
     "output_type": "stream",
     "text": [
      "ERROR: pip's dependency resolver does not currently take into account all the packages that are installed. This behaviour is the source of the following dependency conflicts.\n",
      "flake8 3.9.0 requires pyflakes<2.4.0,>=2.3.0, but you have pyflakes 2.2.0 which is incompatible.\n"
     ]
    }
   ],
   "source": [
    "pip install autopep8"
   ]
  },
  {
   "cell_type": "code",
   "execution_count": 3,
   "id": "9ba91fd1",
   "metadata": {},
   "outputs": [
    {
     "name": "stdout",
     "output_type": "stream",
     "text": [
      "^C\n",
      "\n",
      "Note: you may need to restart the kernel to use updated packages.\n"
     ]
    }
   ],
   "source": [
    "conda install -c conda-forge autopep8"
   ]
  },
  {
   "cell_type": "code",
   "execution_count": null,
   "id": "c0705f66",
   "metadata": {},
   "outputs": [],
   "source": []
  }
 ],
 "metadata": {
  "kernelspec": {
   "display_name": "Python 3 (ipykernel)",
   "language": "python",
   "name": "python3"
  },
  "language_info": {
   "codemirror_mode": {
    "name": "ipython",
    "version": 3
   },
   "file_extension": ".py",
   "mimetype": "text/x-python",
   "name": "python",
   "nbconvert_exporter": "python",
   "pygments_lexer": "ipython3",
   "version": "3.9.7"
  }
 },
 "nbformat": 4,
 "nbformat_minor": 5
}
