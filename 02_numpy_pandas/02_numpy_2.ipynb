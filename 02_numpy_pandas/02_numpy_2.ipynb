{
 "cells": [
  {
   "cell_type": "markdown",
   "id": "a256eb55",
   "metadata": {},
   "source": [
    "### summary\n",
    "- numpy : 선형대수를 빠르게 연산해주는 패키지\n",
    "- 행렬의 생성1 : ndarray, np.array(iterable)\n",
    "- 행렬의 생성2 : ones, zeros\n",
    "- 행렬 데이터 선택 : array[x, y, z]\n",
    "- 행렬 데이터 수정\n",
    "    - 행렬 데이터 선택\n",
    "    - =, >, < (값(scala, vetor, matrix))\n",
    "    - 브로드 캐스팅 개념\n",
    "- arange : list에서 사용하는 range : 결과가 ndarray"
   ]
  },
  {
   "cell_type": "markdown",
   "id": "0b0f389a",
   "metadata": {},
   "source": [
    "### 연습문제\n",
    "- quiz 100 ~ 130까지 랜덤한 숫자를 가지는 8*8 행렬을 만들고\n",
    "- 3의 배수는 fiz, 5의 배수는 buz, 3과 5의 배수는 fbz 문자로 변환"
   ]
  },
  {
   "cell_type": "code",
   "execution_count": 2,
   "id": "9a51ac2c",
   "metadata": {},
   "outputs": [],
   "source": [
    "import random\n",
    "import numpy as np"
   ]
  },
  {
   "cell_type": "code",
   "execution_count": 3,
   "id": "35c4314d",
   "metadata": {},
   "outputs": [],
   "source": [
    "datas = np.random.randint(100, 130, size=(8, 8))"
   ]
  },
  {
   "cell_type": "code",
   "execution_count": 6,
   "id": "07c8e7f9",
   "metadata": {},
   "outputs": [
    {
     "data": {
      "text/plain": [
       "array([[110, 106, 107, 107, 107, 113, 101, 114],\n",
       "       [125, 115, 108, 110, 115, 122, 101, 120],\n",
       "       [118, 123, 115, 103, 109, 126, 111, 108],\n",
       "       [113, 114, 113, 121, 117, 100, 108, 101],\n",
       "       [100, 114, 124, 124, 102, 126, 102, 112],\n",
       "       [100, 114, 106, 118, 122, 119, 126, 126],\n",
       "       [101, 102, 110, 123, 106, 104, 127, 109],\n",
       "       [116, 102, 111, 115, 106, 110, 127, 126]])"
      ]
     },
     "execution_count": 6,
     "metadata": {},
     "output_type": "execute_result"
    }
   ],
   "source": [
    "datas"
   ]
  },
  {
   "cell_type": "code",
   "execution_count": 5,
   "id": "25e9eae9",
   "metadata": {},
   "outputs": [
    {
     "data": {
      "text/plain": [
       "array([['110', '106', '107', '107', '107', '113', '101', '114'],\n",
       "       ['125', '115', '108', '110', '115', '122', '101', '120'],\n",
       "       ['118', '123', '115', '103', '109', '126', '111', '108'],\n",
       "       ['113', '114', '113', '121', '117', '100', '108', '101'],\n",
       "       ['100', '114', '124', '124', '102', '126', '102', '112'],\n",
       "       ['100', '114', '106', '118', '122', '119', '126', '126'],\n",
       "       ['101', '102', '110', '123', '106', '104', '127', '109'],\n",
       "       ['116', '102', '111', '115', '106', '110', '127', '126']],\n",
       "      dtype='<U11')"
      ]
     },
     "execution_count": 5,
     "metadata": {},
     "output_type": "execute_result"
    }
   ],
   "source": [
    "datas.astype(str)"
   ]
  },
  {
   "cell_type": "code",
   "execution_count": 7,
   "id": "2a0d266d",
   "metadata": {},
   "outputs": [
    {
     "ename": "TypeError",
     "evalue": "only size-1 arrays can be converted to Python scalars",
     "output_type": "error",
     "traceback": [
      "\u001b[1;31m---------------------------------------------------------------------------\u001b[0m",
      "\u001b[1;31mTypeError\u001b[0m                                 Traceback (most recent call last)",
      "\u001b[1;32m<ipython-input-7-fc331ba95c12>\u001b[0m in \u001b[0;36m<module>\u001b[1;34m\u001b[0m\n\u001b[0;32m      1\u001b[0m \u001b[1;32mfor\u001b[0m \u001b[0mnumber\u001b[0m \u001b[1;32min\u001b[0m \u001b[0mdatas\u001b[0m\u001b[1;33m:\u001b[0m\u001b[1;33m\u001b[0m\u001b[1;33m\u001b[0m\u001b[0m\n\u001b[1;32m----> 2\u001b[1;33m     \u001b[1;32mif\u001b[0m \u001b[0mint\u001b[0m\u001b[1;33m(\u001b[0m\u001b[0mnumber\u001b[0m\u001b[1;33m)\u001b[0m \u001b[1;33m%\u001b[0m \u001b[1;36m3\u001b[0m \u001b[1;33m==\u001b[0m \u001b[1;36m0\u001b[0m\u001b[1;33m:\u001b[0m\u001b[1;33m\u001b[0m\u001b[1;33m\u001b[0m\u001b[0m\n\u001b[0m\u001b[0;32m      3\u001b[0m         \u001b[0mnumber\u001b[0m \u001b[1;33m=\u001b[0m \u001b[1;34m'fiz'\u001b[0m\u001b[1;33m\u001b[0m\u001b[1;33m\u001b[0m\u001b[0m\n\u001b[0;32m      4\u001b[0m     \u001b[1;32melif\u001b[0m \u001b[0mint\u001b[0m\u001b[1;33m(\u001b[0m\u001b[0mnumber\u001b[0m\u001b[1;33m)\u001b[0m \u001b[1;33m%\u001b[0m \u001b[1;36m5\u001b[0m \u001b[1;33m==\u001b[0m \u001b[1;36m0\u001b[0m\u001b[1;33m:\u001b[0m\u001b[1;33m\u001b[0m\u001b[1;33m\u001b[0m\u001b[0m\n\u001b[0;32m      5\u001b[0m         \u001b[0mnumber\u001b[0m \u001b[1;33m=\u001b[0m \u001b[1;34m'buz'\u001b[0m\u001b[1;33m\u001b[0m\u001b[1;33m\u001b[0m\u001b[0m\n",
      "\u001b[1;31mTypeError\u001b[0m: only size-1 arrays can be converted to Python scalars"
     ]
    }
   ],
   "source": [
    "for number in datas:\n",
    "    if int(number) % 3 == 0:\n",
    "        number = 'fiz'\n",
    "    elif int(number) % 5 == 0:\n",
    "        number = 'buz'\n",
    "    elif int(number) % 15 == 0:\n",
    "        number = 'fbz'"
   ]
  },
  {
   "cell_type": "code",
   "execution_count": 8,
   "id": "e663ef02",
   "metadata": {},
   "outputs": [
    {
     "data": {
      "text/plain": [
       "array([1, 3])"
      ]
     },
     "execution_count": 8,
     "metadata": {},
     "output_type": "execute_result"
    }
   ],
   "source": [
    "data1 = np.array([1, 2, 3])\n",
    "data2 = [True, False, True]\n",
    "data1[data2]"
   ]
  },
  {
   "cell_type": "code",
   "execution_count": 14,
   "id": "ef8b3c30",
   "metadata": {},
   "outputs": [],
   "source": [
    "# 3의 배수, 5의 배수, 15의 배수 위치값에 대한 T, F matrix 생성\n",
    "\n",
    "idx3 = datas % 3 == 0\n",
    "idx5 = datas % 5 == 0\n",
    "idx15 = datas % 15 == 0"
   ]
  },
  {
   "cell_type": "code",
   "execution_count": 16,
   "id": "1fb3c374",
   "metadata": {},
   "outputs": [
    {
     "data": {
      "text/plain": [
       "dtype('int32')"
      ]
     },
     "execution_count": 16,
     "metadata": {},
     "output_type": "execute_result"
    }
   ],
   "source": [
    "# 데이터 타입을 str 으로 변환\n",
    "\n",
    "datas.dtype"
   ]
  },
  {
   "cell_type": "code",
   "execution_count": 17,
   "id": "77479e86",
   "metadata": {},
   "outputs": [],
   "source": [
    "result = datas.astype(\"str\")"
   ]
  },
  {
   "cell_type": "code",
   "execution_count": 18,
   "id": "ae8ea93f",
   "metadata": {},
   "outputs": [],
   "source": [
    "# T, F 행렬을 이용하여 특정 조건의 데이터를 선택 후 브로드캐스팅하게 값을 대입"
   ]
  },
  {
   "cell_type": "code",
   "execution_count": 22,
   "id": "dfa51475",
   "metadata": {},
   "outputs": [
    {
     "data": {
      "text/plain": [
       "array(['fiz', 'fiz', 'fbz', 'fiz', 'fiz', 'fiz', 'fiz', 'fiz', 'fiz',\n",
       "       'fiz', 'fiz', 'fiz', 'fiz', 'fiz', 'fiz', 'fiz', 'fiz', 'fiz',\n",
       "       'fiz', 'fiz', 'fiz', 'fiz'], dtype='<U11')"
      ]
     },
     "execution_count": 22,
     "metadata": {},
     "output_type": "execute_result"
    }
   ],
   "source": [
    "result[idx3]"
   ]
  },
  {
   "cell_type": "code",
   "execution_count": 23,
   "id": "1c917b68",
   "metadata": {},
   "outputs": [],
   "source": [
    "result[idx3] = 'fiz'\n",
    "result[idx5] = 'buz'\n",
    "result[idx15] = 'fbz'"
   ]
  },
  {
   "cell_type": "code",
   "execution_count": 24,
   "id": "9e6bd0b9",
   "metadata": {},
   "outputs": [
    {
     "data": {
      "text/plain": [
       "array([['buz', '106', '107', '107', '107', '113', '101', 'fiz'],\n",
       "       ['buz', 'buz', 'fiz', 'buz', 'buz', '122', '101', 'fbz'],\n",
       "       ['118', 'fiz', 'buz', '103', '109', 'fiz', 'fiz', 'fiz'],\n",
       "       ['113', 'fiz', '113', '121', 'fiz', 'buz', 'fiz', '101'],\n",
       "       ['buz', 'fiz', '124', '124', 'fiz', 'fiz', 'fiz', '112'],\n",
       "       ['buz', 'fiz', '106', '118', '122', '119', 'fiz', 'fiz'],\n",
       "       ['101', 'fiz', 'buz', 'fiz', '106', '104', '127', '109'],\n",
       "       ['116', 'fiz', 'fiz', 'buz', '106', 'buz', '127', 'fiz']],\n",
       "      dtype='<U11')"
      ]
     },
     "execution_count": 24,
     "metadata": {},
     "output_type": "execute_result"
    }
   ],
   "source": [
    "result"
   ]
  },
  {
   "cell_type": "markdown",
   "id": "68e69694",
   "metadata": {},
   "source": [
    "### 연습문제\n",
    "- 1 ~ 20까지 랜덤한 숫자를 가지는 5*5 행렬 생성\n",
    "- 최대값에는 MAX, 최소값에는 MIN 문자열이 들어가도록 치환하는 코드\n",
    "- 최대값과 최소값 함수\n",
    "\n",
    "```\n",
    "np.min(ndarray), np.max(ndarray)\n",
    "```"
   ]
  },
  {
   "cell_type": "code",
   "execution_count": 25,
   "id": "2807b130",
   "metadata": {},
   "outputs": [],
   "source": [
    "datas = np.random.randint(1, 20, (5, 5))"
   ]
  },
  {
   "cell_type": "code",
   "execution_count": 26,
   "id": "5d07dac0",
   "metadata": {},
   "outputs": [
    {
     "data": {
      "text/plain": [
       "array([[17,  7,  5, 19, 18],\n",
       "       [ 6,  1, 12,  7,  6],\n",
       "       [14, 13,  7, 11,  5],\n",
       "       [14,  1, 19, 11,  9],\n",
       "       [ 7,  3,  5, 11, 10]])"
      ]
     },
     "execution_count": 26,
     "metadata": {},
     "output_type": "execute_result"
    }
   ],
   "source": [
    "datas"
   ]
  },
  {
   "cell_type": "code",
   "execution_count": 27,
   "id": "f0ec2ab2",
   "metadata": {},
   "outputs": [],
   "source": [
    "min_num, max_num = np.min(datas), np.max(datas)"
   ]
  },
  {
   "cell_type": "code",
   "execution_count": 28,
   "id": "e419d114",
   "metadata": {},
   "outputs": [
    {
     "data": {
      "text/plain": [
       "1"
      ]
     },
     "execution_count": 28,
     "metadata": {},
     "output_type": "execute_result"
    }
   ],
   "source": [
    "min_num"
   ]
  },
  {
   "cell_type": "code",
   "execution_count": 29,
   "id": "a475f872",
   "metadata": {},
   "outputs": [
    {
     "data": {
      "text/plain": [
       "19"
      ]
     },
     "execution_count": 29,
     "metadata": {},
     "output_type": "execute_result"
    }
   ],
   "source": [
    "max_num"
   ]
  },
  {
   "cell_type": "code",
   "execution_count": 30,
   "id": "cdc838c9",
   "metadata": {},
   "outputs": [],
   "source": [
    "idx_min = min_num == datas\n",
    "idx_max = max_num == datas"
   ]
  },
  {
   "cell_type": "code",
   "execution_count": 31,
   "id": "114bb22a",
   "metadata": {},
   "outputs": [
    {
     "data": {
      "text/plain": [
       "array([[False, False, False, False, False],\n",
       "       [False,  True, False, False, False],\n",
       "       [False, False, False, False, False],\n",
       "       [False,  True, False, False, False],\n",
       "       [False, False, False, False, False]])"
      ]
     },
     "execution_count": 31,
     "metadata": {},
     "output_type": "execute_result"
    }
   ],
   "source": [
    "idx_min"
   ]
  },
  {
   "cell_type": "code",
   "execution_count": 32,
   "id": "5ba9a717",
   "metadata": {},
   "outputs": [],
   "source": [
    "result = datas.astype(\"str\")"
   ]
  },
  {
   "cell_type": "code",
   "execution_count": 33,
   "id": "ceafb4f0",
   "metadata": {},
   "outputs": [],
   "source": [
    "result[idx_min] = \"MIN\"\n",
    "result[idx_max] = \"MAX\""
   ]
  },
  {
   "cell_type": "code",
   "execution_count": 34,
   "id": "809538c1",
   "metadata": {},
   "outputs": [
    {
     "data": {
      "text/plain": [
       "array([['17', '7', '5', 'MAX', '18'],\n",
       "       ['6', 'MIN', '12', '7', '6'],\n",
       "       ['14', '13', '7', '11', '5'],\n",
       "       ['14', 'MIN', 'MAX', '11', '9'],\n",
       "       ['7', '3', '5', '11', '10']], dtype='<U11')"
      ]
     },
     "execution_count": 34,
     "metadata": {},
     "output_type": "execute_result"
    }
   ],
   "source": [
    "result"
   ]
  },
  {
   "cell_type": "markdown",
   "id": "dfc63623",
   "metadata": {},
   "source": [
    "### 1. linspace, logspace 함수\n",
    "- linspace : 설정한 범위에서 선형적으로 분할한 위치의 값을 출력\n",
    "- logspace : 설정한 범위에서 로그로 분할한 위치의 값을 출력"
   ]
  },
  {
   "cell_type": "code",
   "execution_count": 35,
   "id": "8f78acb2",
   "metadata": {},
   "outputs": [
    {
     "data": {
      "text/plain": [
       "array([  0.,  25.,  50.,  75., 100.])"
      ]
     },
     "execution_count": 35,
     "metadata": {},
     "output_type": "execute_result"
    }
   ],
   "source": [
    "# linspace\n",
    "np.linspace(0, 100, 5)"
   ]
  },
  {
   "cell_type": "code",
   "execution_count": 36,
   "id": "225fdfa9",
   "metadata": {},
   "outputs": [
    {
     "data": {
      "text/plain": [
       "array([  100.,  1000., 10000.])"
      ]
     },
     "execution_count": 36,
     "metadata": {},
     "output_type": "execute_result"
    }
   ],
   "source": [
    "# logspace\n",
    "# log10(x1)=2, log10(x2)=3, log10(x3)=4\n",
    "np.logspace(2, 4, 3)"
   ]
  },
  {
   "cell_type": "markdown",
   "id": "d2059de7",
   "metadata": {},
   "source": [
    "### 연습문제\n",
    "- 30세 연봉이 $100,000 이고 60세의 연봉이 $1,000,000 일 때\n",
    "- 연봉이 선형으로 증가, 지수함수로 증가하는 두 경우에서의 40세, 50세 연봉을 출력"
   ]
  },
  {
   "cell_type": "code",
   "execution_count": 37,
   "id": "da21b62a",
   "metadata": {},
   "outputs": [],
   "source": [
    "age_30 = 100000\n",
    "age_60 = 1000000"
   ]
  },
  {
   "cell_type": "code",
   "execution_count": 38,
   "id": "c8f923c8",
   "metadata": {},
   "outputs": [
    {
     "data": {
      "text/plain": [
       "array([ 100000.,  400000.,  700000., 1000000.])"
      ]
     },
     "execution_count": 38,
     "metadata": {},
     "output_type": "execute_result"
    }
   ],
   "source": [
    "np.linspace(age_30, age_60, 4)"
   ]
  },
  {
   "cell_type": "code",
   "execution_count": 40,
   "id": "7f592e68",
   "metadata": {},
   "outputs": [
    {
     "data": {
      "text/plain": [
       "array([ 100000.        ,  215443.46900319,  464158.88336128,\n",
       "       1000000.        ])"
      ]
     },
     "execution_count": 40,
     "metadata": {},
     "output_type": "execute_result"
    }
   ],
   "source": [
    "np.logspace(np.log10(age_30), np.log10(age_60), 4)"
   ]
  },
  {
   "cell_type": "markdown",
   "id": "e51370a3",
   "metadata": {},
   "source": [
    "### 2. numpy random\n",
    "- seed : 랜덤값을 설정함\n",
    "- rand : 균등분포로 난수를 생성\n",
    "- randn : 정규분포로 난수를 발생\n",
    "- randint : 균등분포로 정수값을 발생\n",
    "- shuffle : 행렬 데이터를 섞어 준다.\n",
    "- choice : 특정 확률로 데이터를 선택"
   ]
  },
  {
   "cell_type": "code",
   "execution_count": 42,
   "id": "0762909f",
   "metadata": {},
   "outputs": [
    {
     "data": {
      "text/plain": [
       "(array([47, 22, 82, 19, 85, 15, 89, 74, 26, 11]),\n",
       " array([47, 22, 82, 19, 85, 15, 89, 74, 26, 11]),\n",
       " array([50, 25, 82, 32, 53, 92, 85, 17, 44, 59]))"
      ]
     },
     "execution_count": 42,
     "metadata": {},
     "output_type": "execute_result"
    }
   ],
   "source": [
    "# seed\n",
    "np.random.seed(1)\n",
    "result1 = np.random.randint(10, 100, 10)\n",
    "\n",
    "np.random.seed(1)\n",
    "result2 = np.random.randint(10, 100, 10)\n",
    "\n",
    "np.random.seed(2)\n",
    "result3 = np.random.randint(10, 100, 10)\n",
    "\n",
    "result1, result2, result3"
   ]
  },
  {
   "cell_type": "code",
   "execution_count": 44,
   "id": "96302c33",
   "metadata": {},
   "outputs": [
    {
     "data": {
      "text/plain": [
       "array([0.85397529, 0.49423684, 0.84656149, 0.07964548, 0.50524609,\n",
       "       0.0652865 , 0.42812233, 0.09653092, 0.12715997, 0.59674531])"
      ]
     },
     "execution_count": 44,
     "metadata": {},
     "output_type": "execute_result"
    }
   ],
   "source": [
    "np.random.rand(10)"
   ]
  },
  {
   "cell_type": "code",
   "execution_count": 45,
   "id": "7434a400",
   "metadata": {},
   "outputs": [
    {
     "data": {
      "text/plain": [
       "array([-0.33882197, -0.23618403, -0.63765501, -1.18761229, -1.42121723,\n",
       "       -0.1534952 , -0.26905696,  2.23136679, -2.43476758,  0.1127265 ])"
      ]
     },
     "execution_count": 45,
     "metadata": {},
     "output_type": "execute_result"
    }
   ],
   "source": [
    "np.random.randn(10)"
   ]
  },
  {
   "cell_type": "code",
   "execution_count": 46,
   "id": "879481c2",
   "metadata": {},
   "outputs": [
    {
     "data": {
      "text/plain": [
       "array([[9, 6, 4, 1],\n",
       "       [1, 3, 9, 9],\n",
       "       [3, 7, 6, 7]])"
      ]
     },
     "execution_count": 46,
     "metadata": {},
     "output_type": "execute_result"
    }
   ],
   "source": [
    "# shuffle\n",
    "r = np.random.randint(1, 10, (3, 4))\n",
    "r"
   ]
  },
  {
   "cell_type": "code",
   "execution_count": 47,
   "id": "7a1fcd07",
   "metadata": {},
   "outputs": [
    {
     "data": {
      "text/plain": [
       "array([[1, 3, 9, 9],\n",
       "       [9, 6, 4, 1],\n",
       "       [3, 7, 6, 7]])"
      ]
     },
     "execution_count": 47,
     "metadata": {},
     "output_type": "execute_result"
    }
   ],
   "source": [
    "np.random.shuffle(r)\n",
    "r"
   ]
  },
  {
   "cell_type": "code",
   "execution_count": 65,
   "id": "b8ab2609",
   "metadata": {},
   "outputs": [],
   "source": [
    "result=r.reshape(12, 1)"
   ]
  },
  {
   "cell_type": "code",
   "execution_count": 66,
   "id": "723e8764",
   "metadata": {},
   "outputs": [],
   "source": [
    "np.random.shuffle(result)"
   ]
  },
  {
   "cell_type": "code",
   "execution_count": 67,
   "id": "e70b4147",
   "metadata": {},
   "outputs": [
    {
     "data": {
      "text/plain": [
       "array([[1],\n",
       "       [3],\n",
       "       [4],\n",
       "       [3],\n",
       "       [1],\n",
       "       [9],\n",
       "       [9],\n",
       "       [6],\n",
       "       [9],\n",
       "       [7],\n",
       "       [7],\n",
       "       [6]])"
      ]
     },
     "execution_count": 67,
     "metadata": {},
     "output_type": "execute_result"
    }
   ],
   "source": [
    "result"
   ]
  },
  {
   "cell_type": "code",
   "execution_count": 68,
   "id": "9628d065",
   "metadata": {},
   "outputs": [
    {
     "data": {
      "text/plain": [
       "array([[1, 3, 4, 3],\n",
       "       [1, 9, 9, 6],\n",
       "       [9, 7, 7, 6]])"
      ]
     },
     "execution_count": 68,
     "metadata": {},
     "output_type": "execute_result"
    }
   ],
   "source": [
    "result.reshape(3, 4)"
   ]
  },
  {
   "cell_type": "code",
   "execution_count": 70,
   "id": "530364b4",
   "metadata": {},
   "outputs": [
    {
     "data": {
      "text/plain": [
       "array([3, 4, 3, 3, 2, 4, 0, 4, 2, 2])"
      ]
     },
     "execution_count": 70,
     "metadata": {},
     "output_type": "execute_result"
    }
   ],
   "source": [
    "# choice\n",
    "# python random 은 마지막 수 포함, numpy randint 마지막 수 불포함\n",
    "\n",
    "np.random.choice(5, 10, p=[0.1, 0, 0.4, 0.2, 0.3])\n",
    "# 확률을 할당할 수 있음, 순서대로 0, 1, 2, 3, 4에 해당되므로 1은 안 나옴"
   ]
  },
  {
   "cell_type": "code",
   "execution_count": 72,
   "id": "82c232f0",
   "metadata": {},
   "outputs": [
    {
     "name": "stdout",
     "output_type": "stream",
     "text": [
      "[1 3 4 6 7 9] [2 2 1 2 2 3]\n"
     ]
    }
   ],
   "source": [
    "# unique\n",
    "numbers, counts = np.unique(r, return_counts=True)\n",
    "print(numbers, counts)"
   ]
  },
  {
   "cell_type": "markdown",
   "id": "b173b420",
   "metadata": {},
   "source": [
    "### 3. 행렬 데이터의 결합\n",
    "- concatenate"
   ]
  },
  {
   "cell_type": "code",
   "execution_count": 73,
   "id": "0f763676",
   "metadata": {},
   "outputs": [],
   "source": [
    "na1 = np.random.randint(10, size=(2, 3))\n",
    "na2 = np.random.randint(10, size=(3, 2))\n",
    "na3 = np.random.randint(10, size=(3, 3))"
   ]
  },
  {
   "cell_type": "code",
   "execution_count": 74,
   "id": "d2bc2e66",
   "metadata": {},
   "outputs": [
    {
     "data": {
      "text/plain": [
       "array([[0, 8, 5],\n",
       "       [4, 2, 9]])"
      ]
     },
     "execution_count": 74,
     "metadata": {},
     "output_type": "execute_result"
    }
   ],
   "source": [
    "# 세로 결합\n",
    "na1"
   ]
  },
  {
   "cell_type": "code",
   "execution_count": 75,
   "id": "95993f2c",
   "metadata": {},
   "outputs": [
    {
     "data": {
      "text/plain": [
       "array([[7, 1],\n",
       "       [9, 2],\n",
       "       [1, 0]])"
      ]
     },
     "execution_count": 75,
     "metadata": {},
     "output_type": "execute_result"
    }
   ],
   "source": [
    "na2"
   ]
  },
  {
   "cell_type": "code",
   "execution_count": 76,
   "id": "41a5d3ba",
   "metadata": {},
   "outputs": [
    {
     "data": {
      "text/plain": [
       "array([[7, 1, 8],\n",
       "       [9, 0, 7],\n",
       "       [0, 5, 2]])"
      ]
     },
     "execution_count": 76,
     "metadata": {},
     "output_type": "execute_result"
    }
   ],
   "source": [
    "na3"
   ]
  },
  {
   "cell_type": "code",
   "execution_count": 78,
   "id": "5a058a9a",
   "metadata": {},
   "outputs": [
    {
     "data": {
      "text/plain": [
       "array([[0, 8, 5],\n",
       "       [4, 2, 9],\n",
       "       [7, 1, 8],\n",
       "       [9, 0, 7],\n",
       "       [0, 5, 2]])"
      ]
     },
     "execution_count": 78,
     "metadata": {},
     "output_type": "execute_result"
    }
   ],
   "source": [
    "np.concatenate((na1, na3))\n",
    "# np.concatenate() axis = 0 세로 결합이라는 뜻, 1이면 가로 결합"
   ]
  },
  {
   "cell_type": "code",
   "execution_count": 79,
   "id": "f7767994",
   "metadata": {},
   "outputs": [
    {
     "data": {
      "text/plain": [
       "array([[7, 1, 7, 1, 8],\n",
       "       [9, 2, 9, 0, 7],\n",
       "       [1, 0, 0, 5, 2]])"
      ]
     },
     "execution_count": 79,
     "metadata": {},
     "output_type": "execute_result"
    }
   ],
   "source": [
    "np.concatenate((na2, na3), axis=1)"
   ]
  },
  {
   "cell_type": "code",
   "execution_count": 81,
   "id": "d33b68a5",
   "metadata": {},
   "outputs": [
    {
     "data": {
      "text/plain": [
       "array([[1, 4],\n",
       "       [2, 5],\n",
       "       [3, 6]])"
      ]
     },
     "execution_count": 81,
     "metadata": {},
     "output_type": "execute_result"
    }
   ],
   "source": [
    "# c_, r_ 로도 결합이 가능\n",
    "np.c_[np.array([1,2,3]), np.array([4,5,6])]"
   ]
  },
  {
   "cell_type": "code",
   "execution_count": 82,
   "id": "14e24c3f",
   "metadata": {},
   "outputs": [
    {
     "data": {
      "text/plain": [
       "array([1, 2, 3, 4, 5, 6])"
      ]
     },
     "execution_count": 82,
     "metadata": {},
     "output_type": "execute_result"
    }
   ],
   "source": [
    "np.r_[np.array([1,2,3]), np.array([4,5,6])]"
   ]
  }
 ],
 "metadata": {
  "kernelspec": {
   "display_name": "Python 3",
   "language": "python",
   "name": "python3"
  },
  "language_info": {
   "codemirror_mode": {
    "name": "ipython",
    "version": 3
   },
   "file_extension": ".py",
   "mimetype": "text/x-python",
   "name": "python",
   "nbconvert_exporter": "python",
   "pygments_lexer": "ipython3",
   "version": "3.8.8"
  }
 },
 "nbformat": 4,
 "nbformat_minor": 5
}
