{
 "cells": [
  {
   "cell_type": "code",
   "execution_count": 8,
   "id": "dc2f04b7",
   "metadata": {},
   "outputs": [],
   "source": [
    "import numpy as np\n",
    "\n",
    "data1 = np.array([80, 85, 100, 90, 95])\n",
    "data2 = np.array([70, 80, 100, 95, 95])"
   ]
  },
  {
   "cell_type": "code",
   "execution_count": 4,
   "id": "c85c9bf7",
   "metadata": {},
   "outputs": [],
   "source": [
    "# variance code\n",
    "\n",
    "def variance(data):\n",
    "    \n",
    "    avg = np.average(data)\n",
    "    var = 0\n",
    "    \n",
    "    for num in data:\n",
    "        var += (num - avg)**2\n",
    "        \n",
    "    return var/len(data)"
   ]
  },
  {
   "cell_type": "code",
   "execution_count": 8,
   "id": "24f7b6cd",
   "metadata": {},
   "outputs": [
    {
     "data": {
      "text/plain": [
       "(50.0, 126.0, 7.0710678118654755, 11.224972160321824)"
      ]
     },
     "execution_count": 8,
     "metadata": {},
     "output_type": "execute_result"
    }
   ],
   "source": [
    "variance(data1), variance(data2), variance(data1)**0.5, variance(data2)**0.5"
   ]
  },
  {
   "cell_type": "code",
   "execution_count": 9,
   "id": "fd742b8b",
   "metadata": {},
   "outputs": [
    {
     "data": {
      "text/plain": [
       "(50.0, 126.0, 7.0710678118654755, 11.224972160321824)"
      ]
     },
     "execution_count": 9,
     "metadata": {},
     "output_type": "execute_result"
    }
   ],
   "source": [
    "np.var(data1), np.var(data2), np.std(data1), np.std(data2)"
   ]
  },
  {
   "cell_type": "code",
   "execution_count": 10,
   "id": "247adb93",
   "metadata": {},
   "outputs": [
    {
     "data": {
      "text/plain": [
       "array([93, 74, 74, 79, 68])"
      ]
     },
     "execution_count": 10,
     "metadata": {},
     "output_type": "execute_result"
    }
   ],
   "source": [
    "p_data1 = np.random.randint(60, 100, int(1E5))\n",
    "p_data2 = np.random.randint(60, 100, int(1E5))\n",
    "p_data2[-5:]"
   ]
  },
  {
   "cell_type": "code",
   "execution_count": 13,
   "id": "53d1adb1",
   "metadata": {},
   "outputs": [
    {
     "name": "stdout",
     "output_type": "stream",
     "text": [
      "Wall time: 0 ns\n"
     ]
    },
    {
     "data": {
      "text/plain": [
       "(133.22178033511045, 133.41952859110128)"
      ]
     },
     "execution_count": 13,
     "metadata": {},
     "output_type": "execute_result"
    }
   ],
   "source": [
    "# 일반함수\n",
    "\n",
    "%time\n",
    "variance(p_data1), variance(p_data2)"
   ]
  },
  {
   "cell_type": "code",
   "execution_count": 14,
   "id": "3af6828e",
   "metadata": {},
   "outputs": [
    {
     "name": "stdout",
     "output_type": "stream",
     "text": [
      "Wall time: 0 ns\n"
     ]
    },
    {
     "data": {
      "text/plain": [
       "(133.22178033510002, 133.4195285911)"
      ]
     },
     "execution_count": 14,
     "metadata": {},
     "output_type": "execute_result"
    }
   ],
   "source": [
    "# numpy\n",
    "\n",
    "%time\n",
    "np.var(p_data1), np.var(p_data2)"
   ]
  },
  {
   "cell_type": "code",
   "execution_count": 31,
   "id": "20ce6553",
   "metadata": {},
   "outputs": [],
   "source": [
    "def covariance(data_1, data_2):\n",
    "    avg1 = np.average(data_1)\n",
    "    avg2 = np.average(data_2)\n",
    "    covar = 0\n",
    "    \n",
    "    for num in data_1, data_2:\n",
    "        covar += (num1 - avg1)(num2 - avg2)\n",
    "        \n",
    "    return covar/len(data_1)-1"
   ]
  },
  {
   "cell_type": "code",
   "execution_count": 32,
   "id": "96a1e3cd",
   "metadata": {},
   "outputs": [
    {
     "ename": "ValueError",
     "evalue": "too many values to unpack (expected 2)",
     "output_type": "error",
     "traceback": [
      "\u001b[1;31m---------------------------------------------------------------------------\u001b[0m",
      "\u001b[1;31mValueError\u001b[0m                                Traceback (most recent call last)",
      "\u001b[1;32m<ipython-input-32-d3810d13b2f9>\u001b[0m in \u001b[0;36m<module>\u001b[1;34m\u001b[0m\n\u001b[1;32m----> 1\u001b[1;33m \u001b[0mcovariance\u001b[0m\u001b[1;33m(\u001b[0m\u001b[0mdata1\u001b[0m\u001b[1;33m,\u001b[0m \u001b[0mdata2\u001b[0m\u001b[1;33m)\u001b[0m\u001b[1;33m\u001b[0m\u001b[1;33m\u001b[0m\u001b[0m\n\u001b[0m",
      "\u001b[1;32m<ipython-input-31-f9c89df0899c>\u001b[0m in \u001b[0;36mcovariance\u001b[1;34m(data_1, data_2)\u001b[0m\n\u001b[0;32m      4\u001b[0m     \u001b[0mcovar\u001b[0m \u001b[1;33m=\u001b[0m \u001b[1;36m0\u001b[0m\u001b[1;33m\u001b[0m\u001b[1;33m\u001b[0m\u001b[0m\n\u001b[0;32m      5\u001b[0m \u001b[1;33m\u001b[0m\u001b[0m\n\u001b[1;32m----> 6\u001b[1;33m     \u001b[1;32mfor\u001b[0m \u001b[0mnum1\u001b[0m\u001b[1;33m,\u001b[0m \u001b[0mnum2\u001b[0m \u001b[1;32min\u001b[0m \u001b[0mdata_1\u001b[0m\u001b[1;33m,\u001b[0m \u001b[0mdata_2\u001b[0m\u001b[1;33m:\u001b[0m\u001b[1;33m\u001b[0m\u001b[1;33m\u001b[0m\u001b[0m\n\u001b[0m\u001b[0;32m      7\u001b[0m         \u001b[0mcovar\u001b[0m \u001b[1;33m+=\u001b[0m \u001b[1;33m(\u001b[0m\u001b[0mnum1\u001b[0m \u001b[1;33m-\u001b[0m \u001b[0mavg1\u001b[0m\u001b[1;33m)\u001b[0m\u001b[1;33m(\u001b[0m\u001b[0mnum2\u001b[0m \u001b[1;33m-\u001b[0m \u001b[0mavg2\u001b[0m\u001b[1;33m)\u001b[0m\u001b[1;33m\u001b[0m\u001b[1;33m\u001b[0m\u001b[0m\n\u001b[0;32m      8\u001b[0m \u001b[1;33m\u001b[0m\u001b[0m\n",
      "\u001b[1;31mValueError\u001b[0m: too many values to unpack (expected 2)"
     ]
    }
   ],
   "source": [
    "covariance(data1, data2)"
   ]
  },
  {
   "cell_type": "code",
   "execution_count": 29,
   "id": "9628e88f",
   "metadata": {},
   "outputs": [],
   "source": [
    "data1 = np.array([80, 85, 100, 90, 95])\n",
    "data2 = np.array([70, 80, 100, 95, 95])\n",
    "data3 = np.array([80, 85, 100, 90, 95])\n",
    "data4 = np.array([100, 90, 70, 90, 80])"
   ]
  },
  {
   "cell_type": "code",
   "execution_count": 25,
   "id": "5b1cf19d",
   "metadata": {},
   "outputs": [
    {
     "data": {
      "text/plain": [
       "array([[ 62.5 ,  93.75],\n",
       "       [ 93.75, 157.5 ]])"
      ]
     },
     "execution_count": 25,
     "metadata": {},
     "output_type": "execute_result"
    }
   ],
   "source": [
    "np.cov(data1, data2)\n",
    "#[data1과 data1, data1과 data2],\n",
    "#[data2와 data1, data2와 data2]"
   ]
  },
  {
   "cell_type": "code",
   "execution_count": 26,
   "id": "0b867b52",
   "metadata": {},
   "outputs": [
    {
     "data": {
      "text/plain": [
       "93.75"
      ]
     },
     "execution_count": 26,
     "metadata": {},
     "output_type": "execute_result"
    }
   ],
   "source": [
    "np.cov(data1, data2)[0, 1]"
   ]
  },
  {
   "cell_type": "code",
   "execution_count": 30,
   "id": "a2bee10b",
   "metadata": {},
   "outputs": [
    {
     "data": {
      "text/plain": [
       "-87.5"
      ]
     },
     "execution_count": 30,
     "metadata": {},
     "output_type": "execute_result"
    }
   ],
   "source": [
    "np.cov(data3, data4)[0, 1]"
   ]
  },
  {
   "cell_type": "code",
   "execution_count": 41,
   "id": "e4ef444c",
   "metadata": {},
   "outputs": [
    {
     "data": {
      "text/plain": [
       "-8750.0"
      ]
     },
     "execution_count": 41,
     "metadata": {},
     "output_type": "execute_result"
    }
   ],
   "source": [
    "data5 = np.array([800, 850, 1000, 900, 950])\n",
    "data6 = np.array([1000, 900, 700, 900, 800])\n",
    "np.cov(data5, data6)[0, 1]"
   ]
  },
  {
   "cell_type": "code",
   "execution_count": 42,
   "id": "95958c15",
   "metadata": {},
   "outputs": [
    {
     "data": {
      "text/plain": [
       "(0.9449111825230682, -0.970725343394151, -0.970725343394151)"
      ]
     },
     "execution_count": 42,
     "metadata": {},
     "output_type": "execute_result"
    }
   ],
   "source": [
    "# correlation coefficient function\n",
    "\n",
    "np.corrcoef(data1, data2)[0, 1],\\\n",
    "np.corrcoef(data3, data4)[0, 1],\\\n",
    "np.corrcoef(data5, data6)[0, 1]"
   ]
  },
  {
   "cell_type": "code",
   "execution_count": 43,
   "id": "6b556abb",
   "metadata": {},
   "outputs": [
    {
     "data": {
      "text/plain": [
       "(0.892857142857143, 0.9423076923076923)"
      ]
     },
     "execution_count": 43,
     "metadata": {},
     "output_type": "execute_result"
    }
   ],
   "source": [
    "np.corrcoef(data1, data2)[0, 1] ** 2,\\\n",
    "np.corrcoef(data1, data4)[0, 1] ** 2"
   ]
  },
  {
   "cell_type": "markdown",
   "id": "dc4af44f",
   "metadata": {},
   "source": [
    "### 6. 프리미어리그 데이터 상관계수 분석\n",
    "- 2016년 프리미어리그 성적에서 득점과 실점 데이터 중에 승점에 영향을 더 많이 준 데이터는?"
   ]
  },
  {
   "cell_type": "code",
   "execution_count": 1,
   "id": "16885b38",
   "metadata": {},
   "outputs": [],
   "source": [
    "import pandas as pd"
   ]
  },
  {
   "cell_type": "code",
   "execution_count": 2,
   "id": "b676c1bf",
   "metadata": {},
   "outputs": [
    {
     "name": "stdout",
     "output_type": "stream",
     "text": [
      "2014_p.csv\n",
      "2014_s.csv\n",
      "premierleague.csv\n",
      "train.csv\n"
     ]
    }
   ],
   "source": [
    "!ls datas"
   ]
  },
  {
   "cell_type": "code",
   "execution_count": 4,
   "id": "1b83d254",
   "metadata": {
    "scrolled": true
   },
   "outputs": [
    {
     "data": {
      "text/html": [
       "<div>\n",
       "<style scoped>\n",
       "    .dataframe tbody tr th:only-of-type {\n",
       "        vertical-align: middle;\n",
       "    }\n",
       "\n",
       "    .dataframe tbody tr th {\n",
       "        vertical-align: top;\n",
       "    }\n",
       "\n",
       "    .dataframe thead th {\n",
       "        text-align: right;\n",
       "    }\n",
       "</style>\n",
       "<table border=\"1\" class=\"dataframe\">\n",
       "  <thead>\n",
       "    <tr style=\"text-align: right;\">\n",
       "      <th></th>\n",
       "      <th>name</th>\n",
       "      <th>gf</th>\n",
       "      <th>ga</th>\n",
       "      <th>points</th>\n",
       "    </tr>\n",
       "  </thead>\n",
       "  <tbody>\n",
       "    <tr>\n",
       "      <th>15</th>\n",
       "      <td>Huddersfield Town</td>\n",
       "      <td>28</td>\n",
       "      <td>58</td>\n",
       "      <td>37</td>\n",
       "    </tr>\n",
       "    <tr>\n",
       "      <th>16</th>\n",
       "      <td>Southampton</td>\n",
       "      <td>37</td>\n",
       "      <td>56</td>\n",
       "      <td>36</td>\n",
       "    </tr>\n",
       "    <tr>\n",
       "      <th>17</th>\n",
       "      <td>Swansea City</td>\n",
       "      <td>28</td>\n",
       "      <td>56</td>\n",
       "      <td>33</td>\n",
       "    </tr>\n",
       "    <tr>\n",
       "      <th>18</th>\n",
       "      <td>Stoke City</td>\n",
       "      <td>35</td>\n",
       "      <td>68</td>\n",
       "      <td>33</td>\n",
       "    </tr>\n",
       "    <tr>\n",
       "      <th>19</th>\n",
       "      <td>West Bromwich Albion</td>\n",
       "      <td>31</td>\n",
       "      <td>56</td>\n",
       "      <td>31</td>\n",
       "    </tr>\n",
       "  </tbody>\n",
       "</table>\n",
       "</div>"
      ],
      "text/plain": [
       "                    name  gf  ga  points\n",
       "15     Huddersfield Town  28  58      37\n",
       "16           Southampton  37  56      36\n",
       "17          Swansea City  28  56      33\n",
       "18            Stoke City  35  68      33\n",
       "19  West Bromwich Albion  31  56      31"
      ]
     },
     "execution_count": 4,
     "metadata": {},
     "output_type": "execute_result"
    }
   ],
   "source": [
    "df = pd.read_csv(\"datas/premierleague.csv\")\n",
    "df.tail()"
   ]
  },
  {
   "cell_type": "code",
   "execution_count": 9,
   "id": "e9e3225a",
   "metadata": {},
   "outputs": [
    {
     "data": {
      "text/plain": [
       "array([106,  68,  74,  84,  62,  74,  36,  44,  56,  39,  45,  45,  48,\n",
       "        44,  34,  28,  37,  28,  35,  31], dtype=int64)"
      ]
     },
     "execution_count": 9,
     "metadata": {},
     "output_type": "execute_result"
    }
   ],
   "source": [
    "# 득점\n",
    "gf = np.array(df[\"gf\"])\n",
    "gf"
   ]
  },
  {
   "cell_type": "code",
   "execution_count": 11,
   "id": "bc3a63d4",
   "metadata": {},
   "outputs": [
    {
     "data": {
      "text/plain": [
       "array([27, 28, 36, 38, 38, 51, 39, 58, 60, 47, 55, 61, 68, 64, 54, 58, 56,\n",
       "       56, 68, 56], dtype=int64)"
      ]
     },
     "execution_count": 11,
     "metadata": {},
     "output_type": "execute_result"
    }
   ],
   "source": [
    "# 실점\n",
    "ga = np.array(df[\"ga\"])\n",
    "ga"
   ]
  },
  {
   "cell_type": "code",
   "execution_count": 10,
   "id": "b0274497",
   "metadata": {},
   "outputs": [
    {
     "data": {
      "text/plain": [
       "array([100,  81,  77,  75,  70,  63,  54,  49,  47,  44,  44,  44,  42,\n",
       "        41,  40,  37,  36,  33,  33,  31], dtype=int64)"
      ]
     },
     "execution_count": 10,
     "metadata": {},
     "output_type": "execute_result"
    }
   ],
   "source": [
    "# 승점\n",
    "points = np.array(df[\"points\"])\n",
    "points"
   ]
  },
  {
   "cell_type": "code",
   "execution_count": 15,
   "id": "90b58f27",
   "metadata": {},
   "outputs": [],
   "source": [
    "data1, data2 = np.corrcoef(gf, points)[0, 1] ** 2, np.corrcoef(ga, points)[0, 1] ** 2"
   ]
  },
  {
   "cell_type": "code",
   "execution_count": 16,
   "id": "838293cd",
   "metadata": {},
   "outputs": [
    {
     "data": {
      "text/plain": [
       "(0.87, 0.76)"
      ]
     },
     "execution_count": 16,
     "metadata": {},
     "output_type": "execute_result"
    }
   ],
   "source": [
    "round(data1, 2), round(data2, 2)"
   ]
  },
  {
   "cell_type": "code",
   "execution_count": null,
   "id": "6367947b",
   "metadata": {},
   "outputs": [],
   "source": []
  }
 ],
 "metadata": {
  "kernelspec": {
   "display_name": "Python 3",
   "language": "python",
   "name": "python3"
  },
  "language_info": {
   "codemirror_mode": {
    "name": "ipython",
    "version": 3
   },
   "file_extension": ".py",
   "mimetype": "text/x-python",
   "name": "python",
   "nbconvert_exporter": "python",
   "pygments_lexer": "ipython3",
   "version": "3.8.8"
  }
 },
 "nbformat": 4,
 "nbformat_minor": 5
}
