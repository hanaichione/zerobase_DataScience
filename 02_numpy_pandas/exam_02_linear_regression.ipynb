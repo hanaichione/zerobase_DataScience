{
 "cells": [
  {
   "cell_type": "markdown",
   "id": "fb90779b",
   "metadata": {},
   "source": [
    "### 선형회귀 분석\n",
    "- 프리미어리그 데이터(득점, 실점, 승점)\n",
    "- 득점, 실점 -> 승점 예측하는 모델\n",
    "- scikit-earn 패키지\n",
    "    - 데이터 마이닝 및 데이터 분석, 모델을 위한 도구\n",
    "    - 상업적 사용이 가능한 오픈 소스"
   ]
  },
  {
   "cell_type": "code",
   "execution_count": 3,
   "id": "5c9b5d7d",
   "metadata": {},
   "outputs": [],
   "source": [
    "import pickle\n",
    "# 선형회귀 모델\n",
    "from sklearn import linear_model\n",
    "# 학습 데이터와 테스트 데이터를 나눠주는 모델\n",
    "from sklearn.model_selection import train_test_split\n",
    "# 모델을 평가해주는 모델\n",
    "from sklearn.metrics import mean_absolute_error"
   ]
  },
  {
   "cell_type": "markdown",
   "id": "831c34ba",
   "metadata": {},
   "source": [
    "### 분석 절차\n",
    "- 데이터 로드\n",
    "- 데이터 전처리\n",
    "    - 독립변수와 종속변수를 나눠줌\n",
    "    - 학습 데이터와 테스트 데이터를 나눠줌\n",
    "- 데이터 분석 : 선형 회귀 모델\n",
    "- 성능 평가 : MAE\n",
    "- 예측 코드 작성"
   ]
  },
  {
   "cell_type": "code",
   "execution_count": 5,
   "id": "edd1d209",
   "metadata": {},
   "outputs": [
    {
     "data": {
      "text/html": [
       "<div>\n",
       "<style scoped>\n",
       "    .dataframe tbody tr th:only-of-type {\n",
       "        vertical-align: middle;\n",
       "    }\n",
       "\n",
       "    .dataframe tbody tr th {\n",
       "        vertical-align: top;\n",
       "    }\n",
       "\n",
       "    .dataframe thead th {\n",
       "        text-align: right;\n",
       "    }\n",
       "</style>\n",
       "<table border=\"1\" class=\"dataframe\">\n",
       "  <thead>\n",
       "    <tr style=\"text-align: right;\">\n",
       "      <th></th>\n",
       "      <th>name</th>\n",
       "      <th>gf</th>\n",
       "      <th>ga</th>\n",
       "      <th>points</th>\n",
       "    </tr>\n",
       "  </thead>\n",
       "  <tbody>\n",
       "    <tr>\n",
       "      <th>19</th>\n",
       "      <td>West Bromwich Albion</td>\n",
       "      <td>31</td>\n",
       "      <td>56</td>\n",
       "      <td>31</td>\n",
       "    </tr>\n",
       "  </tbody>\n",
       "</table>\n",
       "</div>"
      ],
      "text/plain": [
       "                    name  gf  ga  points\n",
       "19  West Bromwich Albion  31  56      31"
      ]
     },
     "execution_count": 5,
     "metadata": {},
     "output_type": "execute_result"
    }
   ],
   "source": [
    "# 1. 데이터 로드\n",
    "p_df = pd.read_csv(\"datas/premierleague.csv\")\n",
    "p_df.tail(1)"
   ]
  },
  {
   "cell_type": "code",
   "execution_count": 6,
   "id": "2b1788f9",
   "metadata": {},
   "outputs": [],
   "source": [
    "# 2. 데이터 전처리1 : 독립변수, 종속변수 나누기\n",
    "df_x = p_df[[\"gf\", \"ga\"]]\n",
    "df_y = p_df[[\"points\"]]"
   ]
  },
  {
   "cell_type": "code",
   "execution_count": 7,
   "id": "8c06724e",
   "metadata": {},
   "outputs": [],
   "source": [
    "# 2. 데이터 전처리2 : 학습 데이터와 테스트 데이터로 나누기\n",
    "train_x, test_x, train_y, test_y = train_test_split(df_x, df_y, test_size=0.3, random_state=1)\n",
    "# 위부터 끊어주면 성적순으로 끊기기 때문에 random_state=1로 씨드 값 주는 것"
   ]
  },
  {
   "cell_type": "code",
   "execution_count": 8,
   "id": "74234bdd",
   "metadata": {},
   "outputs": [
    {
     "data": {
      "text/plain": [
       "14"
      ]
     },
     "execution_count": 8,
     "metadata": {},
     "output_type": "execute_result"
    }
   ],
   "source": [
    "len(train_x)"
   ]
  },
  {
   "cell_type": "code",
   "execution_count": 9,
   "id": "8eb1129c",
   "metadata": {},
   "outputs": [],
   "source": [
    "# 3. 데이터 분석 : 선형 회귀 모델\n",
    "model = linear_model.LinearRegression() # 객체생성"
   ]
  },
  {
   "cell_type": "code",
   "execution_count": 10,
   "id": "cad3ab5f",
   "metadata": {},
   "outputs": [],
   "source": [
    "# class tmp(linear_model.LinearRegression): tmp는 위의 기능이랑 추가된 기능도 같이 가지고 있다고 뭔 소리야..."
   ]
  },
  {
   "cell_type": "code",
   "execution_count": 11,
   "id": "ad84cc8c",
   "metadata": {},
   "outputs": [
    {
     "data": {
      "text/plain": [
       "LinearRegression()"
      ]
     },
     "execution_count": 11,
     "metadata": {},
     "output_type": "execute_result"
    }
   ],
   "source": [
    "model.fit(train_x, train_y) # 학습시키는 함수, 학습 결과는 객체 안에 저장됨"
   ]
  },
  {
   "cell_type": "code",
   "execution_count": 12,
   "id": "0ee0791c",
   "metadata": {},
   "outputs": [],
   "source": [
    "# 4. 성능 평가 : MAE(Mean Absolute Error)"
   ]
  },
  {
   "cell_type": "code",
   "execution_count": 13,
   "id": "677c5853",
   "metadata": {},
   "outputs": [
    {
     "data": {
      "text/plain": [
       "array([[80.88065736],\n",
       "       [40.79778662],\n",
       "       [50.9467527 ],\n",
       "       [46.31419247],\n",
       "       [76.04209484],\n",
       "       [40.23228639]])"
      ]
     },
     "execution_count": 13,
     "metadata": {},
     "output_type": "execute_result"
    }
   ],
   "source": [
    "pred_y = model.predict(test_x)\n",
    "pred_y"
   ]
  },
  {
   "cell_type": "code",
   "execution_count": 14,
   "id": "2a91a829",
   "metadata": {},
   "outputs": [
    {
     "data": {
      "text/plain": [
       "array([75, 36, 54, 44, 77, 40], dtype=int64)"
      ]
     },
     "execution_count": 14,
     "metadata": {},
     "output_type": "execute_result"
    }
   ],
   "source": [
    "test_y[\"points\"].values\n",
    "# 예측데이터 80, 실데이터75 순으로 때려맞췄음"
   ]
  },
  {
   "cell_type": "code",
   "execution_count": 15,
   "id": "68946a20",
   "metadata": {},
   "outputs": [
    {
     "data": {
      "text/plain": [
       "array([81, 41, 51, 46, 76, 40])"
      ]
     },
     "execution_count": 15,
     "metadata": {},
     "output_type": "execute_result"
    }
   ],
   "source": [
    "pred_y = np.around(pred_y.flatten()).astype(\"int\")\n",
    "# flatten() 차원을 축소시켜주는 함수\n",
    "pred_y"
   ]
  },
  {
   "cell_type": "code",
   "execution_count": 16,
   "id": "ea0722af",
   "metadata": {},
   "outputs": [
    {
     "data": {
      "text/plain": [
       "2.83"
      ]
     },
     "execution_count": 16,
     "metadata": {},
     "output_type": "execute_result"
    }
   ],
   "source": [
    "mae = mean_absolute_error(test_y, pred_y)\n",
    "round(mae, 2)"
   ]
  },
  {
   "cell_type": "code",
   "execution_count": 17,
   "id": "906f6e79",
   "metadata": {},
   "outputs": [],
   "source": [
    "# 5. 예측 함수\n",
    "\n",
    "def make_df(gf, ga):\n",
    "    return pd.DataFrame({\"gf\":[gf], \"ga\":[ga]})"
   ]
  },
  {
   "cell_type": "code",
   "execution_count": 18,
   "id": "201019df",
   "metadata": {},
   "outputs": [
    {
     "data": {
      "text/plain": [
       "83"
      ]
     },
     "execution_count": 18,
     "metadata": {},
     "output_type": "execute_result"
    }
   ],
   "source": [
    "gf, ga = 80, 30\n",
    "# Tottenham 이 승점 6점 더, 실점 6점 덜 했으면 83점 얻었을 거다를 예측\n",
    "result = int(model.predict(make_df(gf, ga)).flatten()[0])\n",
    "result"
   ]
  },
  {
   "cell_type": "code",
   "execution_count": 19,
   "id": "b5a24a9a",
   "metadata": {},
   "outputs": [
    {
     "data": {
      "text/html": [
       "<div>\n",
       "<style scoped>\n",
       "    .dataframe tbody tr th:only-of-type {\n",
       "        vertical-align: middle;\n",
       "    }\n",
       "\n",
       "    .dataframe tbody tr th {\n",
       "        vertical-align: top;\n",
       "    }\n",
       "\n",
       "    .dataframe thead th {\n",
       "        text-align: right;\n",
       "    }\n",
       "</style>\n",
       "<table border=\"1\" class=\"dataframe\">\n",
       "  <thead>\n",
       "    <tr style=\"text-align: right;\">\n",
       "      <th></th>\n",
       "      <th>name</th>\n",
       "      <th>gf</th>\n",
       "      <th>ga</th>\n",
       "      <th>points</th>\n",
       "    </tr>\n",
       "  </thead>\n",
       "  <tbody>\n",
       "    <tr>\n",
       "      <th>0</th>\n",
       "      <td>Manchester City</td>\n",
       "      <td>106</td>\n",
       "      <td>27</td>\n",
       "      <td>100</td>\n",
       "    </tr>\n",
       "    <tr>\n",
       "      <th>1</th>\n",
       "      <td>Manchester United</td>\n",
       "      <td>68</td>\n",
       "      <td>28</td>\n",
       "      <td>81</td>\n",
       "    </tr>\n",
       "    <tr>\n",
       "      <th>2</th>\n",
       "      <td>Tottenham Hotspur</td>\n",
       "      <td>74</td>\n",
       "      <td>36</td>\n",
       "      <td>77</td>\n",
       "    </tr>\n",
       "    <tr>\n",
       "      <th>3</th>\n",
       "      <td>Liverpool</td>\n",
       "      <td>84</td>\n",
       "      <td>38</td>\n",
       "      <td>75</td>\n",
       "    </tr>\n",
       "    <tr>\n",
       "      <th>4</th>\n",
       "      <td>Chelsea</td>\n",
       "      <td>62</td>\n",
       "      <td>38</td>\n",
       "      <td>70</td>\n",
       "    </tr>\n",
       "  </tbody>\n",
       "</table>\n",
       "</div>"
      ],
      "text/plain": [
       "                name   gf  ga  points\n",
       "0    Manchester City  106  27     100\n",
       "1  Manchester United   68  28      81\n",
       "2  Tottenham Hotspur   74  36      77\n",
       "3          Liverpool   84  38      75\n",
       "4            Chelsea   62  38      70"
      ]
     },
     "execution_count": 19,
     "metadata": {},
     "output_type": "execute_result"
    }
   ],
   "source": [
    "p_df.head()"
   ]
  },
  {
   "cell_type": "code",
   "execution_count": 24,
   "id": "ce6c6e3c",
   "metadata": {},
   "outputs": [],
   "source": [
    "# pickle 파일로 모델 저장하기/ 객체 저장할 때 피클로 저장하기!\n",
    "with open(\"datas/p_model.pkl\", \"wb\") as f:\n",
    "    pickle.dump(model, f)\n",
    "    # 저장 안 하면 매번 fit 해줘야 함"
   ]
  },
  {
   "cell_type": "code",
   "execution_count": 25,
   "id": "12685b6e",
   "metadata": {},
   "outputs": [],
   "source": [
    "with open(\"datas/p_model.pkl\", \"rb\") as f:\n",
    "    load_model = pickle.load(f)"
   ]
  },
  {
   "cell_type": "code",
   "execution_count": 26,
   "id": "9ef82fc5",
   "metadata": {},
   "outputs": [
    {
     "data": {
      "text/plain": [
       "83"
      ]
     },
     "execution_count": 26,
     "metadata": {},
     "output_type": "execute_result"
    }
   ],
   "source": [
    "gf, ga = 80, 30\n",
    "result = int(load_model.predict(make_df(gf, ga)).flatten()[0])\n",
    "result"
   ]
  },
  {
   "cell_type": "code",
   "execution_count": null,
   "id": "ecc22578",
   "metadata": {},
   "outputs": [],
   "source": []
  }
 ],
 "metadata": {
  "kernelspec": {
   "display_name": "Python 3",
   "language": "python",
   "name": "python3"
  },
  "language_info": {
   "codemirror_mode": {
    "name": "ipython",
    "version": 3
   },
   "file_extension": ".py",
   "mimetype": "text/x-python",
   "name": "python",
   "nbconvert_exporter": "python",
   "pygments_lexer": "ipython3",
   "version": "3.8.8"
  }
 },
 "nbformat": 4,
 "nbformat_minor": 5
}
